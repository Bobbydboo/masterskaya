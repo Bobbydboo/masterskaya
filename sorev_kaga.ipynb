{
 "cells": [
  {
   "cell_type": "markdown",
   "id": "fc4cf309",
   "metadata": {
    "toc": true
   },
   "source": [
    "<h1>Table of Contents<span class=\"tocSkip\"></span></h1>\n",
    "<div class=\"toc\"><ul class=\"toc-item\"><li><span><a href=\"#Ссылка-на-Git\" data-toc-modified-id=\"Ссылка-на-Git-1\"><span class=\"toc-item-num\">1&nbsp;&nbsp;</span>Ссылка на Git</a></span></li><li><span><a href=\"#Описание-проекта\" data-toc-modified-id=\"Описание-проекта-2\"><span class=\"toc-item-num\">2&nbsp;&nbsp;</span>Описание проекта</a></span></li><li><span><a href=\"#Описание-полей-данных\" data-toc-modified-id=\"Описание-полей-данных-3\"><span class=\"toc-item-num\">3&nbsp;&nbsp;</span>Описание полей данных</a></span></li><li><span><a href=\"#Импорт-библиотек\" data-toc-modified-id=\"Импорт-библиотек-4\"><span class=\"toc-item-num\">4&nbsp;&nbsp;</span>Импорт библиотек</a></span></li><li><span><a href=\"#Шаг-1.-Откройте-файлы-с-данными\" data-toc-modified-id=\"Шаг-1.-Откройте-файлы-с-данными-5\"><span class=\"toc-item-num\">5&nbsp;&nbsp;</span>Шаг 1. Откройте файлы с данными</a></span></li><li><span><a href=\"#Шаг-2.-Предобработка-и-исследовательский-анализ-данных\" data-toc-modified-id=\"Шаг-2.-Предобработка-и-исследовательский-анализ-данных-6\"><span class=\"toc-item-num\">6&nbsp;&nbsp;</span>Шаг 2. Предобработка и исследовательский анализ данных</a></span></li><li><span><a href=\"#Шаг-3.-Формулировка-ML-задачи-на-основе-бизнес-задачи\" data-toc-modified-id=\"Шаг-3.-Формулировка-ML-задачи-на-основе-бизнес-задачи-7\"><span class=\"toc-item-num\">7&nbsp;&nbsp;</span>Шаг 3. Формулировка ML-задачи на основе бизнес-задачи</a></span></li><li><span><a href=\"#Корелляционная-матрица\" data-toc-modified-id=\"Корелляционная-матрица-8\"><span class=\"toc-item-num\">8&nbsp;&nbsp;</span>Корелляционная матрица</a></span></li><li><span><a href=\"#Формирование-X_train,X_valid,y_train,y_valid\" data-toc-modified-id=\"Формирование-X_train,X_valid,y_train,y_valid-9\"><span class=\"toc-item-num\">9&nbsp;&nbsp;</span>Формирование X_train,X_valid,y_train,y_valid</a></span></li><li><span><a href=\"#Важность-признаков\" data-toc-modified-id=\"Важность-признаков-10\"><span class=\"toc-item-num\">10&nbsp;&nbsp;</span>Важность признаков</a></span></li><li><span><a href=\"#Подбор-параметров-моделей\" data-toc-modified-id=\"Подбор-параметров-моделей-11\"><span class=\"toc-item-num\">11&nbsp;&nbsp;</span>Подбор параметров моделей</a></span></li><li><span><a href=\"#Лучшие-параметры-для-моделей-ET-и-RF\" data-toc-modified-id=\"Лучшие-параметры-для-моделей-ET-и-RF-12\"><span class=\"toc-item-num\">12&nbsp;&nbsp;</span>Лучшие параметры для моделей ET и RF</a></span></li><li><span><a href=\"#Проверка-лучшей-модели-на-Тестовом-датасете\" data-toc-modified-id=\"Проверка-лучшей-модели-на-Тестовом-датасете-13\"><span class=\"toc-item-num\">13&nbsp;&nbsp;</span>Проверка лучшей модели на Тестовом датасете</a></span></li><li><span><a href=\"#Сохранение-предсказания-в-формате-csv\" data-toc-modified-id=\"Сохранение-предсказания-в-формате-csv-14\"><span class=\"toc-item-num\">14&nbsp;&nbsp;</span>Сохранение предсказания в формате csv</a></span></li><li><span><a href=\"#Итоговый-вывод\" data-toc-modified-id=\"Итоговый-вывод-15\"><span class=\"toc-item-num\">15&nbsp;&nbsp;</span>Итоговый вывод</a></span></li></ul></div>"
   ]
  },
  {
   "cell_type": "markdown",
   "id": "c11c2da2",
   "metadata": {},
   "source": [
    "# Ссылка на Git\n",
    "\n",
    "https://github.com/Bobbydboo/masterskaya"
   ]
  },
  {
   "cell_type": "markdown",
   "id": "95a98e4e",
   "metadata": {},
   "source": [
    "# Описание проекта\n",
    "Вы сотрудник Отдела Data Science популярного музыкального стримингового сервиса \"МиФаСоль\". Сервис расширяет работу с новыми артистами и музыкантами, в связи с чем возникла задача -- правильно классифицировать новые музыкальные треки, чтобы улучшить работу рекомендательной системы. Ваши коллеги из отдела работы со звуком подготовили датасет, в котором собраны некоторые характеристики музыкальных произведений и их жанры. Ваша задача -- разработать модель, позволяющую классифицировать музыкальные произведения по жанрам.\n",
    "\n",
    "В ходе работы в пройдете все основные этапы полноценного исследования:\n",
    "загрузка и ознакомление с данными,\n",
    "предварительная обработка,\n",
    "полноценный разведочный анализ,\n",
    "разработка новых синтетических признаков,\n",
    "проверка на мультиколлинеарность,\n",
    "отбор финального набора обучающих признаков,\n",
    "выбор и обучение моделей,\n",
    "итоговая оценка качества предсказания лучшей модели,\n",
    "анализ важности ее признаков.\n",
    "Дополнительное задание\n",
    "\n",
    "Для тех, кому этого покажется мало у нас есть дополнительное задание — реализовать решение с использованием технологии pipeline (из библиотеки sklearn, imblearn).\n",
    "Подготовка отчета по исследованию. Если останется время можно подготовить полноценный отчет по исследовательской работе Дата Сайнтиста. \n",
    "\n",
    "Примеры хороших отчетов можно посмотреть на сайте Stanford University - отчеты по финальным проектам направления Machine Learning - https://cs229.stanford.edu/projects2014.html. Из примеров понятно наполнение отчета по исследованию, а так же, что главное - понятна сама структура отчета. В реальной работе именно такой формат отчета обычно завершает исследование.\n",
    "\n",
    "Мастерская будет проходить в виде соревнования на платформе Kaggle. Длительность — 2 недели. Для участников — это отличная возможность не только выполнить интересный проект, который можно будет добавить в свое портфолио, но и познакомиться с одной из самых популярных соревновательных Интернет-площадок, на которой можно исследовать и создавать модели, взаимодействовать с другими специалистами по данным, организовывать и участвовать в конкурсах, посвященных анализу данных и машинному обучению."
   ]
  },
  {
   "cell_type": "markdown",
   "id": "9efa4e61",
   "metadata": {},
   "source": [
    "# Описание полей данных\n",
    "\n",
    "instance_id -Уникальный идентификатор трека\n",
    "\n",
    "\n",
    "track_name - Название трека\n",
    "\n",
    "\n",
    "acousticness - Мера уверенности от 0,0 до 1,0 в том, что трек является акустическим. 1,0 означает высокую степень уверенности в том, что трек является акустическим.\n",
    "\n",
    "\n",
    "danceability - Танцевальность описывает, насколько трек подходит для танцев, основываясь на сочетании музыкальных элементов, включая темп, стабильность ритма, силу ударов и общую регулярность. Значение 0,0 означает наименьшую танцевальность, а 1,0 - наибольшую танцевальность.\n",
    "\n",
    "\n",
    "duration_ms - Продолжительность трека в миллисекундах.\n",
    "\n",
    "\n",
    "energy - Энергия это показатель от 0,0 до 1,0, представляющий собой меру интенсивности и активности. Как правило, энергичные композиции ощущаются как быстрые, громкие и шумные. Например, дэт-метал обладает высокой энергией, в то время как прелюдия Баха имеет низкую оценку этого параметра\n",
    "\n",
    "\n",
    "instrumentalness - Определяет, содержит ли трек вокал. Звуки \"Ooh\" и \"aah\" в данном контексте рассматриваются как инструментальные. Рэп или разговорные треки явно являются \"вокальными\". Чем ближе значение инструментальности к 1,0, тем больше вероятность того, что трек не содержит вокала\n",
    "\n",
    "\n",
    "key - базовый ключ (нота) произведения\n",
    "\n",
    "\n",
    "liveness - Определяет присутствие аудитории в записи. Более высокие значения liveness означают увеличение вероятности того, что трек был исполнен вживую. Значение выше 0,8 обеспечивает высокую вероятность того, что трек исполняется вживую\n",
    "loudness - Общая громкость трека в децибелах (дБ)\n",
    "\n",
    "\n",
    "mode - Указывает на модальность (мажорную или минорную) трека\n",
    "\n",
    "\n",
    "speechiness - Речевой характер определяет наличие в треке разговорной речи. Чем более исключительно речевой характер носит запись (например, ток-шоу, аудиокнига, поэзия), тем ближе значение атрибута к 1,0. Значения выше 0,66 характеризуют треки, которые, вероятно, полностью состоят из разговорной речи. Значения от 0,33 до 0,66 характеризуют треки, которые могут содержать как музыку, так и речь, как в виде фрагментов, так и в виде слоев, включая такие случаи, как рэп-музыка. Значения ниже 0,33, скорее всего, представляют музыку и другие неречевые треки.\n",
    "\n",
    "\n",
    "tempo - Темп трека в ударах в минуту (BPM). В музыкальной терминологии темп представляет собой скорость или темп данного произведения и напрямую зависит от средней продолжительности тактов\n",
    "\n",
    "\n",
    "obtained_date - дата загрузки в сервис\n",
    "\n",
    "\n",
    "valence - Показатель от 0,0 до 1,0, характеризующий музыкальный позитив, передаваемый треком. Композиции с высокой валентностью звучат более позитивно (например, радостно, весело, эйфорично), а композиции с низкой валентностью - более негативно (например, грустно, депрессивно, сердито)\n",
    "\n",
    "\n",
    "music_genre - Музыкальный жанр трека"
   ]
  },
  {
   "cell_type": "markdown",
   "id": "9eea4bdd",
   "metadata": {},
   "source": [
    "# Импорт библиотек "
   ]
  },
  {
   "cell_type": "code",
   "execution_count": 1,
   "id": "454cb787",
   "metadata": {},
   "outputs": [
    {
     "name": "stdout",
     "output_type": "stream",
     "text": [
      "Requirement already satisfied: imbalanced-learn in c:\\users\\admin\\anaconda3\\lib\\site-packages (0.11.0)\n",
      "Requirement already satisfied: threadpoolctl>=2.0.0 in c:\\users\\admin\\anaconda3\\lib\\site-packages (from imbalanced-learn) (2.2.0)\n",
      "Requirement already satisfied: joblib>=1.1.1 in c:\\users\\admin\\anaconda3\\lib\\site-packages (from imbalanced-learn) (1.3.2)\n",
      "Requirement already satisfied: scipy>=1.5.0 in c:\\users\\admin\\anaconda3\\lib\\site-packages (from imbalanced-learn) (1.7.1)\n",
      "Requirement already satisfied: numpy>=1.17.3 in c:\\users\\admin\\anaconda3\\lib\\site-packages (from imbalanced-learn) (1.20.3)\n",
      "Requirement already satisfied: scikit-learn>=1.0.2 in c:\\users\\admin\\anaconda3\\lib\\site-packages (from imbalanced-learn) (1.3.2)\n",
      "Requirement already satisfied: scikit-learn in c:\\users\\admin\\anaconda3\\lib\\site-packages (1.3.2)\n",
      "Requirement already satisfied: joblib>=1.1.1 in c:\\users\\admin\\anaconda3\\lib\\site-packages (from scikit-learn) (1.3.2)\n",
      "Requirement already satisfied: numpy<2.0,>=1.17.3 in c:\\users\\admin\\anaconda3\\lib\\site-packages (from scikit-learn) (1.20.3)\n",
      "Requirement already satisfied: scipy>=1.5.0 in c:\\users\\admin\\anaconda3\\lib\\site-packages (from scikit-learn) (1.7.1)\n",
      "Requirement already satisfied: threadpoolctl>=2.0.0 in c:\\users\\admin\\anaconda3\\lib\\site-packages (from scikit-learn) (2.2.0)\n",
      "Requirement already satisfied: optuna in c:\\users\\admin\\anaconda3\\lib\\site-packages (3.3.0)\n",
      "Requirement already satisfied: tqdm in c:\\users\\admin\\anaconda3\\lib\\site-packages (from optuna) (4.62.3)\n",
      "Requirement already satisfied: colorlog in c:\\users\\admin\\anaconda3\\lib\\site-packages (from optuna) (6.7.0)\n",
      "Requirement already satisfied: sqlalchemy>=1.3.0 in c:\\users\\admin\\anaconda3\\lib\\site-packages (from optuna) (1.4.22)\n",
      "Requirement already satisfied: packaging>=20.0 in c:\\users\\admin\\anaconda3\\lib\\site-packages (from optuna) (23.1)\n",
      "Requirement already satisfied: alembic>=1.5.0 in c:\\users\\admin\\anaconda3\\lib\\site-packages (from optuna) (1.11.3)\n",
      "Requirement already satisfied: numpy in c:\\users\\admin\\anaconda3\\lib\\site-packages (from optuna) (1.20.3)\n",
      "Requirement already satisfied: cmaes>=0.10.0 in c:\\users\\admin\\anaconda3\\lib\\site-packages (from optuna) (0.10.0)\n",
      "Requirement already satisfied: PyYAML in c:\\users\\admin\\anaconda3\\lib\\site-packages (from optuna) (6.0)\n",
      "Requirement already satisfied: typing-extensions>=4 in c:\\users\\admin\\anaconda3\\lib\\site-packages (from alembic>=1.5.0->optuna) (4.7.1)\n",
      "Requirement already satisfied: Mako in c:\\users\\admin\\anaconda3\\lib\\site-packages (from alembic>=1.5.0->optuna) (1.2.4)\n",
      "Requirement already satisfied: greenlet!=0.4.17 in c:\\users\\admin\\anaconda3\\lib\\site-packages (from sqlalchemy>=1.3.0->optuna) (1.1.1)\n",
      "Requirement already satisfied: colorama in c:\\users\\admin\\anaconda3\\lib\\site-packages (from colorlog->optuna) (0.4.4)\n",
      "Requirement already satisfied: MarkupSafe>=0.9.2 in c:\\users\\admin\\anaconda3\\lib\\site-packages (from Mako->alembic>=1.5.0->optuna) (1.1.1)\n",
      "Requirement already satisfied: pandas_profiling in c:\\users\\admin\\anaconda3\\lib\\site-packages (3.6.6)\n",
      "Requirement already satisfied: ydata-profiling in c:\\users\\admin\\anaconda3\\lib\\site-packages (from pandas_profiling) (4.5.1)\n",
      "Requirement already satisfied: seaborn<0.13,>=0.10.1 in c:\\users\\admin\\anaconda3\\lib\\site-packages (from ydata-profiling->pandas_profiling) (0.11.2)\n",
      "Requirement already satisfied: statsmodels<1,>=0.13.2 in c:\\users\\admin\\anaconda3\\lib\\site-packages (from ydata-profiling->pandas_profiling) (0.14.0)\n",
      "Requirement already satisfied: wordcloud>=1.9.1 in c:\\users\\admin\\anaconda3\\lib\\site-packages (from ydata-profiling->pandas_profiling) (1.9.2)\n",
      "Requirement already satisfied: pandas!=1.4.0,<2.1,>1.1 in c:\\users\\admin\\anaconda3\\lib\\site-packages (from ydata-profiling->pandas_profiling) (1.3.4)\n",
      "Requirement already satisfied: dacite>=1.8 in c:\\users\\admin\\anaconda3\\lib\\site-packages (from ydata-profiling->pandas_profiling) (1.8.1)\n",
      "Requirement already satisfied: pydantic<2,>=1.8.1 in c:\\users\\admin\\anaconda3\\lib\\site-packages (from ydata-profiling->pandas_profiling) (1.10.12)\n",
      "Requirement already satisfied: requests<3,>=2.24.0 in c:\\users\\admin\\anaconda3\\lib\\site-packages (from ydata-profiling->pandas_profiling) (2.26.0)\n",
      "Requirement already satisfied: multimethod<2,>=1.4 in c:\\users\\admin\\anaconda3\\lib\\site-packages (from ydata-profiling->pandas_profiling) (1.9.1)\n",
      "Requirement already satisfied: imagehash==4.3.1 in c:\\users\\admin\\anaconda3\\lib\\site-packages (from ydata-profiling->pandas_profiling) (4.3.1)\n",
      "Requirement already satisfied: scipy<1.12,>=1.4.1 in c:\\users\\admin\\anaconda3\\lib\\site-packages (from ydata-profiling->pandas_profiling) (1.7.1)\n",
      "Requirement already satisfied: phik<0.13,>=0.11.1 in c:\\users\\admin\\anaconda3\\lib\\site-packages (from ydata-profiling->pandas_profiling) (0.12.3)\n",
      "Requirement already satisfied: numpy<1.24,>=1.16.0 in c:\\users\\admin\\anaconda3\\lib\\site-packages (from ydata-profiling->pandas_profiling) (1.20.3)\n",
      "Requirement already satisfied: PyYAML<6.1,>=5.0.0 in c:\\users\\admin\\anaconda3\\lib\\site-packages (from ydata-profiling->pandas_profiling) (6.0)\n",
      "Requirement already satisfied: htmlmin==0.1.12 in c:\\users\\admin\\anaconda3\\lib\\site-packages (from ydata-profiling->pandas_profiling) (0.1.12)\n",
      "Requirement already satisfied: jinja2<3.2,>=2.11.1 in c:\\users\\admin\\anaconda3\\lib\\site-packages (from ydata-profiling->pandas_profiling) (2.11.3)\n",
      "Requirement already satisfied: tqdm<5,>=4.48.2 in c:\\users\\admin\\anaconda3\\lib\\site-packages (from ydata-profiling->pandas_profiling) (4.62.3)\n",
      "Requirement already satisfied: visions[type_image_path]==0.7.5 in c:\\users\\admin\\anaconda3\\lib\\site-packages (from ydata-profiling->pandas_profiling) (0.7.5)\n",
      "Requirement already satisfied: matplotlib<4,>=3.2 in c:\\users\\admin\\anaconda3\\lib\\site-packages (from ydata-profiling->pandas_profiling) (3.4.3)\n",
      "Requirement already satisfied: typeguard<3,>=2.13.2 in c:\\users\\admin\\anaconda3\\lib\\site-packages (from ydata-profiling->pandas_profiling) (2.13.3)\n",
      "Requirement already satisfied: PyWavelets in c:\\users\\admin\\anaconda3\\lib\\site-packages (from imagehash==4.3.1->ydata-profiling->pandas_profiling) (1.1.1)\n",
      "Requirement already satisfied: pillow in c:\\users\\admin\\anaconda3\\lib\\site-packages (from imagehash==4.3.1->ydata-profiling->pandas_profiling) (8.4.0)\n",
      "Requirement already satisfied: networkx>=2.4 in c:\\users\\admin\\anaconda3\\lib\\site-packages (from visions[type_image_path]==0.7.5->ydata-profiling->pandas_profiling) (2.6.3)\n",
      "Requirement already satisfied: tangled-up-in-unicode>=0.0.4 in c:\\users\\admin\\anaconda3\\lib\\site-packages (from visions[type_image_path]==0.7.5->ydata-profiling->pandas_profiling) (0.2.0)\n",
      "Requirement already satisfied: attrs>=19.3.0 in c:\\users\\admin\\anaconda3\\lib\\site-packages (from visions[type_image_path]==0.7.5->ydata-profiling->pandas_profiling) (21.2.0)\n",
      "Requirement already satisfied: MarkupSafe>=0.23 in c:\\users\\admin\\anaconda3\\lib\\site-packages (from jinja2<3.2,>=2.11.1->ydata-profiling->pandas_profiling) (1.1.1)\n",
      "Requirement already satisfied: cycler>=0.10 in c:\\users\\admin\\anaconda3\\lib\\site-packages (from matplotlib<4,>=3.2->ydata-profiling->pandas_profiling) (0.10.0)\n",
      "Requirement already satisfied: pyparsing>=2.2.1 in c:\\users\\admin\\anaconda3\\lib\\site-packages (from matplotlib<4,>=3.2->ydata-profiling->pandas_profiling) (3.0.4)\n",
      "Requirement already satisfied: python-dateutil>=2.7 in c:\\users\\admin\\anaconda3\\lib\\site-packages (from matplotlib<4,>=3.2->ydata-profiling->pandas_profiling) (2.8.2)\n",
      "Requirement already satisfied: kiwisolver>=1.0.1 in c:\\users\\admin\\anaconda3\\lib\\site-packages (from matplotlib<4,>=3.2->ydata-profiling->pandas_profiling) (1.3.1)\n",
      "Requirement already satisfied: six in c:\\users\\admin\\anaconda3\\lib\\site-packages (from cycler>=0.10->matplotlib<4,>=3.2->ydata-profiling->pandas_profiling) (1.16.0)\n",
      "Requirement already satisfied: pytz>=2017.3 in c:\\users\\admin\\anaconda3\\lib\\site-packages (from pandas!=1.4.0,<2.1,>1.1->ydata-profiling->pandas_profiling) (2021.3)\n",
      "Requirement already satisfied: joblib>=0.14.1 in c:\\users\\admin\\anaconda3\\lib\\site-packages (from phik<0.13,>=0.11.1->ydata-profiling->pandas_profiling) (1.3.2)\n",
      "Requirement already satisfied: typing-extensions>=4.2.0 in c:\\users\\admin\\anaconda3\\lib\\site-packages (from pydantic<2,>=1.8.1->ydata-profiling->pandas_profiling) (4.7.1)\n",
      "Requirement already satisfied: urllib3<1.27,>=1.21.1 in c:\\users\\admin\\anaconda3\\lib\\site-packages (from requests<3,>=2.24.0->ydata-profiling->pandas_profiling) (1.26.7)\n",
      "Requirement already satisfied: certifi>=2017.4.17 in c:\\users\\admin\\anaconda3\\lib\\site-packages (from requests<3,>=2.24.0->ydata-profiling->pandas_profiling) (2021.10.8)\n",
      "Requirement already satisfied: charset-normalizer~=2.0.0 in c:\\users\\admin\\anaconda3\\lib\\site-packages (from requests<3,>=2.24.0->ydata-profiling->pandas_profiling) (2.0.4)\n",
      "Requirement already satisfied: idna<4,>=2.5 in c:\\users\\admin\\anaconda3\\lib\\site-packages (from requests<3,>=2.24.0->ydata-profiling->pandas_profiling) (3.2)\n",
      "Requirement already satisfied: patsy>=0.5.2 in c:\\users\\admin\\anaconda3\\lib\\site-packages (from statsmodels<1,>=0.13.2->ydata-profiling->pandas_profiling) (0.5.2)\n",
      "Requirement already satisfied: packaging>=21.3 in c:\\users\\admin\\anaconda3\\lib\\site-packages (from statsmodels<1,>=0.13.2->ydata-profiling->pandas_profiling) (23.1)\n",
      "Requirement already satisfied: colorama in c:\\users\\admin\\anaconda3\\lib\\site-packages (from tqdm<5,>=4.48.2->ydata-profiling->pandas_profiling) (0.4.4)\n"
     ]
    },
    {
     "name": "stdout",
     "output_type": "stream",
     "text": [
      "Requirement already satisfied: feature_engine in c:\\users\\admin\\anaconda3\\lib\\site-packages (1.6.2)\n",
      "Requirement already satisfied: statsmodels>=0.11.1 in c:\\users\\admin\\anaconda3\\lib\\site-packages (from feature_engine) (0.14.0)\n",
      "Requirement already satisfied: numpy>=1.18.2 in c:\\users\\admin\\anaconda3\\lib\\site-packages (from feature_engine) (1.20.3)\n",
      "Requirement already satisfied: pandas>=1.0.3 in c:\\users\\admin\\anaconda3\\lib\\site-packages (from feature_engine) (1.3.4)\n",
      "Requirement already satisfied: scipy>=1.4.1 in c:\\users\\admin\\anaconda3\\lib\\site-packages (from feature_engine) (1.7.1)\n",
      "Requirement already satisfied: scikit-learn>=1.0.0 in c:\\users\\admin\\anaconda3\\lib\\site-packages (from feature_engine) (1.3.2)\n",
      "Requirement already satisfied: python-dateutil>=2.7.3 in c:\\users\\admin\\anaconda3\\lib\\site-packages (from pandas>=1.0.3->feature_engine) (2.8.2)\n",
      "Requirement already satisfied: pytz>=2017.3 in c:\\users\\admin\\anaconda3\\lib\\site-packages (from pandas>=1.0.3->feature_engine) (2021.3)\n",
      "Requirement already satisfied: six>=1.5 in c:\\users\\admin\\anaconda3\\lib\\site-packages (from python-dateutil>=2.7.3->pandas>=1.0.3->feature_engine) (1.16.0)\n",
      "Requirement already satisfied: joblib>=1.1.1 in c:\\users\\admin\\anaconda3\\lib\\site-packages (from scikit-learn>=1.0.0->feature_engine) (1.3.2)\n",
      "Requirement already satisfied: threadpoolctl>=2.0.0 in c:\\users\\admin\\anaconda3\\lib\\site-packages (from scikit-learn>=1.0.0->feature_engine) (2.2.0)\n",
      "Requirement already satisfied: packaging>=21.3 in c:\\users\\admin\\anaconda3\\lib\\site-packages (from statsmodels>=0.11.1->feature_engine) (23.1)\n",
      "Requirement already satisfied: patsy>=0.5.2 in c:\\users\\admin\\anaconda3\\lib\\site-packages (from statsmodels>=0.11.1->feature_engine) (0.5.2)\n",
      "Requirement already satisfied: imblearn in c:\\users\\admin\\anaconda3\\lib\\site-packages (0.0)\n",
      "Requirement already satisfied: imbalanced-learn in c:\\users\\admin\\anaconda3\\lib\\site-packages (from imblearn) (0.11.0)\n",
      "Requirement already satisfied: threadpoolctl>=2.0.0 in c:\\users\\admin\\anaconda3\\lib\\site-packages (from imbalanced-learn->imblearn) (2.2.0)\n",
      "Requirement already satisfied: scipy>=1.5.0 in c:\\users\\admin\\anaconda3\\lib\\site-packages (from imbalanced-learn->imblearn) (1.7.1)\n",
      "Requirement already satisfied: joblib>=1.1.1 in c:\\users\\admin\\anaconda3\\lib\\site-packages (from imbalanced-learn->imblearn) (1.3.2)\n",
      "Requirement already satisfied: scikit-learn>=1.0.2 in c:\\users\\admin\\anaconda3\\lib\\site-packages (from imbalanced-learn->imblearn) (1.3.2)\n",
      "Requirement already satisfied: numpy>=1.17.3 in c:\\users\\admin\\anaconda3\\lib\\site-packages (from imbalanced-learn->imblearn) (1.20.3)\n"
     ]
    }
   ],
   "source": [
    "!pip install imbalanced-learn\n",
    "!pip install -U scikit-learn\n",
    "!pip install category_encoders -q\n",
    "!pip install optuna\n",
    "!pip install pandas_profiling\n",
    "!pip install feature_engine\n",
    "\n",
    "!pip install imblearn\n",
    "if False:\n",
    "    !pip install mlxtend  \n",
    "    !pip install --upgrade pip\n",
    "    !pip install --upgrade Pillow\n",
    "    !pip install ydata-profiling\n",
    "    !pip install category-encoders\n",
    "    !pip install feature-engine\n",
    "    !pip install optuna\n",
    "    !pip install ktrain==0.38.*\n",
    "    !pip install textblob\n",
    "    !pip install imblearn\n",
    "    !pip install catboost\n",
    "    !pip install shap\n",
    "#!pip uninstall scikit-learn\n",
    "#!pip install scikit-learn==0.23.2\n",
    "#!pip install hdbscan\n",
    "#!pip install Keras-Preprocessing\n",
    "#!pip install ktrain\n",
    "#!pip install 'protobuf<=3.20.1' --force-reinstall"
   ]
  },
  {
   "cell_type": "code",
   "execution_count": 2,
   "id": "b8da4c05",
   "metadata": {},
   "outputs": [
    {
     "name": "stderr",
     "output_type": "stream",
     "text": [
      "C:\\Users\\Admin\\AppData\\Local\\Temp/ipykernel_12928/117355670.py:13: DeprecationWarning: `import pandas_profiling` is going to be deprecated by April 1st. Please use `import ydata_profiling` instead.\n",
      "  import pandas_profiling\n"
     ]
    }
   ],
   "source": [
    "import pandas as pd\n",
    "import datetime as dt\n",
    "import plotly.express as px\n",
    "import seaborn as sns\n",
    "import matplotlib.pyplot as plt\n",
    "import numpy as np\n",
    "import seaborn as sb\n",
    "import scipy.stats as st\n",
    "import optuna\n",
    "from optuna import Trial\n",
    "import phik\n",
    "import pip\n",
    "import pandas_profiling\n",
    "import warnings\n",
    "warnings.filterwarnings('ignore')\n",
    "\n",
    "from category_encoders.leave_one_out import LeaveOneOutEncoder\n",
    "\n",
    "from feature_engine.selection import DropCorrelatedFeatures, DropConstantFeatures\n",
    "\n",
    "from imblearn.base import FunctionSampler\n",
    "from imblearn.combine import SMOTETomek\n",
    "from imblearn.pipeline import make_pipeline as make_imblearn_pipeline\n",
    "from imblearn.over_sampling import SMOTE\n",
    "from imblearn.pipeline import Pipeline, make_pipeline\n",
    "from imblearn.over_sampling import ADASYN\n",
    "\n",
    "from phik.report import plot_correlation_matrix\n",
    "from phik import report\n",
    "\n",
    "from sklearn.model_selection import train_test_split\n",
    "from sklearn.preprocessing import StandardScaler\n",
    "from sklearn.linear_model import LinearRegression\n",
    "from sklearn.tree import DecisionTreeRegressor\n",
    "from sklearn.ensemble import RandomForestRegressor\n",
    "from sklearn.metrics import  r2_score\n",
    "from sklearn.metrics import mean_absolute_error\n",
    "from sklearn.tree import DecisionTreeClassifier\n",
    "from sklearn.metrics import confusion_matrix\n",
    "from sklearn.tree import DecisionTreeClassifier \n",
    "from sklearn.metrics import accuracy_score\n",
    "from sklearn.ensemble import RandomForestClassifier\n",
    "from sklearn.ensemble import IsolationForest\n",
    "from sklearn.metrics import mean_squared_error\n",
    "from sklearn.linear_model import LogisticRegression\n",
    "from scipy import stats as st\n",
    "from sklearn.metrics import precision_score\n",
    "from sklearn.metrics import recall_score\n",
    "from sklearn.metrics import f1_score\n",
    "from sklearn.metrics import classification_report\n",
    "from sklearn.utils import shuffle\n",
    "from sklearn.preprocessing import OneHotEncoder\n",
    "from sklearn.metrics import roc_curve \n",
    "from sklearn.metrics import precision_recall_curve\n",
    "from sklearn.metrics import roc_auc_score\n",
    "from sklearn.metrics import roc_auc_score\n",
    "from sklearn.model_selection import cross_val_score\n",
    "from sklearn.preprocessing import RobustScaler\n",
    "from sklearn.metrics import fbeta_score\n",
    "from sklearn.metrics import f1_score\n",
    "from sklearn.preprocessing import OrdinalEncoder\n",
    "from sklearn.compose import ColumnTransformer\n",
    "from sklearn.impute import SimpleImputer\n",
    "from sklearn.preprocessing import StandardScaler, OneHotEncoder\n",
    "from sklearn.compose import make_column_transformer\n",
    "from sklearn.pipeline import Pipeline\n",
    "from sklearn.impute import SimpleImputer\n",
    "from sklearn.model_selection import (\n",
    "    GridSearchCV, \n",
    "    RandomizedSearchCV,\n",
    "    train_test_split\n",
    ")\n",
    "from sklearn.experimental import enable_iterative_imputer\n",
    "from sklearn.impute import IterativeImputer\n",
    "from sklearn.impute import SimpleImputer\n",
    "from sklearn.preprocessing import (OrdinalEncoder, StandardScaler, OneHotEncoder,\n",
    "                                   MinMaxScaler, LabelEncoder, RobustScaler, PolynomialFeatures)\n",
    "\n",
    "\n",
    "\n",
    "\n",
    "\n",
    "\n",
    "RANDOM_STATE=12345"
   ]
  },
  {
   "cell_type": "markdown",
   "id": "e7c1bf3d",
   "metadata": {},
   "source": [
    "# Шаг 1. Откройте файлы с данными"
   ]
  },
  {
   "cell_type": "code",
   "execution_count": 3,
   "id": "cae68659",
   "metadata": {},
   "outputs": [],
   "source": [
    "try: \n",
    "    test=pd.read_csv(\"/kaggle/input/music-genre/kaggle_music_genre_test.csv\")\n",
    "    train=pd.read_csv(\"/kaggle/input/music-genre/kaggle_music_genre_train.csv\")\n",
    "    sample=pd.read_csv(\"/kaggle/input/music-genre/sample_submit.csv\")\n",
    "except:\n",
    "    \n",
    "    test=pd.read_csv(r\"C:\\Users\\Admin\\Desktop\\music-genre-prediction\\kaggle_music_genre_test.csv\")\n",
    "    train=pd.read_csv(r\"C:\\Users\\Admin\\Desktop\\music-genre-prediction\\kaggle_music_genre_train.csv\")\n",
    "    sample=pd.read_csv(r\"C:\\Users\\Admin\\Desktop\\music-genre-prediction\\sample_submit.csv\")"
   ]
  },
  {
   "cell_type": "markdown",
   "id": "f7ba2fe1",
   "metadata": {},
   "source": [
    "# Шаг 2. Предобработка и исследовательский анализ данных"
   ]
  },
  {
   "cell_type": "markdown",
   "id": "9c7ee048",
   "metadata": {},
   "source": [
    "P.S. profiling кушает много оперативной памяти, не знаю как его убивать в трее, после запуска. \n",
    "Поэтому закомментил код, в марк закинул алерт репорт"
   ]
  },
  {
   "cell_type": "code",
   "execution_count": 4,
   "id": "bc40198c",
   "metadata": {},
   "outputs": [],
   "source": [
    "#Функция вывода инфы о массиве первые и последние 5 строк\n",
    "def headtail(df_name):\n",
    "    display('Head 5')\n",
    "    display(df_name.head(5))\n",
    "    display('Tail 5')\n",
    "    display(df_name.tail(5))"
   ]
  },
  {
   "cell_type": "code",
   "execution_count": 5,
   "id": "b6987abc",
   "metadata": {},
   "outputs": [
    {
     "data": {
      "text/plain": [
       "'Head 5'"
      ]
     },
     "metadata": {},
     "output_type": "display_data"
    },
    {
     "data": {
      "text/html": [
       "<div>\n",
       "<style scoped>\n",
       "    .dataframe tbody tr th:only-of-type {\n",
       "        vertical-align: middle;\n",
       "    }\n",
       "\n",
       "    .dataframe tbody tr th {\n",
       "        vertical-align: top;\n",
       "    }\n",
       "\n",
       "    .dataframe thead th {\n",
       "        text-align: right;\n",
       "    }\n",
       "</style>\n",
       "<table border=\"1\" class=\"dataframe\">\n",
       "  <thead>\n",
       "    <tr style=\"text-align: right;\">\n",
       "      <th></th>\n",
       "      <th>instance_id</th>\n",
       "      <th>track_name</th>\n",
       "      <th>acousticness</th>\n",
       "      <th>danceability</th>\n",
       "      <th>duration_ms</th>\n",
       "      <th>energy</th>\n",
       "      <th>instrumentalness</th>\n",
       "      <th>key</th>\n",
       "      <th>liveness</th>\n",
       "      <th>loudness</th>\n",
       "      <th>mode</th>\n",
       "      <th>speechiness</th>\n",
       "      <th>tempo</th>\n",
       "      <th>obtained_date</th>\n",
       "      <th>valence</th>\n",
       "      <th>music_genre</th>\n",
       "    </tr>\n",
       "  </thead>\n",
       "  <tbody>\n",
       "    <tr>\n",
       "      <th>0</th>\n",
       "      <td>25143.0</td>\n",
       "      <td>Highwayman</td>\n",
       "      <td>0.4800</td>\n",
       "      <td>0.670</td>\n",
       "      <td>182653.0</td>\n",
       "      <td>0.351</td>\n",
       "      <td>0.017600</td>\n",
       "      <td>D</td>\n",
       "      <td>0.115</td>\n",
       "      <td>-16.842</td>\n",
       "      <td>Major</td>\n",
       "      <td>0.0463</td>\n",
       "      <td>101.384</td>\n",
       "      <td>4-Apr</td>\n",
       "      <td>0.450</td>\n",
       "      <td>Country</td>\n",
       "    </tr>\n",
       "    <tr>\n",
       "      <th>1</th>\n",
       "      <td>26091.0</td>\n",
       "      <td>Toes Across The Floor</td>\n",
       "      <td>0.2430</td>\n",
       "      <td>0.452</td>\n",
       "      <td>187133.0</td>\n",
       "      <td>0.670</td>\n",
       "      <td>0.000051</td>\n",
       "      <td>A</td>\n",
       "      <td>0.108</td>\n",
       "      <td>-8.392</td>\n",
       "      <td>Minor</td>\n",
       "      <td>0.0352</td>\n",
       "      <td>113.071</td>\n",
       "      <td>4-Apr</td>\n",
       "      <td>0.539</td>\n",
       "      <td>Rock</td>\n",
       "    </tr>\n",
       "    <tr>\n",
       "      <th>2</th>\n",
       "      <td>87888.0</td>\n",
       "      <td>First Person on Earth</td>\n",
       "      <td>0.2280</td>\n",
       "      <td>0.454</td>\n",
       "      <td>173448.0</td>\n",
       "      <td>0.804</td>\n",
       "      <td>0.000000</td>\n",
       "      <td>E</td>\n",
       "      <td>0.181</td>\n",
       "      <td>-5.225</td>\n",
       "      <td>Minor</td>\n",
       "      <td>0.3710</td>\n",
       "      <td>80.980</td>\n",
       "      <td>4-Apr</td>\n",
       "      <td>0.344</td>\n",
       "      <td>Alternative</td>\n",
       "    </tr>\n",
       "    <tr>\n",
       "      <th>3</th>\n",
       "      <td>77021.0</td>\n",
       "      <td>No Te Veo - Digital Single</td>\n",
       "      <td>0.0558</td>\n",
       "      <td>0.847</td>\n",
       "      <td>255987.0</td>\n",
       "      <td>0.873</td>\n",
       "      <td>0.000003</td>\n",
       "      <td>G#</td>\n",
       "      <td>0.325</td>\n",
       "      <td>-4.805</td>\n",
       "      <td>Minor</td>\n",
       "      <td>0.0804</td>\n",
       "      <td>116.007</td>\n",
       "      <td>4-Apr</td>\n",
       "      <td>0.966</td>\n",
       "      <td>Hip-Hop</td>\n",
       "    </tr>\n",
       "    <tr>\n",
       "      <th>4</th>\n",
       "      <td>20852.0</td>\n",
       "      <td>Chasing Shadows</td>\n",
       "      <td>0.2270</td>\n",
       "      <td>0.742</td>\n",
       "      <td>195333.0</td>\n",
       "      <td>0.575</td>\n",
       "      <td>0.000002</td>\n",
       "      <td>C</td>\n",
       "      <td>0.176</td>\n",
       "      <td>-5.550</td>\n",
       "      <td>Major</td>\n",
       "      <td>0.0487</td>\n",
       "      <td>76.494</td>\n",
       "      <td>4-Apr</td>\n",
       "      <td>0.583</td>\n",
       "      <td>Alternative</td>\n",
       "    </tr>\n",
       "  </tbody>\n",
       "</table>\n",
       "</div>"
      ],
      "text/plain": [
       "   instance_id                  track_name  acousticness  danceability  \\\n",
       "0      25143.0                  Highwayman        0.4800         0.670   \n",
       "1      26091.0       Toes Across The Floor        0.2430         0.452   \n",
       "2      87888.0       First Person on Earth        0.2280         0.454   \n",
       "3      77021.0  No Te Veo - Digital Single        0.0558         0.847   \n",
       "4      20852.0             Chasing Shadows        0.2270         0.742   \n",
       "\n",
       "   duration_ms  energy  instrumentalness key  liveness  loudness   mode  \\\n",
       "0     182653.0   0.351          0.017600   D     0.115   -16.842  Major   \n",
       "1     187133.0   0.670          0.000051   A     0.108    -8.392  Minor   \n",
       "2     173448.0   0.804          0.000000   E     0.181    -5.225  Minor   \n",
       "3     255987.0   0.873          0.000003  G#     0.325    -4.805  Minor   \n",
       "4     195333.0   0.575          0.000002   C     0.176    -5.550  Major   \n",
       "\n",
       "   speechiness    tempo obtained_date  valence  music_genre  \n",
       "0       0.0463  101.384         4-Apr    0.450      Country  \n",
       "1       0.0352  113.071         4-Apr    0.539         Rock  \n",
       "2       0.3710   80.980         4-Apr    0.344  Alternative  \n",
       "3       0.0804  116.007         4-Apr    0.966      Hip-Hop  \n",
       "4       0.0487   76.494         4-Apr    0.583  Alternative  "
      ]
     },
     "metadata": {},
     "output_type": "display_data"
    },
    {
     "data": {
      "text/plain": [
       "'Tail 5'"
      ]
     },
     "metadata": {},
     "output_type": "display_data"
    },
    {
     "data": {
      "text/html": [
       "<div>\n",
       "<style scoped>\n",
       "    .dataframe tbody tr th:only-of-type {\n",
       "        vertical-align: middle;\n",
       "    }\n",
       "\n",
       "    .dataframe tbody tr th {\n",
       "        vertical-align: top;\n",
       "    }\n",
       "\n",
       "    .dataframe thead th {\n",
       "        text-align: right;\n",
       "    }\n",
       "</style>\n",
       "<table border=\"1\" class=\"dataframe\">\n",
       "  <thead>\n",
       "    <tr style=\"text-align: right;\">\n",
       "      <th></th>\n",
       "      <th>instance_id</th>\n",
       "      <th>track_name</th>\n",
       "      <th>acousticness</th>\n",
       "      <th>danceability</th>\n",
       "      <th>duration_ms</th>\n",
       "      <th>energy</th>\n",
       "      <th>instrumentalness</th>\n",
       "      <th>key</th>\n",
       "      <th>liveness</th>\n",
       "      <th>loudness</th>\n",
       "      <th>mode</th>\n",
       "      <th>speechiness</th>\n",
       "      <th>tempo</th>\n",
       "      <th>obtained_date</th>\n",
       "      <th>valence</th>\n",
       "      <th>music_genre</th>\n",
       "    </tr>\n",
       "  </thead>\n",
       "  <tbody>\n",
       "    <tr>\n",
       "      <th>20389</th>\n",
       "      <td>47396.0</td>\n",
       "      <td>O Pato</td>\n",
       "      <td>0.71900</td>\n",
       "      <td>0.725</td>\n",
       "      <td>-1.0</td>\n",
       "      <td>0.483</td>\n",
       "      <td>0.000000</td>\n",
       "      <td>NaN</td>\n",
       "      <td>0.0797</td>\n",
       "      <td>-13.314</td>\n",
       "      <td>Minor</td>\n",
       "      <td>0.0438</td>\n",
       "      <td>87.413</td>\n",
       "      <td>4-Apr</td>\n",
       "      <td>0.942</td>\n",
       "      <td>Jazz</td>\n",
       "    </tr>\n",
       "    <tr>\n",
       "      <th>20390</th>\n",
       "      <td>44799.0</td>\n",
       "      <td>Mt. Washington</td>\n",
       "      <td>0.19000</td>\n",
       "      <td>0.482</td>\n",
       "      <td>198933.0</td>\n",
       "      <td>0.362</td>\n",
       "      <td>0.005620</td>\n",
       "      <td>F#</td>\n",
       "      <td>0.0913</td>\n",
       "      <td>-10.358</td>\n",
       "      <td>Minor</td>\n",
       "      <td>0.0299</td>\n",
       "      <td>76.879</td>\n",
       "      <td>4-Apr</td>\n",
       "      <td>0.174</td>\n",
       "      <td>Rock</td>\n",
       "    </tr>\n",
       "    <tr>\n",
       "      <th>20391</th>\n",
       "      <td>33350.0</td>\n",
       "      <td>Original Prankster</td>\n",
       "      <td>0.00061</td>\n",
       "      <td>0.663</td>\n",
       "      <td>220947.0</td>\n",
       "      <td>0.886</td>\n",
       "      <td>0.000025</td>\n",
       "      <td>D</td>\n",
       "      <td>0.2840</td>\n",
       "      <td>-4.149</td>\n",
       "      <td>Major</td>\n",
       "      <td>0.0358</td>\n",
       "      <td>146.803</td>\n",
       "      <td>4-Apr</td>\n",
       "      <td>0.942</td>\n",
       "      <td>Alternative</td>\n",
       "    </tr>\n",
       "    <tr>\n",
       "      <th>20392</th>\n",
       "      <td>77920.0</td>\n",
       "      <td>4Peat</td>\n",
       "      <td>0.00310</td>\n",
       "      <td>0.914</td>\n",
       "      <td>162214.0</td>\n",
       "      <td>0.515</td>\n",
       "      <td>0.000000</td>\n",
       "      <td>C#</td>\n",
       "      <td>0.1050</td>\n",
       "      <td>-9.934</td>\n",
       "      <td>Major</td>\n",
       "      <td>0.3560</td>\n",
       "      <td>150.016</td>\n",
       "      <td>4-Apr</td>\n",
       "      <td>0.215</td>\n",
       "      <td>Rap</td>\n",
       "    </tr>\n",
       "    <tr>\n",
       "      <th>20393</th>\n",
       "      <td>86375.0</td>\n",
       "      <td>Trouble (feat. MC Spyder)</td>\n",
       "      <td>0.05350</td>\n",
       "      <td>0.717</td>\n",
       "      <td>271885.0</td>\n",
       "      <td>0.983</td>\n",
       "      <td>0.491000</td>\n",
       "      <td>D#</td>\n",
       "      <td>0.1080</td>\n",
       "      <td>-1.615</td>\n",
       "      <td>Minor</td>\n",
       "      <td>0.0942</td>\n",
       "      <td>128.004</td>\n",
       "      <td>4-Apr</td>\n",
       "      <td>0.077</td>\n",
       "      <td>Electronic</td>\n",
       "    </tr>\n",
       "  </tbody>\n",
       "</table>\n",
       "</div>"
      ],
      "text/plain": [
       "       instance_id                 track_name  acousticness  danceability  \\\n",
       "20389      47396.0                     O Pato       0.71900         0.725   \n",
       "20390      44799.0             Mt. Washington       0.19000         0.482   \n",
       "20391      33350.0         Original Prankster       0.00061         0.663   \n",
       "20392      77920.0                      4Peat       0.00310         0.914   \n",
       "20393      86375.0  Trouble (feat. MC Spyder)       0.05350         0.717   \n",
       "\n",
       "       duration_ms  energy  instrumentalness  key  liveness  loudness   mode  \\\n",
       "20389         -1.0   0.483          0.000000  NaN    0.0797   -13.314  Minor   \n",
       "20390     198933.0   0.362          0.005620   F#    0.0913   -10.358  Minor   \n",
       "20391     220947.0   0.886          0.000025    D    0.2840    -4.149  Major   \n",
       "20392     162214.0   0.515          0.000000   C#    0.1050    -9.934  Major   \n",
       "20393     271885.0   0.983          0.491000   D#    0.1080    -1.615  Minor   \n",
       "\n",
       "       speechiness    tempo obtained_date  valence  music_genre  \n",
       "20389       0.0438   87.413         4-Apr    0.942         Jazz  \n",
       "20390       0.0299   76.879         4-Apr    0.174         Rock  \n",
       "20391       0.0358  146.803         4-Apr    0.942  Alternative  \n",
       "20392       0.3560  150.016         4-Apr    0.215          Rap  \n",
       "20393       0.0942  128.004         4-Apr    0.077   Electronic  "
      ]
     },
     "metadata": {},
     "output_type": "display_data"
    }
   ],
   "source": [
    "headtail(train)"
   ]
  },
  {
   "cell_type": "code",
   "execution_count": 6,
   "id": "84c5512a",
   "metadata": {},
   "outputs": [
    {
     "data": {
      "text/plain": [
       "'Head 5'"
      ]
     },
     "metadata": {},
     "output_type": "display_data"
    },
    {
     "data": {
      "text/html": [
       "<div>\n",
       "<style scoped>\n",
       "    .dataframe tbody tr th:only-of-type {\n",
       "        vertical-align: middle;\n",
       "    }\n",
       "\n",
       "    .dataframe tbody tr th {\n",
       "        vertical-align: top;\n",
       "    }\n",
       "\n",
       "    .dataframe thead th {\n",
       "        text-align: right;\n",
       "    }\n",
       "</style>\n",
       "<table border=\"1\" class=\"dataframe\">\n",
       "  <thead>\n",
       "    <tr style=\"text-align: right;\">\n",
       "      <th></th>\n",
       "      <th>instance_id</th>\n",
       "      <th>track_name</th>\n",
       "      <th>acousticness</th>\n",
       "      <th>danceability</th>\n",
       "      <th>duration_ms</th>\n",
       "      <th>energy</th>\n",
       "      <th>instrumentalness</th>\n",
       "      <th>key</th>\n",
       "      <th>liveness</th>\n",
       "      <th>loudness</th>\n",
       "      <th>mode</th>\n",
       "      <th>speechiness</th>\n",
       "      <th>tempo</th>\n",
       "      <th>obtained_date</th>\n",
       "      <th>valence</th>\n",
       "    </tr>\n",
       "  </thead>\n",
       "  <tbody>\n",
       "    <tr>\n",
       "      <th>0</th>\n",
       "      <td>48564</td>\n",
       "      <td>Low Class Conspiracy</td>\n",
       "      <td>0.301000</td>\n",
       "      <td>0.757</td>\n",
       "      <td>146213.0</td>\n",
       "      <td>0.679</td>\n",
       "      <td>0.00000</td>\n",
       "      <td>A#</td>\n",
       "      <td>0.3030</td>\n",
       "      <td>-7.136</td>\n",
       "      <td>Minor</td>\n",
       "      <td>0.3560</td>\n",
       "      <td>90.361</td>\n",
       "      <td>4-Apr</td>\n",
       "      <td>0.895</td>\n",
       "    </tr>\n",
       "    <tr>\n",
       "      <th>1</th>\n",
       "      <td>72394</td>\n",
       "      <td>The Hunter</td>\n",
       "      <td>0.538000</td>\n",
       "      <td>0.256</td>\n",
       "      <td>240360.0</td>\n",
       "      <td>0.523</td>\n",
       "      <td>0.00832</td>\n",
       "      <td>G#</td>\n",
       "      <td>0.0849</td>\n",
       "      <td>-5.175</td>\n",
       "      <td>Major</td>\n",
       "      <td>0.0294</td>\n",
       "      <td>78.385</td>\n",
       "      <td>4-Apr</td>\n",
       "      <td>0.318</td>\n",
       "    </tr>\n",
       "    <tr>\n",
       "      <th>2</th>\n",
       "      <td>88081</td>\n",
       "      <td>Hate Me Now</td>\n",
       "      <td>0.005830</td>\n",
       "      <td>0.678</td>\n",
       "      <td>284000.0</td>\n",
       "      <td>0.770</td>\n",
       "      <td>0.00000</td>\n",
       "      <td>A</td>\n",
       "      <td>0.1090</td>\n",
       "      <td>-4.399</td>\n",
       "      <td>Minor</td>\n",
       "      <td>0.2220</td>\n",
       "      <td>90.000</td>\n",
       "      <td>4-Apr</td>\n",
       "      <td>0.412</td>\n",
       "    </tr>\n",
       "    <tr>\n",
       "      <th>3</th>\n",
       "      <td>78331</td>\n",
       "      <td>Somebody Ain't You</td>\n",
       "      <td>0.020300</td>\n",
       "      <td>0.592</td>\n",
       "      <td>177354.0</td>\n",
       "      <td>0.749</td>\n",
       "      <td>0.00000</td>\n",
       "      <td>B</td>\n",
       "      <td>0.1220</td>\n",
       "      <td>-4.604</td>\n",
       "      <td>Major</td>\n",
       "      <td>0.0483</td>\n",
       "      <td>160.046</td>\n",
       "      <td>4-Apr</td>\n",
       "      <td>0.614</td>\n",
       "    </tr>\n",
       "    <tr>\n",
       "      <th>4</th>\n",
       "      <td>72636</td>\n",
       "      <td>Sour Mango</td>\n",
       "      <td>0.000335</td>\n",
       "      <td>0.421</td>\n",
       "      <td>-1.0</td>\n",
       "      <td>0.447</td>\n",
       "      <td>0.01480</td>\n",
       "      <td>D</td>\n",
       "      <td>0.0374</td>\n",
       "      <td>-8.833</td>\n",
       "      <td>Major</td>\n",
       "      <td>0.2020</td>\n",
       "      <td>73.830</td>\n",
       "      <td>4-Apr</td>\n",
       "      <td>0.121</td>\n",
       "    </tr>\n",
       "  </tbody>\n",
       "</table>\n",
       "</div>"
      ],
      "text/plain": [
       "   instance_id            track_name  acousticness  danceability  duration_ms  \\\n",
       "0        48564  Low Class Conspiracy      0.301000         0.757     146213.0   \n",
       "1        72394            The Hunter      0.538000         0.256     240360.0   \n",
       "2        88081           Hate Me Now      0.005830         0.678     284000.0   \n",
       "3        78331    Somebody Ain't You      0.020300         0.592     177354.0   \n",
       "4        72636            Sour Mango      0.000335         0.421         -1.0   \n",
       "\n",
       "   energy  instrumentalness key  liveness  loudness   mode  speechiness  \\\n",
       "0   0.679           0.00000  A#    0.3030    -7.136  Minor       0.3560   \n",
       "1   0.523           0.00832  G#    0.0849    -5.175  Major       0.0294   \n",
       "2   0.770           0.00000   A    0.1090    -4.399  Minor       0.2220   \n",
       "3   0.749           0.00000   B    0.1220    -4.604  Major       0.0483   \n",
       "4   0.447           0.01480   D    0.0374    -8.833  Major       0.2020   \n",
       "\n",
       "     tempo obtained_date  valence  \n",
       "0   90.361         4-Apr    0.895  \n",
       "1   78.385         4-Apr    0.318  \n",
       "2   90.000         4-Apr    0.412  \n",
       "3  160.046         4-Apr    0.614  \n",
       "4   73.830         4-Apr    0.121  "
      ]
     },
     "metadata": {},
     "output_type": "display_data"
    },
    {
     "data": {
      "text/plain": [
       "'Tail 5'"
      ]
     },
     "metadata": {},
     "output_type": "display_data"
    },
    {
     "data": {
      "text/html": [
       "<div>\n",
       "<style scoped>\n",
       "    .dataframe tbody tr th:only-of-type {\n",
       "        vertical-align: middle;\n",
       "    }\n",
       "\n",
       "    .dataframe tbody tr th {\n",
       "        vertical-align: top;\n",
       "    }\n",
       "\n",
       "    .dataframe thead th {\n",
       "        text-align: right;\n",
       "    }\n",
       "</style>\n",
       "<table border=\"1\" class=\"dataframe\">\n",
       "  <thead>\n",
       "    <tr style=\"text-align: right;\">\n",
       "      <th></th>\n",
       "      <th>instance_id</th>\n",
       "      <th>track_name</th>\n",
       "      <th>acousticness</th>\n",
       "      <th>danceability</th>\n",
       "      <th>duration_ms</th>\n",
       "      <th>energy</th>\n",
       "      <th>instrumentalness</th>\n",
       "      <th>key</th>\n",
       "      <th>liveness</th>\n",
       "      <th>loudness</th>\n",
       "      <th>mode</th>\n",
       "      <th>speechiness</th>\n",
       "      <th>tempo</th>\n",
       "      <th>obtained_date</th>\n",
       "      <th>valence</th>\n",
       "    </tr>\n",
       "  </thead>\n",
       "  <tbody>\n",
       "    <tr>\n",
       "      <th>5094</th>\n",
       "      <td>50532</td>\n",
       "      <td>What We Gonna Do About It</td>\n",
       "      <td>0.10800</td>\n",
       "      <td>0.558</td>\n",
       "      <td>163049.0</td>\n",
       "      <td>0.767</td>\n",
       "      <td>0.0000</td>\n",
       "      <td>E</td>\n",
       "      <td>0.0954</td>\n",
       "      <td>-4.561</td>\n",
       "      <td>Minor</td>\n",
       "      <td>0.0491</td>\n",
       "      <td>158.019</td>\n",
       "      <td>4-Apr</td>\n",
       "      <td>0.715</td>\n",
       "    </tr>\n",
       "    <tr>\n",
       "      <th>5095</th>\n",
       "      <td>26255</td>\n",
       "      <td>Marilyn (feat. Dominique Le Jeune)</td>\n",
       "      <td>0.13100</td>\n",
       "      <td>0.435</td>\n",
       "      <td>196216.0</td>\n",
       "      <td>0.641</td>\n",
       "      <td>0.0000</td>\n",
       "      <td>A#</td>\n",
       "      <td>0.2730</td>\n",
       "      <td>-7.274</td>\n",
       "      <td>Major</td>\n",
       "      <td>0.1040</td>\n",
       "      <td>115.534</td>\n",
       "      <td>3-Apr</td>\n",
       "      <td>0.156</td>\n",
       "    </tr>\n",
       "    <tr>\n",
       "      <th>5096</th>\n",
       "      <td>67924</td>\n",
       "      <td>Bipolar</td>\n",
       "      <td>0.15200</td>\n",
       "      <td>0.756</td>\n",
       "      <td>243373.0</td>\n",
       "      <td>0.787</td>\n",
       "      <td>0.0000</td>\n",
       "      <td>D</td>\n",
       "      <td>0.2050</td>\n",
       "      <td>-7.423</td>\n",
       "      <td>Major</td>\n",
       "      <td>0.2400</td>\n",
       "      <td>123.405</td>\n",
       "      <td>4-Apr</td>\n",
       "      <td>0.459</td>\n",
       "    </tr>\n",
       "    <tr>\n",
       "      <th>5097</th>\n",
       "      <td>79778</td>\n",
       "      <td>Dead - NGHTMRE Remix</td>\n",
       "      <td>0.00145</td>\n",
       "      <td>0.489</td>\n",
       "      <td>185600.0</td>\n",
       "      <td>0.974</td>\n",
       "      <td>0.6380</td>\n",
       "      <td>F#</td>\n",
       "      <td>0.1230</td>\n",
       "      <td>-2.857</td>\n",
       "      <td>Minor</td>\n",
       "      <td>0.0381</td>\n",
       "      <td>150.036</td>\n",
       "      <td>4-Apr</td>\n",
       "      <td>0.665</td>\n",
       "    </tr>\n",
       "    <tr>\n",
       "      <th>5098</th>\n",
       "      <td>47986</td>\n",
       "      <td>A Night In Tunisia - Remastered 1998 / Rudy Va...</td>\n",
       "      <td>0.71500</td>\n",
       "      <td>0.538</td>\n",
       "      <td>256800.0</td>\n",
       "      <td>0.520</td>\n",
       "      <td>0.0175</td>\n",
       "      <td>G</td>\n",
       "      <td>0.0676</td>\n",
       "      <td>-10.127</td>\n",
       "      <td>Minor</td>\n",
       "      <td>0.0408</td>\n",
       "      <td>83.816</td>\n",
       "      <td>4-Apr</td>\n",
       "      <td>0.764</td>\n",
       "    </tr>\n",
       "  </tbody>\n",
       "</table>\n",
       "</div>"
      ],
      "text/plain": [
       "      instance_id                                         track_name  \\\n",
       "5094        50532                          What We Gonna Do About It   \n",
       "5095        26255                 Marilyn (feat. Dominique Le Jeune)   \n",
       "5096        67924                                            Bipolar   \n",
       "5097        79778                               Dead - NGHTMRE Remix   \n",
       "5098        47986  A Night In Tunisia - Remastered 1998 / Rudy Va...   \n",
       "\n",
       "      acousticness  danceability  duration_ms  energy  instrumentalness key  \\\n",
       "5094       0.10800         0.558     163049.0   0.767            0.0000   E   \n",
       "5095       0.13100         0.435     196216.0   0.641            0.0000  A#   \n",
       "5096       0.15200         0.756     243373.0   0.787            0.0000   D   \n",
       "5097       0.00145         0.489     185600.0   0.974            0.6380  F#   \n",
       "5098       0.71500         0.538     256800.0   0.520            0.0175   G   \n",
       "\n",
       "      liveness  loudness   mode  speechiness    tempo obtained_date  valence  \n",
       "5094    0.0954    -4.561  Minor       0.0491  158.019         4-Apr    0.715  \n",
       "5095    0.2730    -7.274  Major       0.1040  115.534         3-Apr    0.156  \n",
       "5096    0.2050    -7.423  Major       0.2400  123.405         4-Apr    0.459  \n",
       "5097    0.1230    -2.857  Minor       0.0381  150.036         4-Apr    0.665  \n",
       "5098    0.0676   -10.127  Minor       0.0408   83.816         4-Apr    0.764  "
      ]
     },
     "metadata": {},
     "output_type": "display_data"
    }
   ],
   "source": [
    "headtail(test)"
   ]
  },
  {
   "cell_type": "markdown",
   "id": "85f9ae95",
   "metadata": {},
   "source": [
    "Что сразу бросоется в глаза поле key, не стандартизированный формат, типичный пример значение с решеткой, также поле  track_name - поле - комментарий крайне маловероятно использование в качестве фичи, предварительно. Поля с количественными признаками проверить на выбросы, а также аномалии и ошибки при заполнении, оценить пригодность для построения моделей. Поле obtained date- непригодно для фичи, формат указывает только на день и месяц, маловероятна цикличность,  нет указания на год. Также необходимо проверить категориальные признаки на ошибки и при наличии устранить их, для решения, вероятно будем использовать ohe. P.S. также рассмотрим показания pandas_profiling\n",
    "\n"
   ]
  },
  {
   "cell_type": "code",
   "execution_count": 7,
   "id": "c5c11909",
   "metadata": {},
   "outputs": [],
   "source": [
    "#Функция возвращает размеры датафрейма\n",
    "def decrupter(df):\n",
    "    print('В массиве',df.shape[0],'строк','и',df.shape[1],'столбцов' )"
   ]
  },
  {
   "cell_type": "code",
   "execution_count": 8,
   "id": "12267b97",
   "metadata": {},
   "outputs": [
    {
     "name": "stdout",
     "output_type": "stream",
     "text": [
      "В массиве 20394 строк и 16 столбцов\n"
     ]
    }
   ],
   "source": [
    "decrupter(train)"
   ]
  },
  {
   "cell_type": "code",
   "execution_count": 9,
   "id": "0029073a",
   "metadata": {},
   "outputs": [
    {
     "name": "stdout",
     "output_type": "stream",
     "text": [
      "В массиве 5099 строк и 15 столбцов\n"
     ]
    }
   ],
   "source": [
    "decrupter(test)"
   ]
  },
  {
   "cell_type": "code",
   "execution_count": 10,
   "id": "94a49528",
   "metadata": {},
   "outputs": [
    {
     "name": "stdout",
     "output_type": "stream",
     "text": [
      " Соотношение объема тестовой выборки к обучающей составляет: 25.002451701480826 %\n"
     ]
    }
   ],
   "source": [
    "print(\" Соотношение объема тестовой выборки к обучающей составляет:\", test.shape[0]/train.shape[0]*100,\"%\")"
   ]
  },
  {
   "cell_type": "code",
   "execution_count": 11,
   "id": "8d6e87eb",
   "metadata": {},
   "outputs": [],
   "source": [
    "#Функция возвращает типы данных массива\n",
    "def dtypes_mode(df):\n",
    "    print('Типы данных массива')\n",
    "    print(df.info())"
   ]
  },
  {
   "cell_type": "code",
   "execution_count": 12,
   "id": "b7a8de6c",
   "metadata": {},
   "outputs": [
    {
     "name": "stdout",
     "output_type": "stream",
     "text": [
      "Типы данных массива\n",
      "<class 'pandas.core.frame.DataFrame'>\n",
      "RangeIndex: 20394 entries, 0 to 20393\n",
      "Data columns (total 16 columns):\n",
      " #   Column            Non-Null Count  Dtype  \n",
      "---  ------            --------------  -----  \n",
      " 0   instance_id       20394 non-null  float64\n",
      " 1   track_name        20394 non-null  object \n",
      " 2   acousticness      20394 non-null  float64\n",
      " 3   danceability      20394 non-null  float64\n",
      " 4   duration_ms       20394 non-null  float64\n",
      " 5   energy            20394 non-null  float64\n",
      " 6   instrumentalness  20394 non-null  float64\n",
      " 7   key               19659 non-null  object \n",
      " 8   liveness          20394 non-null  float64\n",
      " 9   loudness          20394 non-null  float64\n",
      " 10  mode              19888 non-null  object \n",
      " 11  speechiness       20394 non-null  float64\n",
      " 12  tempo             19952 non-null  float64\n",
      " 13  obtained_date     20394 non-null  object \n",
      " 14  valence           20394 non-null  float64\n",
      " 15  music_genre       20394 non-null  object \n",
      "dtypes: float64(11), object(5)\n",
      "memory usage: 2.5+ MB\n",
      "None\n"
     ]
    }
   ],
   "source": [
    "dtypes_mode(train)"
   ]
  },
  {
   "cell_type": "code",
   "execution_count": 13,
   "id": "3900ccd9",
   "metadata": {},
   "outputs": [
    {
     "name": "stdout",
     "output_type": "stream",
     "text": [
      "Типы данных массива\n",
      "<class 'pandas.core.frame.DataFrame'>\n",
      "RangeIndex: 5099 entries, 0 to 5098\n",
      "Data columns (total 15 columns):\n",
      " #   Column            Non-Null Count  Dtype  \n",
      "---  ------            --------------  -----  \n",
      " 0   instance_id       5099 non-null   int64  \n",
      " 1   track_name        5099 non-null   object \n",
      " 2   acousticness      5099 non-null   float64\n",
      " 3   danceability      5099 non-null   float64\n",
      " 4   duration_ms       5099 non-null   float64\n",
      " 5   energy            5099 non-null   float64\n",
      " 6   instrumentalness  5099 non-null   float64\n",
      " 7   key               4941 non-null   object \n",
      " 8   liveness          5099 non-null   float64\n",
      " 9   loudness          5099 non-null   float64\n",
      " 10  mode              4950 non-null   object \n",
      " 11  speechiness       5099 non-null   float64\n",
      " 12  tempo             4978 non-null   float64\n",
      " 13  obtained_date     5099 non-null   object \n",
      " 14  valence           5099 non-null   float64\n",
      "dtypes: float64(10), int64(1), object(4)\n",
      "memory usage: 597.7+ KB\n",
      "None\n"
     ]
    }
   ],
   "source": [
    "dtypes_mode(test)"
   ]
  },
  {
   "cell_type": "markdown",
   "id": "553867d6",
   "metadata": {},
   "source": [
    "Наблюдаются ошибки форматирования данных в массивах трейн и тест, требуется привести к единому формату числовые и категориальные признаки. Рассмотрим статистику по массивам"
   ]
  },
  {
   "cell_type": "code",
   "execution_count": 14,
   "id": "05bad8d5",
   "metadata": {},
   "outputs": [
    {
     "data": {
      "text/html": [
       "<div>\n",
       "<style scoped>\n",
       "    .dataframe tbody tr th:only-of-type {\n",
       "        vertical-align: middle;\n",
       "    }\n",
       "\n",
       "    .dataframe tbody tr th {\n",
       "        vertical-align: top;\n",
       "    }\n",
       "\n",
       "    .dataframe thead th {\n",
       "        text-align: right;\n",
       "    }\n",
       "</style>\n",
       "<table border=\"1\" class=\"dataframe\">\n",
       "  <thead>\n",
       "    <tr style=\"text-align: right;\">\n",
       "      <th></th>\n",
       "      <th>instance_id</th>\n",
       "      <th>acousticness</th>\n",
       "      <th>danceability</th>\n",
       "      <th>duration_ms</th>\n",
       "      <th>energy</th>\n",
       "      <th>instrumentalness</th>\n",
       "      <th>liveness</th>\n",
       "      <th>loudness</th>\n",
       "      <th>speechiness</th>\n",
       "      <th>tempo</th>\n",
       "      <th>valence</th>\n",
       "    </tr>\n",
       "  </thead>\n",
       "  <tbody>\n",
       "    <tr>\n",
       "      <th>count</th>\n",
       "      <td>20394.000000</td>\n",
       "      <td>20394.000000</td>\n",
       "      <td>20394.000000</td>\n",
       "      <td>2.039400e+04</td>\n",
       "      <td>20394.000000</td>\n",
       "      <td>20394.000000</td>\n",
       "      <td>20394.000000</td>\n",
       "      <td>20394.000000</td>\n",
       "      <td>20394.000000</td>\n",
       "      <td>19952.000000</td>\n",
       "      <td>20394.000000</td>\n",
       "    </tr>\n",
       "    <tr>\n",
       "      <th>mean</th>\n",
       "      <td>55973.846916</td>\n",
       "      <td>0.274783</td>\n",
       "      <td>0.561983</td>\n",
       "      <td>2.203754e+05</td>\n",
       "      <td>0.625276</td>\n",
       "      <td>0.159989</td>\n",
       "      <td>0.198540</td>\n",
       "      <td>-8.552998</td>\n",
       "      <td>0.091352</td>\n",
       "      <td>120.942522</td>\n",
       "      <td>0.464588</td>\n",
       "    </tr>\n",
       "    <tr>\n",
       "      <th>std</th>\n",
       "      <td>20695.792545</td>\n",
       "      <td>0.321643</td>\n",
       "      <td>0.171898</td>\n",
       "      <td>1.267283e+05</td>\n",
       "      <td>0.251238</td>\n",
       "      <td>0.306503</td>\n",
       "      <td>0.166742</td>\n",
       "      <td>5.499917</td>\n",
       "      <td>0.097735</td>\n",
       "      <td>30.427590</td>\n",
       "      <td>0.243387</td>\n",
       "    </tr>\n",
       "    <tr>\n",
       "      <th>min</th>\n",
       "      <td>20011.000000</td>\n",
       "      <td>0.000000</td>\n",
       "      <td>0.060000</td>\n",
       "      <td>-1.000000e+00</td>\n",
       "      <td>0.001010</td>\n",
       "      <td>0.000000</td>\n",
       "      <td>0.013600</td>\n",
       "      <td>-44.406000</td>\n",
       "      <td>0.022300</td>\n",
       "      <td>34.765000</td>\n",
       "      <td>0.000000</td>\n",
       "    </tr>\n",
       "    <tr>\n",
       "      <th>25%</th>\n",
       "      <td>38157.250000</td>\n",
       "      <td>0.015200</td>\n",
       "      <td>0.451000</td>\n",
       "      <td>1.775170e+05</td>\n",
       "      <td>0.470000</td>\n",
       "      <td>0.000000</td>\n",
       "      <td>0.097300</td>\n",
       "      <td>-10.255750</td>\n",
       "      <td>0.035600</td>\n",
       "      <td>95.921750</td>\n",
       "      <td>0.272000</td>\n",
       "    </tr>\n",
       "    <tr>\n",
       "      <th>50%</th>\n",
       "      <td>56030.000000</td>\n",
       "      <td>0.120000</td>\n",
       "      <td>0.570000</td>\n",
       "      <td>2.195330e+05</td>\n",
       "      <td>0.666000</td>\n",
       "      <td>0.000144</td>\n",
       "      <td>0.130000</td>\n",
       "      <td>-7.052000</td>\n",
       "      <td>0.049050</td>\n",
       "      <td>120.012500</td>\n",
       "      <td>0.457000</td>\n",
       "    </tr>\n",
       "    <tr>\n",
       "      <th>75%</th>\n",
       "      <td>73912.750000</td>\n",
       "      <td>0.470000</td>\n",
       "      <td>0.683000</td>\n",
       "      <td>2.660000e+05</td>\n",
       "      <td>0.830000</td>\n",
       "      <td>0.084475</td>\n",
       "      <td>0.253000</td>\n",
       "      <td>-5.054000</td>\n",
       "      <td>0.095575</td>\n",
       "      <td>141.966250</td>\n",
       "      <td>0.653000</td>\n",
       "    </tr>\n",
       "    <tr>\n",
       "      <th>max</th>\n",
       "      <td>91758.000000</td>\n",
       "      <td>0.996000</td>\n",
       "      <td>0.978000</td>\n",
       "      <td>4.497994e+06</td>\n",
       "      <td>0.999000</td>\n",
       "      <td>0.996000</td>\n",
       "      <td>1.000000</td>\n",
       "      <td>3.744000</td>\n",
       "      <td>0.942000</td>\n",
       "      <td>220.041000</td>\n",
       "      <td>0.992000</td>\n",
       "    </tr>\n",
       "  </tbody>\n",
       "</table>\n",
       "</div>"
      ],
      "text/plain": [
       "        instance_id  acousticness  danceability   duration_ms        energy  \\\n",
       "count  20394.000000  20394.000000  20394.000000  2.039400e+04  20394.000000   \n",
       "mean   55973.846916      0.274783      0.561983  2.203754e+05      0.625276   \n",
       "std    20695.792545      0.321643      0.171898  1.267283e+05      0.251238   \n",
       "min    20011.000000      0.000000      0.060000 -1.000000e+00      0.001010   \n",
       "25%    38157.250000      0.015200      0.451000  1.775170e+05      0.470000   \n",
       "50%    56030.000000      0.120000      0.570000  2.195330e+05      0.666000   \n",
       "75%    73912.750000      0.470000      0.683000  2.660000e+05      0.830000   \n",
       "max    91758.000000      0.996000      0.978000  4.497994e+06      0.999000   \n",
       "\n",
       "       instrumentalness      liveness      loudness   speechiness  \\\n",
       "count      20394.000000  20394.000000  20394.000000  20394.000000   \n",
       "mean           0.159989      0.198540     -8.552998      0.091352   \n",
       "std            0.306503      0.166742      5.499917      0.097735   \n",
       "min            0.000000      0.013600    -44.406000      0.022300   \n",
       "25%            0.000000      0.097300    -10.255750      0.035600   \n",
       "50%            0.000144      0.130000     -7.052000      0.049050   \n",
       "75%            0.084475      0.253000     -5.054000      0.095575   \n",
       "max            0.996000      1.000000      3.744000      0.942000   \n",
       "\n",
       "              tempo       valence  \n",
       "count  19952.000000  20394.000000  \n",
       "mean     120.942522      0.464588  \n",
       "std       30.427590      0.243387  \n",
       "min       34.765000      0.000000  \n",
       "25%       95.921750      0.272000  \n",
       "50%      120.012500      0.457000  \n",
       "75%      141.966250      0.653000  \n",
       "max      220.041000      0.992000  "
      ]
     },
     "execution_count": 14,
     "metadata": {},
     "output_type": "execute_result"
    }
   ],
   "source": [
    "train.describe()"
   ]
  },
  {
   "cell_type": "code",
   "execution_count": 15,
   "id": "fdfa7778",
   "metadata": {},
   "outputs": [
    {
     "data": {
      "text/html": [
       "<div>\n",
       "<style scoped>\n",
       "    .dataframe tbody tr th:only-of-type {\n",
       "        vertical-align: middle;\n",
       "    }\n",
       "\n",
       "    .dataframe tbody tr th {\n",
       "        vertical-align: top;\n",
       "    }\n",
       "\n",
       "    .dataframe thead th {\n",
       "        text-align: right;\n",
       "    }\n",
       "</style>\n",
       "<table border=\"1\" class=\"dataframe\">\n",
       "  <thead>\n",
       "    <tr style=\"text-align: right;\">\n",
       "      <th></th>\n",
       "      <th>instance_id</th>\n",
       "      <th>acousticness</th>\n",
       "      <th>danceability</th>\n",
       "      <th>duration_ms</th>\n",
       "      <th>energy</th>\n",
       "      <th>instrumentalness</th>\n",
       "      <th>liveness</th>\n",
       "      <th>loudness</th>\n",
       "      <th>speechiness</th>\n",
       "      <th>tempo</th>\n",
       "      <th>valence</th>\n",
       "    </tr>\n",
       "  </thead>\n",
       "  <tbody>\n",
       "    <tr>\n",
       "      <th>count</th>\n",
       "      <td>5099.000000</td>\n",
       "      <td>5099.000000</td>\n",
       "      <td>5099.000000</td>\n",
       "      <td>5.099000e+03</td>\n",
       "      <td>5099.000000</td>\n",
       "      <td>5099.000000</td>\n",
       "      <td>5099.000000</td>\n",
       "      <td>5099.000000</td>\n",
       "      <td>5099.000000</td>\n",
       "      <td>4978.000000</td>\n",
       "      <td>5099.000000</td>\n",
       "    </tr>\n",
       "    <tr>\n",
       "      <th>mean</th>\n",
       "      <td>55643.871347</td>\n",
       "      <td>0.276324</td>\n",
       "      <td>0.561888</td>\n",
       "      <td>2.173974e+05</td>\n",
       "      <td>0.622030</td>\n",
       "      <td>0.165198</td>\n",
       "      <td>0.197924</td>\n",
       "      <td>-8.630186</td>\n",
       "      <td>0.092718</td>\n",
       "      <td>121.246463</td>\n",
       "      <td>0.465593</td>\n",
       "    </tr>\n",
       "    <tr>\n",
       "      <th>std</th>\n",
       "      <td>20762.384803</td>\n",
       "      <td>0.322657</td>\n",
       "      <td>0.170502</td>\n",
       "      <td>1.156374e+05</td>\n",
       "      <td>0.251829</td>\n",
       "      <td>0.311940</td>\n",
       "      <td>0.166241</td>\n",
       "      <td>5.619766</td>\n",
       "      <td>0.100130</td>\n",
       "      <td>29.875950</td>\n",
       "      <td>0.244217</td>\n",
       "    </tr>\n",
       "    <tr>\n",
       "      <th>min</th>\n",
       "      <td>20012.000000</td>\n",
       "      <td>0.000002</td>\n",
       "      <td>0.059600</td>\n",
       "      <td>-1.000000e+00</td>\n",
       "      <td>0.001540</td>\n",
       "      <td>0.000000</td>\n",
       "      <td>0.020400</td>\n",
       "      <td>-46.122000</td>\n",
       "      <td>0.022600</td>\n",
       "      <td>37.114000</td>\n",
       "      <td>0.020500</td>\n",
       "    </tr>\n",
       "    <tr>\n",
       "      <th>25%</th>\n",
       "      <td>37571.000000</td>\n",
       "      <td>0.016600</td>\n",
       "      <td>0.451000</td>\n",
       "      <td>1.737335e+05</td>\n",
       "      <td>0.465000</td>\n",
       "      <td>0.000000</td>\n",
       "      <td>0.096950</td>\n",
       "      <td>-10.231000</td>\n",
       "      <td>0.035700</td>\n",
       "      <td>96.070250</td>\n",
       "      <td>0.272000</td>\n",
       "    </tr>\n",
       "    <tr>\n",
       "      <th>50%</th>\n",
       "      <td>55246.000000</td>\n",
       "      <td>0.120000</td>\n",
       "      <td>0.568000</td>\n",
       "      <td>2.175000e+05</td>\n",
       "      <td>0.660000</td>\n",
       "      <td>0.000157</td>\n",
       "      <td>0.129000</td>\n",
       "      <td>-7.135000</td>\n",
       "      <td>0.048700</td>\n",
       "      <td>120.053500</td>\n",
       "      <td>0.458000</td>\n",
       "    </tr>\n",
       "    <tr>\n",
       "      <th>75%</th>\n",
       "      <td>73702.000000</td>\n",
       "      <td>0.460000</td>\n",
       "      <td>0.681000</td>\n",
       "      <td>2.642470e+05</td>\n",
       "      <td>0.826000</td>\n",
       "      <td>0.092750</td>\n",
       "      <td>0.248000</td>\n",
       "      <td>-5.127000</td>\n",
       "      <td>0.096550</td>\n",
       "      <td>141.934250</td>\n",
       "      <td>0.650000</td>\n",
       "    </tr>\n",
       "    <tr>\n",
       "      <th>max</th>\n",
       "      <td>91709.000000</td>\n",
       "      <td>0.996000</td>\n",
       "      <td>0.977000</td>\n",
       "      <td>1.360027e+06</td>\n",
       "      <td>0.999000</td>\n",
       "      <td>0.994000</td>\n",
       "      <td>0.990000</td>\n",
       "      <td>1.949000</td>\n",
       "      <td>0.918000</td>\n",
       "      <td>216.029000</td>\n",
       "      <td>0.982000</td>\n",
       "    </tr>\n",
       "  </tbody>\n",
       "</table>\n",
       "</div>"
      ],
      "text/plain": [
       "        instance_id  acousticness  danceability   duration_ms       energy  \\\n",
       "count   5099.000000   5099.000000   5099.000000  5.099000e+03  5099.000000   \n",
       "mean   55643.871347      0.276324      0.561888  2.173974e+05     0.622030   \n",
       "std    20762.384803      0.322657      0.170502  1.156374e+05     0.251829   \n",
       "min    20012.000000      0.000002      0.059600 -1.000000e+00     0.001540   \n",
       "25%    37571.000000      0.016600      0.451000  1.737335e+05     0.465000   \n",
       "50%    55246.000000      0.120000      0.568000  2.175000e+05     0.660000   \n",
       "75%    73702.000000      0.460000      0.681000  2.642470e+05     0.826000   \n",
       "max    91709.000000      0.996000      0.977000  1.360027e+06     0.999000   \n",
       "\n",
       "       instrumentalness     liveness     loudness  speechiness        tempo  \\\n",
       "count       5099.000000  5099.000000  5099.000000  5099.000000  4978.000000   \n",
       "mean           0.165198     0.197924    -8.630186     0.092718   121.246463   \n",
       "std            0.311940     0.166241     5.619766     0.100130    29.875950   \n",
       "min            0.000000     0.020400   -46.122000     0.022600    37.114000   \n",
       "25%            0.000000     0.096950   -10.231000     0.035700    96.070250   \n",
       "50%            0.000157     0.129000    -7.135000     0.048700   120.053500   \n",
       "75%            0.092750     0.248000    -5.127000     0.096550   141.934250   \n",
       "max            0.994000     0.990000     1.949000     0.918000   216.029000   \n",
       "\n",
       "           valence  \n",
       "count  5099.000000  \n",
       "mean      0.465593  \n",
       "std       0.244217  \n",
       "min       0.020500  \n",
       "25%       0.272000  \n",
       "50%       0.458000  \n",
       "75%       0.650000  \n",
       "max       0.982000  "
      ]
     },
     "execution_count": 15,
     "metadata": {},
     "output_type": "execute_result"
    }
   ],
   "source": [
    "test.describe()"
   ]
  },
  {
   "cell_type": "markdown",
   "id": "5e33f080",
   "metadata": {},
   "source": [
    "Статистики Train и тест схожи, но есть аномалии, например поле instrumentalness содержит нулевые значения, а поле  loudness - отрицательные"
   ]
  },
  {
   "cell_type": "markdown",
   "id": "27ad99eb",
   "metadata": {},
   "source": [
    "Проверим массивы на наличие явных дубликатов"
   ]
  },
  {
   "cell_type": "code",
   "execution_count": 16,
   "id": "a75cd9ad",
   "metadata": {},
   "outputs": [
    {
     "data": {
      "text/plain": [
       "0"
      ]
     },
     "execution_count": 16,
     "metadata": {},
     "output_type": "execute_result"
    }
   ],
   "source": [
    "train.duplicated().sum()"
   ]
  },
  {
   "cell_type": "code",
   "execution_count": 17,
   "id": "bc3a0aa0",
   "metadata": {},
   "outputs": [
    {
     "data": {
      "text/plain": [
       "0"
      ]
     },
     "execution_count": 17,
     "metadata": {},
     "output_type": "execute_result"
    }
   ],
   "source": [
    "test.duplicated().sum()"
   ]
  },
  {
   "cell_type": "markdown",
   "id": "7396e79f",
   "metadata": {},
   "source": [
    "Явные дубликаты не обнаружены, проверим через, например, дополнительное поле, которое будет суммой id+дата \n",
    "или айди + дата+ название трека"
   ]
  },
  {
   "cell_type": "markdown",
   "id": "7e81247e",
   "metadata": {},
   "source": [
    "Но, сперва рассмотрим профайлинг репорт"
   ]
  },
  {
   "cell_type": "code",
   "execution_count": 18,
   "id": "de159ce6",
   "metadata": {},
   "outputs": [],
   "source": [
    "#profile_train = train.profile_report(title='Train Profiling Report', progress_bar=False)\n",
    "#profile_train"
   ]
  },
  {
   "cell_type": "markdown",
   "id": "3724b168",
   "metadata": {},
   "source": [
    "В трейне присутсвуют созависимые фичи, надо оставить один, очевидно, что для расчета используется одна формула, поэтому оставим \n",
    "поле loudness, остальные численные фичи в утиль, радует что айдишники уникальные"
   ]
  },
  {
   "cell_type": "markdown",
   "id": "09e7b60d",
   "metadata": {},
   "source": [
    "Рассмотрим отчет для теста "
   ]
  },
  {
   "cell_type": "code",
   "execution_count": 19,
   "id": "5c90e1ca",
   "metadata": {},
   "outputs": [],
   "source": [
    "#profile_test = test.profile_report(title='Test Profiling Report', progress_bar=False)\n",
    "#profile_test"
   ]
  },
  {
   "cell_type": "markdown",
   "id": "7c545cd5",
   "metadata": {},
   "source": [
    "Что можно было бы сделать с полем track-name, выявить группу уникальных ключевых слов, но это в наши планы не входит, можно также было бы классифицировать треки по количеству символов в названии, или по числу слов. Но это отнимет много времени, поэтому просто утилизируем данный признак. Также для нашей модели не понадобится и айдишник трека"
   ]
  },
  {
   "cell_type": "markdown",
   "id": "ce37533e",
   "metadata": {},
   "source": [
    "Пейн, я таргета не вижу, Боба, таргет в массиве Sample"
   ]
  },
  {
   "cell_type": "code",
   "execution_count": 20,
   "id": "a4438288",
   "metadata": {},
   "outputs": [],
   "source": [
    "#rofile_sample = sample.profile_report(title='sample Profiling Report', progress_bar=False)\n",
    "#rofile_sample"
   ]
  },
  {
   "cell_type": "markdown",
   "id": "2504cea0",
   "metadata": {},
   "source": [
    "Отлично, значит у нас есть связь, замерджим по id жанры для трейна и теста, также потом  осуществим вышеописанные процедуры по удалению признаков, благо пустых айди в наличии нет. надо бы еще их свести в нижний регистр и проверить на дубликаты. Вероятно также смещение в данных, требуется рассмотреть количество уникальных значений в поле music_genre"
   ]
  },
  {
   "cell_type": "code",
   "execution_count": 21,
   "id": "b2498885",
   "metadata": {},
   "outputs": [
    {
     "data": {
      "text/plain": [
       "Rock           484\n",
       "Jazz           498\n",
       "Alternative    502\n",
       "Blues          503\n",
       "Rap            504\n",
       "Classical      504\n",
       "Hip-Hop        517\n",
       "Anime          526\n",
       "Electronic     529\n",
       "Country        532\n",
       "Name: music_genre, dtype: int64"
      ]
     },
     "execution_count": 21,
     "metadata": {},
     "output_type": "execute_result"
    }
   ],
   "source": [
    "sample['music_genre'].value_counts(ascending=True)"
   ]
  },
  {
   "cell_type": "markdown",
   "id": "fed92493",
   "metadata": {},
   "source": [
    "Разброс таргета по жанрам не значителен, ошибок и неявных дубликатов нет"
   ]
  },
  {
   "cell_type": "markdown",
   "id": "3c7c71b5",
   "metadata": {},
   "source": [
    "Мерджим трейн и тест c sample по  id. Но сначала, посмотрим, что там в полях меняется, чую есть подвох с полем key "
   ]
  },
  {
   "cell_type": "code",
   "execution_count": 22,
   "id": "d4d45bcc",
   "metadata": {},
   "outputs": [],
   "source": [
    "train_merg=train.copy()"
   ]
  },
  {
   "cell_type": "code",
   "execution_count": 23,
   "id": "63d4eead",
   "metadata": {},
   "outputs": [],
   "source": [
    "test_merg=test.copy()"
   ]
  },
  {
   "cell_type": "code",
   "execution_count": 24,
   "id": "daf41af0",
   "metadata": {},
   "outputs": [],
   "source": [
    "train_merg=train_merg.merge(sample,how='left', on='instance_id')"
   ]
  },
  {
   "cell_type": "code",
   "execution_count": 25,
   "id": "1b04720a",
   "metadata": {},
   "outputs": [
    {
     "data": {
      "text/html": [
       "<div>\n",
       "<style scoped>\n",
       "    .dataframe tbody tr th:only-of-type {\n",
       "        vertical-align: middle;\n",
       "    }\n",
       "\n",
       "    .dataframe tbody tr th {\n",
       "        vertical-align: top;\n",
       "    }\n",
       "\n",
       "    .dataframe thead th {\n",
       "        text-align: right;\n",
       "    }\n",
       "</style>\n",
       "<table border=\"1\" class=\"dataframe\">\n",
       "  <thead>\n",
       "    <tr style=\"text-align: right;\">\n",
       "      <th></th>\n",
       "      <th>instance_id</th>\n",
       "      <th>track_name</th>\n",
       "      <th>acousticness</th>\n",
       "      <th>danceability</th>\n",
       "      <th>duration_ms</th>\n",
       "      <th>energy</th>\n",
       "      <th>instrumentalness</th>\n",
       "      <th>key</th>\n",
       "      <th>liveness</th>\n",
       "      <th>loudness</th>\n",
       "      <th>mode</th>\n",
       "      <th>speechiness</th>\n",
       "      <th>tempo</th>\n",
       "      <th>obtained_date</th>\n",
       "      <th>valence</th>\n",
       "      <th>music_genre_x</th>\n",
       "      <th>music_genre_y</th>\n",
       "    </tr>\n",
       "  </thead>\n",
       "  <tbody>\n",
       "    <tr>\n",
       "      <th>0</th>\n",
       "      <td>25143.0</td>\n",
       "      <td>Highwayman</td>\n",
       "      <td>0.48000</td>\n",
       "      <td>0.670</td>\n",
       "      <td>182653.0</td>\n",
       "      <td>0.351</td>\n",
       "      <td>0.017600</td>\n",
       "      <td>D</td>\n",
       "      <td>0.1150</td>\n",
       "      <td>-16.842</td>\n",
       "      <td>Major</td>\n",
       "      <td>0.0463</td>\n",
       "      <td>101.384</td>\n",
       "      <td>4-Apr</td>\n",
       "      <td>0.450</td>\n",
       "      <td>Country</td>\n",
       "      <td>NaN</td>\n",
       "    </tr>\n",
       "    <tr>\n",
       "      <th>1</th>\n",
       "      <td>26091.0</td>\n",
       "      <td>Toes Across The Floor</td>\n",
       "      <td>0.24300</td>\n",
       "      <td>0.452</td>\n",
       "      <td>187133.0</td>\n",
       "      <td>0.670</td>\n",
       "      <td>0.000051</td>\n",
       "      <td>A</td>\n",
       "      <td>0.1080</td>\n",
       "      <td>-8.392</td>\n",
       "      <td>Minor</td>\n",
       "      <td>0.0352</td>\n",
       "      <td>113.071</td>\n",
       "      <td>4-Apr</td>\n",
       "      <td>0.539</td>\n",
       "      <td>Rock</td>\n",
       "      <td>NaN</td>\n",
       "    </tr>\n",
       "    <tr>\n",
       "      <th>2</th>\n",
       "      <td>87888.0</td>\n",
       "      <td>First Person on Earth</td>\n",
       "      <td>0.22800</td>\n",
       "      <td>0.454</td>\n",
       "      <td>173448.0</td>\n",
       "      <td>0.804</td>\n",
       "      <td>0.000000</td>\n",
       "      <td>E</td>\n",
       "      <td>0.1810</td>\n",
       "      <td>-5.225</td>\n",
       "      <td>Minor</td>\n",
       "      <td>0.3710</td>\n",
       "      <td>80.980</td>\n",
       "      <td>4-Apr</td>\n",
       "      <td>0.344</td>\n",
       "      <td>Alternative</td>\n",
       "      <td>NaN</td>\n",
       "    </tr>\n",
       "    <tr>\n",
       "      <th>3</th>\n",
       "      <td>77021.0</td>\n",
       "      <td>No Te Veo - Digital Single</td>\n",
       "      <td>0.05580</td>\n",
       "      <td>0.847</td>\n",
       "      <td>255987.0</td>\n",
       "      <td>0.873</td>\n",
       "      <td>0.000003</td>\n",
       "      <td>G#</td>\n",
       "      <td>0.3250</td>\n",
       "      <td>-4.805</td>\n",
       "      <td>Minor</td>\n",
       "      <td>0.0804</td>\n",
       "      <td>116.007</td>\n",
       "      <td>4-Apr</td>\n",
       "      <td>0.966</td>\n",
       "      <td>Hip-Hop</td>\n",
       "      <td>NaN</td>\n",
       "    </tr>\n",
       "    <tr>\n",
       "      <th>4</th>\n",
       "      <td>20852.0</td>\n",
       "      <td>Chasing Shadows</td>\n",
       "      <td>0.22700</td>\n",
       "      <td>0.742</td>\n",
       "      <td>195333.0</td>\n",
       "      <td>0.575</td>\n",
       "      <td>0.000002</td>\n",
       "      <td>C</td>\n",
       "      <td>0.1760</td>\n",
       "      <td>-5.550</td>\n",
       "      <td>Major</td>\n",
       "      <td>0.0487</td>\n",
       "      <td>76.494</td>\n",
       "      <td>4-Apr</td>\n",
       "      <td>0.583</td>\n",
       "      <td>Alternative</td>\n",
       "      <td>NaN</td>\n",
       "    </tr>\n",
       "    <tr>\n",
       "      <th>...</th>\n",
       "      <td>...</td>\n",
       "      <td>...</td>\n",
       "      <td>...</td>\n",
       "      <td>...</td>\n",
       "      <td>...</td>\n",
       "      <td>...</td>\n",
       "      <td>...</td>\n",
       "      <td>...</td>\n",
       "      <td>...</td>\n",
       "      <td>...</td>\n",
       "      <td>...</td>\n",
       "      <td>...</td>\n",
       "      <td>...</td>\n",
       "      <td>...</td>\n",
       "      <td>...</td>\n",
       "      <td>...</td>\n",
       "      <td>...</td>\n",
       "    </tr>\n",
       "    <tr>\n",
       "      <th>20389</th>\n",
       "      <td>47396.0</td>\n",
       "      <td>O Pato</td>\n",
       "      <td>0.71900</td>\n",
       "      <td>0.725</td>\n",
       "      <td>-1.0</td>\n",
       "      <td>0.483</td>\n",
       "      <td>0.000000</td>\n",
       "      <td>NaN</td>\n",
       "      <td>0.0797</td>\n",
       "      <td>-13.314</td>\n",
       "      <td>Minor</td>\n",
       "      <td>0.0438</td>\n",
       "      <td>87.413</td>\n",
       "      <td>4-Apr</td>\n",
       "      <td>0.942</td>\n",
       "      <td>Jazz</td>\n",
       "      <td>NaN</td>\n",
       "    </tr>\n",
       "    <tr>\n",
       "      <th>20390</th>\n",
       "      <td>44799.0</td>\n",
       "      <td>Mt. Washington</td>\n",
       "      <td>0.19000</td>\n",
       "      <td>0.482</td>\n",
       "      <td>198933.0</td>\n",
       "      <td>0.362</td>\n",
       "      <td>0.005620</td>\n",
       "      <td>F#</td>\n",
       "      <td>0.0913</td>\n",
       "      <td>-10.358</td>\n",
       "      <td>Minor</td>\n",
       "      <td>0.0299</td>\n",
       "      <td>76.879</td>\n",
       "      <td>4-Apr</td>\n",
       "      <td>0.174</td>\n",
       "      <td>Rock</td>\n",
       "      <td>NaN</td>\n",
       "    </tr>\n",
       "    <tr>\n",
       "      <th>20391</th>\n",
       "      <td>33350.0</td>\n",
       "      <td>Original Prankster</td>\n",
       "      <td>0.00061</td>\n",
       "      <td>0.663</td>\n",
       "      <td>220947.0</td>\n",
       "      <td>0.886</td>\n",
       "      <td>0.000025</td>\n",
       "      <td>D</td>\n",
       "      <td>0.2840</td>\n",
       "      <td>-4.149</td>\n",
       "      <td>Major</td>\n",
       "      <td>0.0358</td>\n",
       "      <td>146.803</td>\n",
       "      <td>4-Apr</td>\n",
       "      <td>0.942</td>\n",
       "      <td>Alternative</td>\n",
       "      <td>NaN</td>\n",
       "    </tr>\n",
       "    <tr>\n",
       "      <th>20392</th>\n",
       "      <td>77920.0</td>\n",
       "      <td>4Peat</td>\n",
       "      <td>0.00310</td>\n",
       "      <td>0.914</td>\n",
       "      <td>162214.0</td>\n",
       "      <td>0.515</td>\n",
       "      <td>0.000000</td>\n",
       "      <td>C#</td>\n",
       "      <td>0.1050</td>\n",
       "      <td>-9.934</td>\n",
       "      <td>Major</td>\n",
       "      <td>0.3560</td>\n",
       "      <td>150.016</td>\n",
       "      <td>4-Apr</td>\n",
       "      <td>0.215</td>\n",
       "      <td>Rap</td>\n",
       "      <td>NaN</td>\n",
       "    </tr>\n",
       "    <tr>\n",
       "      <th>20393</th>\n",
       "      <td>86375.0</td>\n",
       "      <td>Trouble (feat. MC Spyder)</td>\n",
       "      <td>0.05350</td>\n",
       "      <td>0.717</td>\n",
       "      <td>271885.0</td>\n",
       "      <td>0.983</td>\n",
       "      <td>0.491000</td>\n",
       "      <td>D#</td>\n",
       "      <td>0.1080</td>\n",
       "      <td>-1.615</td>\n",
       "      <td>Minor</td>\n",
       "      <td>0.0942</td>\n",
       "      <td>128.004</td>\n",
       "      <td>4-Apr</td>\n",
       "      <td>0.077</td>\n",
       "      <td>Electronic</td>\n",
       "      <td>NaN</td>\n",
       "    </tr>\n",
       "  </tbody>\n",
       "</table>\n",
       "<p>20394 rows × 17 columns</p>\n",
       "</div>"
      ],
      "text/plain": [
       "       instance_id                  track_name  acousticness  danceability  \\\n",
       "0          25143.0                  Highwayman       0.48000         0.670   \n",
       "1          26091.0       Toes Across The Floor       0.24300         0.452   \n",
       "2          87888.0       First Person on Earth       0.22800         0.454   \n",
       "3          77021.0  No Te Veo - Digital Single       0.05580         0.847   \n",
       "4          20852.0             Chasing Shadows       0.22700         0.742   \n",
       "...            ...                         ...           ...           ...   \n",
       "20389      47396.0                      O Pato       0.71900         0.725   \n",
       "20390      44799.0              Mt. Washington       0.19000         0.482   \n",
       "20391      33350.0          Original Prankster       0.00061         0.663   \n",
       "20392      77920.0                       4Peat       0.00310         0.914   \n",
       "20393      86375.0   Trouble (feat. MC Spyder)       0.05350         0.717   \n",
       "\n",
       "       duration_ms  energy  instrumentalness  key  liveness  loudness   mode  \\\n",
       "0         182653.0   0.351          0.017600    D    0.1150   -16.842  Major   \n",
       "1         187133.0   0.670          0.000051    A    0.1080    -8.392  Minor   \n",
       "2         173448.0   0.804          0.000000    E    0.1810    -5.225  Minor   \n",
       "3         255987.0   0.873          0.000003   G#    0.3250    -4.805  Minor   \n",
       "4         195333.0   0.575          0.000002    C    0.1760    -5.550  Major   \n",
       "...            ...     ...               ...  ...       ...       ...    ...   \n",
       "20389         -1.0   0.483          0.000000  NaN    0.0797   -13.314  Minor   \n",
       "20390     198933.0   0.362          0.005620   F#    0.0913   -10.358  Minor   \n",
       "20391     220947.0   0.886          0.000025    D    0.2840    -4.149  Major   \n",
       "20392     162214.0   0.515          0.000000   C#    0.1050    -9.934  Major   \n",
       "20393     271885.0   0.983          0.491000   D#    0.1080    -1.615  Minor   \n",
       "\n",
       "       speechiness    tempo obtained_date  valence music_genre_x music_genre_y  \n",
       "0           0.0463  101.384         4-Apr    0.450       Country           NaN  \n",
       "1           0.0352  113.071         4-Apr    0.539          Rock           NaN  \n",
       "2           0.3710   80.980         4-Apr    0.344   Alternative           NaN  \n",
       "3           0.0804  116.007         4-Apr    0.966       Hip-Hop           NaN  \n",
       "4           0.0487   76.494         4-Apr    0.583   Alternative           NaN  \n",
       "...            ...      ...           ...      ...           ...           ...  \n",
       "20389       0.0438   87.413         4-Apr    0.942          Jazz           NaN  \n",
       "20390       0.0299   76.879         4-Apr    0.174          Rock           NaN  \n",
       "20391       0.0358  146.803         4-Apr    0.942   Alternative           NaN  \n",
       "20392       0.3560  150.016         4-Apr    0.215           Rap           NaN  \n",
       "20393       0.0942  128.004         4-Apr    0.077    Electronic           NaN  \n",
       "\n",
       "[20394 rows x 17 columns]"
      ]
     },
     "execution_count": 25,
     "metadata": {},
     "output_type": "execute_result"
    }
   ],
   "source": [
    "train_merg"
   ]
  },
  {
   "cell_type": "code",
   "execution_count": 26,
   "id": "3c2fb281",
   "metadata": {},
   "outputs": [],
   "source": [
    "test_merg=test_merg.merge(sample,how='left', on='instance_id')\n",
    "\n"
   ]
  },
  {
   "cell_type": "code",
   "execution_count": 27,
   "id": "28084c41",
   "metadata": {},
   "outputs": [],
   "source": [
    "#profile_test_merg = test_merg.profile_report(title='test_merg Profiling Report', progress_bar=False)\n",
    "#profile_test_merg"
   ]
  },
  {
   "cell_type": "code",
   "execution_count": 28,
   "id": "cf2d043b",
   "metadata": {},
   "outputs": [],
   "source": [
    "#profile_train_merg = train_merg.profile_report(title='train_merg Profiling Report', progress_bar=False)\n",
    "#profile_train_merg"
   ]
  },
  {
   "cell_type": "markdown",
   "id": "aa5dc157",
   "metadata": {},
   "source": [
    "Теперь, как говорил, ранее, дропаем лишние фичи acousticness,energy,track_name,obtained_date,instance_id и instrumentalness"
   ]
  },
  {
   "cell_type": "code",
   "execution_count": 29,
   "id": "6769acb5",
   "metadata": {},
   "outputs": [
    {
     "data": {
      "text/plain": [
       "Index(['instance_id', 'track_name', 'acousticness', 'danceability',\n",
       "       'duration_ms', 'energy', 'instrumentalness', 'key', 'liveness',\n",
       "       'loudness', 'mode', 'speechiness', 'tempo', 'obtained_date', 'valence',\n",
       "       'music_genre_x', 'music_genre_y'],\n",
       "      dtype='object')"
      ]
     },
     "execution_count": 29,
     "metadata": {},
     "output_type": "execute_result"
    }
   ],
   "source": [
    "train_merg.columns"
   ]
  },
  {
   "cell_type": "markdown",
   "id": "2717a339",
   "metadata": {},
   "source": [
    "Хм, массив train задваивается при объединении, такого не происходит с массивом test, ладно, опустим этот момент, сделаем грязный фикс"
   ]
  },
  {
   "cell_type": "code",
   "execution_count": 30,
   "id": "a37dfb57",
   "metadata": {},
   "outputs": [
    {
     "data": {
      "text/html": [
       "<div>\n",
       "<style scoped>\n",
       "    .dataframe tbody tr th:only-of-type {\n",
       "        vertical-align: middle;\n",
       "    }\n",
       "\n",
       "    .dataframe tbody tr th {\n",
       "        vertical-align: top;\n",
       "    }\n",
       "\n",
       "    .dataframe thead th {\n",
       "        text-align: right;\n",
       "    }\n",
       "</style>\n",
       "<table border=\"1\" class=\"dataframe\">\n",
       "  <thead>\n",
       "    <tr style=\"text-align: right;\">\n",
       "      <th></th>\n",
       "      <th>instance_id</th>\n",
       "      <th>track_name</th>\n",
       "      <th>acousticness</th>\n",
       "      <th>danceability</th>\n",
       "      <th>duration_ms</th>\n",
       "      <th>energy</th>\n",
       "      <th>instrumentalness</th>\n",
       "      <th>key</th>\n",
       "      <th>liveness</th>\n",
       "      <th>loudness</th>\n",
       "      <th>mode</th>\n",
       "      <th>speechiness</th>\n",
       "      <th>tempo</th>\n",
       "      <th>obtained_date</th>\n",
       "      <th>valence</th>\n",
       "      <th>music_genre_x</th>\n",
       "    </tr>\n",
       "  </thead>\n",
       "  <tbody>\n",
       "    <tr>\n",
       "      <th>0</th>\n",
       "      <td>25143.0</td>\n",
       "      <td>Highwayman</td>\n",
       "      <td>0.48000</td>\n",
       "      <td>0.670</td>\n",
       "      <td>182653.0</td>\n",
       "      <td>0.351</td>\n",
       "      <td>0.017600</td>\n",
       "      <td>D</td>\n",
       "      <td>0.1150</td>\n",
       "      <td>-16.842</td>\n",
       "      <td>Major</td>\n",
       "      <td>0.0463</td>\n",
       "      <td>101.384</td>\n",
       "      <td>4-Apr</td>\n",
       "      <td>0.450</td>\n",
       "      <td>Country</td>\n",
       "    </tr>\n",
       "    <tr>\n",
       "      <th>1</th>\n",
       "      <td>26091.0</td>\n",
       "      <td>Toes Across The Floor</td>\n",
       "      <td>0.24300</td>\n",
       "      <td>0.452</td>\n",
       "      <td>187133.0</td>\n",
       "      <td>0.670</td>\n",
       "      <td>0.000051</td>\n",
       "      <td>A</td>\n",
       "      <td>0.1080</td>\n",
       "      <td>-8.392</td>\n",
       "      <td>Minor</td>\n",
       "      <td>0.0352</td>\n",
       "      <td>113.071</td>\n",
       "      <td>4-Apr</td>\n",
       "      <td>0.539</td>\n",
       "      <td>Rock</td>\n",
       "    </tr>\n",
       "    <tr>\n",
       "      <th>2</th>\n",
       "      <td>87888.0</td>\n",
       "      <td>First Person on Earth</td>\n",
       "      <td>0.22800</td>\n",
       "      <td>0.454</td>\n",
       "      <td>173448.0</td>\n",
       "      <td>0.804</td>\n",
       "      <td>0.000000</td>\n",
       "      <td>E</td>\n",
       "      <td>0.1810</td>\n",
       "      <td>-5.225</td>\n",
       "      <td>Minor</td>\n",
       "      <td>0.3710</td>\n",
       "      <td>80.980</td>\n",
       "      <td>4-Apr</td>\n",
       "      <td>0.344</td>\n",
       "      <td>Alternative</td>\n",
       "    </tr>\n",
       "    <tr>\n",
       "      <th>3</th>\n",
       "      <td>77021.0</td>\n",
       "      <td>No Te Veo - Digital Single</td>\n",
       "      <td>0.05580</td>\n",
       "      <td>0.847</td>\n",
       "      <td>255987.0</td>\n",
       "      <td>0.873</td>\n",
       "      <td>0.000003</td>\n",
       "      <td>G#</td>\n",
       "      <td>0.3250</td>\n",
       "      <td>-4.805</td>\n",
       "      <td>Minor</td>\n",
       "      <td>0.0804</td>\n",
       "      <td>116.007</td>\n",
       "      <td>4-Apr</td>\n",
       "      <td>0.966</td>\n",
       "      <td>Hip-Hop</td>\n",
       "    </tr>\n",
       "    <tr>\n",
       "      <th>4</th>\n",
       "      <td>20852.0</td>\n",
       "      <td>Chasing Shadows</td>\n",
       "      <td>0.22700</td>\n",
       "      <td>0.742</td>\n",
       "      <td>195333.0</td>\n",
       "      <td>0.575</td>\n",
       "      <td>0.000002</td>\n",
       "      <td>C</td>\n",
       "      <td>0.1760</td>\n",
       "      <td>-5.550</td>\n",
       "      <td>Major</td>\n",
       "      <td>0.0487</td>\n",
       "      <td>76.494</td>\n",
       "      <td>4-Apr</td>\n",
       "      <td>0.583</td>\n",
       "      <td>Alternative</td>\n",
       "    </tr>\n",
       "    <tr>\n",
       "      <th>...</th>\n",
       "      <td>...</td>\n",
       "      <td>...</td>\n",
       "      <td>...</td>\n",
       "      <td>...</td>\n",
       "      <td>...</td>\n",
       "      <td>...</td>\n",
       "      <td>...</td>\n",
       "      <td>...</td>\n",
       "      <td>...</td>\n",
       "      <td>...</td>\n",
       "      <td>...</td>\n",
       "      <td>...</td>\n",
       "      <td>...</td>\n",
       "      <td>...</td>\n",
       "      <td>...</td>\n",
       "      <td>...</td>\n",
       "    </tr>\n",
       "    <tr>\n",
       "      <th>20389</th>\n",
       "      <td>47396.0</td>\n",
       "      <td>O Pato</td>\n",
       "      <td>0.71900</td>\n",
       "      <td>0.725</td>\n",
       "      <td>-1.0</td>\n",
       "      <td>0.483</td>\n",
       "      <td>0.000000</td>\n",
       "      <td>NaN</td>\n",
       "      <td>0.0797</td>\n",
       "      <td>-13.314</td>\n",
       "      <td>Minor</td>\n",
       "      <td>0.0438</td>\n",
       "      <td>87.413</td>\n",
       "      <td>4-Apr</td>\n",
       "      <td>0.942</td>\n",
       "      <td>Jazz</td>\n",
       "    </tr>\n",
       "    <tr>\n",
       "      <th>20390</th>\n",
       "      <td>44799.0</td>\n",
       "      <td>Mt. Washington</td>\n",
       "      <td>0.19000</td>\n",
       "      <td>0.482</td>\n",
       "      <td>198933.0</td>\n",
       "      <td>0.362</td>\n",
       "      <td>0.005620</td>\n",
       "      <td>F#</td>\n",
       "      <td>0.0913</td>\n",
       "      <td>-10.358</td>\n",
       "      <td>Minor</td>\n",
       "      <td>0.0299</td>\n",
       "      <td>76.879</td>\n",
       "      <td>4-Apr</td>\n",
       "      <td>0.174</td>\n",
       "      <td>Rock</td>\n",
       "    </tr>\n",
       "    <tr>\n",
       "      <th>20391</th>\n",
       "      <td>33350.0</td>\n",
       "      <td>Original Prankster</td>\n",
       "      <td>0.00061</td>\n",
       "      <td>0.663</td>\n",
       "      <td>220947.0</td>\n",
       "      <td>0.886</td>\n",
       "      <td>0.000025</td>\n",
       "      <td>D</td>\n",
       "      <td>0.2840</td>\n",
       "      <td>-4.149</td>\n",
       "      <td>Major</td>\n",
       "      <td>0.0358</td>\n",
       "      <td>146.803</td>\n",
       "      <td>4-Apr</td>\n",
       "      <td>0.942</td>\n",
       "      <td>Alternative</td>\n",
       "    </tr>\n",
       "    <tr>\n",
       "      <th>20392</th>\n",
       "      <td>77920.0</td>\n",
       "      <td>4Peat</td>\n",
       "      <td>0.00310</td>\n",
       "      <td>0.914</td>\n",
       "      <td>162214.0</td>\n",
       "      <td>0.515</td>\n",
       "      <td>0.000000</td>\n",
       "      <td>C#</td>\n",
       "      <td>0.1050</td>\n",
       "      <td>-9.934</td>\n",
       "      <td>Major</td>\n",
       "      <td>0.3560</td>\n",
       "      <td>150.016</td>\n",
       "      <td>4-Apr</td>\n",
       "      <td>0.215</td>\n",
       "      <td>Rap</td>\n",
       "    </tr>\n",
       "    <tr>\n",
       "      <th>20393</th>\n",
       "      <td>86375.0</td>\n",
       "      <td>Trouble (feat. MC Spyder)</td>\n",
       "      <td>0.05350</td>\n",
       "      <td>0.717</td>\n",
       "      <td>271885.0</td>\n",
       "      <td>0.983</td>\n",
       "      <td>0.491000</td>\n",
       "      <td>D#</td>\n",
       "      <td>0.1080</td>\n",
       "      <td>-1.615</td>\n",
       "      <td>Minor</td>\n",
       "      <td>0.0942</td>\n",
       "      <td>128.004</td>\n",
       "      <td>4-Apr</td>\n",
       "      <td>0.077</td>\n",
       "      <td>Electronic</td>\n",
       "    </tr>\n",
       "  </tbody>\n",
       "</table>\n",
       "<p>20394 rows × 16 columns</p>\n",
       "</div>"
      ],
      "text/plain": [
       "       instance_id                  track_name  acousticness  danceability  \\\n",
       "0          25143.0                  Highwayman       0.48000         0.670   \n",
       "1          26091.0       Toes Across The Floor       0.24300         0.452   \n",
       "2          87888.0       First Person on Earth       0.22800         0.454   \n",
       "3          77021.0  No Te Veo - Digital Single       0.05580         0.847   \n",
       "4          20852.0             Chasing Shadows       0.22700         0.742   \n",
       "...            ...                         ...           ...           ...   \n",
       "20389      47396.0                      O Pato       0.71900         0.725   \n",
       "20390      44799.0              Mt. Washington       0.19000         0.482   \n",
       "20391      33350.0          Original Prankster       0.00061         0.663   \n",
       "20392      77920.0                       4Peat       0.00310         0.914   \n",
       "20393      86375.0   Trouble (feat. MC Spyder)       0.05350         0.717   \n",
       "\n",
       "       duration_ms  energy  instrumentalness  key  liveness  loudness   mode  \\\n",
       "0         182653.0   0.351          0.017600    D    0.1150   -16.842  Major   \n",
       "1         187133.0   0.670          0.000051    A    0.1080    -8.392  Minor   \n",
       "2         173448.0   0.804          0.000000    E    0.1810    -5.225  Minor   \n",
       "3         255987.0   0.873          0.000003   G#    0.3250    -4.805  Minor   \n",
       "4         195333.0   0.575          0.000002    C    0.1760    -5.550  Major   \n",
       "...            ...     ...               ...  ...       ...       ...    ...   \n",
       "20389         -1.0   0.483          0.000000  NaN    0.0797   -13.314  Minor   \n",
       "20390     198933.0   0.362          0.005620   F#    0.0913   -10.358  Minor   \n",
       "20391     220947.0   0.886          0.000025    D    0.2840    -4.149  Major   \n",
       "20392     162214.0   0.515          0.000000   C#    0.1050    -9.934  Major   \n",
       "20393     271885.0   0.983          0.491000   D#    0.1080    -1.615  Minor   \n",
       "\n",
       "       speechiness    tempo obtained_date  valence music_genre_x  \n",
       "0           0.0463  101.384         4-Apr    0.450       Country  \n",
       "1           0.0352  113.071         4-Apr    0.539          Rock  \n",
       "2           0.3710   80.980         4-Apr    0.344   Alternative  \n",
       "3           0.0804  116.007         4-Apr    0.966       Hip-Hop  \n",
       "4           0.0487   76.494         4-Apr    0.583   Alternative  \n",
       "...            ...      ...           ...      ...           ...  \n",
       "20389       0.0438   87.413         4-Apr    0.942          Jazz  \n",
       "20390       0.0299   76.879         4-Apr    0.174          Rock  \n",
       "20391       0.0358  146.803         4-Apr    0.942   Alternative  \n",
       "20392       0.3560  150.016         4-Apr    0.215           Rap  \n",
       "20393       0.0942  128.004         4-Apr    0.077    Electronic  \n",
       "\n",
       "[20394 rows x 16 columns]"
      ]
     },
     "execution_count": 30,
     "metadata": {},
     "output_type": "execute_result"
    }
   ],
   "source": [
    "train_merg=train_merg.drop('music_genre_y',axis=1)\n",
    "train_merg"
   ]
  },
  {
   "cell_type": "code",
   "execution_count": 31,
   "id": "b84b9d27",
   "metadata": {},
   "outputs": [
    {
     "data": {
      "text/plain": [
       "Index(['instance_id', 'track_name', 'acousticness', 'danceability',\n",
       "       'duration_ms', 'energy', 'instrumentalness', 'key', 'liveness',\n",
       "       'loudness', 'mode', 'speechiness', 'tempo', 'obtained_date', 'valence',\n",
       "       'music_genre_x'],\n",
       "      dtype='object')"
      ]
     },
     "execution_count": 31,
     "metadata": {},
     "output_type": "execute_result"
    }
   ],
   "source": [
    "train_merg.columns"
   ]
  },
  {
   "cell_type": "code",
   "execution_count": 32,
   "id": "7f75308f",
   "metadata": {},
   "outputs": [],
   "source": [
    "train_merg.columns=['instance_id', 'track_name', 'acousticness', 'danceability',\n",
    "       'duration_ms', 'energy', 'instrumentalness', 'key', 'liveness',\n",
    "       'loudness', 'mode', 'speechiness', 'tempo', 'obtained_date', 'valence',\n",
    "       'music_genre']"
   ]
  },
  {
   "cell_type": "markdown",
   "id": "f0a14e1a",
   "metadata": {},
   "source": [
    "track_name, instrumentalness б acousticness,loudness,obtained_date- дропаем, instance_id -доп"
   ]
  },
  {
   "cell_type": "code",
   "execution_count": 33,
   "id": "b782e44f",
   "metadata": {},
   "outputs": [
    {
     "data": {
      "text/plain": [
       "Index(['instance_id', 'track_name', 'acousticness', 'danceability',\n",
       "       'duration_ms', 'energy', 'instrumentalness', 'key', 'liveness',\n",
       "       'loudness', 'mode', 'speechiness', 'tempo', 'obtained_date', 'valence',\n",
       "       'music_genre'],\n",
       "      dtype='object')"
      ]
     },
     "execution_count": 33,
     "metadata": {},
     "output_type": "execute_result"
    }
   ],
   "source": [
    "train_merg.columns"
   ]
  },
  {
   "cell_type": "code",
   "execution_count": 34,
   "id": "86faf14e",
   "metadata": {},
   "outputs": [],
   "source": [
    "train_merg=train_merg[[ 'instance_id','danceability',\n",
    "       'duration_ms', 'key', 'liveness',\n",
    "       'energy', 'mode', 'speechiness', 'tempo', 'valence',\n",
    "       'music_genre']]\n"
   ]
  },
  {
   "cell_type": "markdown",
   "id": "b8e8b7e5",
   "metadata": {},
   "source": [
    "Из массива тест выбираем те же поля"
   ]
  },
  {
   "cell_type": "code",
   "execution_count": 35,
   "id": "882a1b3b",
   "metadata": {},
   "outputs": [],
   "source": [
    "test_merg=test_merg[['instance_id','danceability',\n",
    "       'duration_ms', 'key', 'liveness',\n",
    "       'energy', 'mode', 'speechiness', 'tempo', 'valence',\n",
    "       'music_genre']]"
   ]
  },
  {
   "cell_type": "markdown",
   "id": "db1d0bad",
   "metadata": {},
   "source": [
    "Проверка на дубликаты "
   ]
  },
  {
   "cell_type": "code",
   "execution_count": 36,
   "id": "f04e6ea7",
   "metadata": {},
   "outputs": [
    {
     "data": {
      "text/plain": [
       "0"
      ]
     },
     "execution_count": 36,
     "metadata": {},
     "output_type": "execute_result"
    }
   ],
   "source": [
    "train_merg.duplicated().sum()"
   ]
  },
  {
   "cell_type": "code",
   "execution_count": 37,
   "id": "3d2bcf99",
   "metadata": {},
   "outputs": [
    {
     "data": {
      "text/plain": [
       "0"
      ]
     },
     "execution_count": 37,
     "metadata": {},
     "output_type": "execute_result"
    }
   ],
   "source": [
    "test_merg.duplicated().sum()"
   ]
  },
  {
   "cell_type": "markdown",
   "id": "d468d825",
   "metadata": {},
   "source": [
    "Дропаем явные дубликаты "
   ]
  },
  {
   "cell_type": "code",
   "execution_count": 38,
   "id": "81178c70",
   "metadata": {},
   "outputs": [],
   "source": [
    "train_merg=train_merg.drop_duplicates()"
   ]
  },
  {
   "cell_type": "code",
   "execution_count": 39,
   "id": "8a5ff5b3",
   "metadata": {},
   "outputs": [],
   "source": [
    "test_merg=test_merg.drop_duplicates()"
   ]
  },
  {
   "cell_type": "code",
   "execution_count": 40,
   "id": "dacbe90f",
   "metadata": {},
   "outputs": [
    {
     "data": {
      "text/plain": [
       "0"
      ]
     },
     "execution_count": 40,
     "metadata": {},
     "output_type": "execute_result"
    }
   ],
   "source": [
    "train_merg.duplicated().sum()"
   ]
  },
  {
   "cell_type": "code",
   "execution_count": 41,
   "id": "48193ffb",
   "metadata": {},
   "outputs": [
    {
     "data": {
      "text/plain": [
       "0"
      ]
     },
     "execution_count": 41,
     "metadata": {},
     "output_type": "execute_result"
    }
   ],
   "source": [
    "test_merg.duplicated().sum()"
   ]
  },
  {
   "cell_type": "markdown",
   "id": "389469e9",
   "metadata": {},
   "source": [
    "Проверка типов данных по полям"
   ]
  },
  {
   "cell_type": "code",
   "execution_count": 42,
   "id": "0603f55c",
   "metadata": {},
   "outputs": [
    {
     "name": "stdout",
     "output_type": "stream",
     "text": [
      "<class 'pandas.core.frame.DataFrame'>\n",
      "Int64Index: 20394 entries, 0 to 20393\n",
      "Data columns (total 11 columns):\n",
      " #   Column        Non-Null Count  Dtype  \n",
      "---  ------        --------------  -----  \n",
      " 0   instance_id   20394 non-null  float64\n",
      " 1   danceability  20394 non-null  float64\n",
      " 2   duration_ms   20394 non-null  float64\n",
      " 3   key           19659 non-null  object \n",
      " 4   liveness      20394 non-null  float64\n",
      " 5   energy        20394 non-null  float64\n",
      " 6   mode          19888 non-null  object \n",
      " 7   speechiness   20394 non-null  float64\n",
      " 8   tempo         19952 non-null  float64\n",
      " 9   valence       20394 non-null  float64\n",
      " 10  music_genre   20394 non-null  object \n",
      "dtypes: float64(8), object(3)\n",
      "memory usage: 1.9+ MB\n"
     ]
    }
   ],
   "source": [
    "train_merg.info()"
   ]
  },
  {
   "cell_type": "code",
   "execution_count": 43,
   "id": "f66fc861",
   "metadata": {},
   "outputs": [
    {
     "name": "stdout",
     "output_type": "stream",
     "text": [
      "<class 'pandas.core.frame.DataFrame'>\n",
      "Int64Index: 5099 entries, 0 to 5098\n",
      "Data columns (total 11 columns):\n",
      " #   Column        Non-Null Count  Dtype  \n",
      "---  ------        --------------  -----  \n",
      " 0   instance_id   5099 non-null   int64  \n",
      " 1   danceability  5099 non-null   float64\n",
      " 2   duration_ms   5099 non-null   float64\n",
      " 3   key           4941 non-null   object \n",
      " 4   liveness      5099 non-null   float64\n",
      " 5   energy        5099 non-null   float64\n",
      " 6   mode          4950 non-null   object \n",
      " 7   speechiness   5099 non-null   float64\n",
      " 8   tempo         4978 non-null   float64\n",
      " 9   valence       5099 non-null   float64\n",
      " 10  music_genre   5099 non-null   object \n",
      "dtypes: float64(7), int64(1), object(3)\n",
      "memory usage: 478.0+ KB\n"
     ]
    }
   ],
   "source": [
    "test_merg.info()"
   ]
  },
  {
   "cell_type": "markdown",
   "id": "5bf97ecd",
   "metadata": {},
   "source": [
    "Окей, типы бьются, фичей достаточно, преступим к ИАД. Устраним выбросы в данных посредством сброса по IQR"
   ]
  },
  {
   "cell_type": "markdown",
   "id": "c940a731",
   "metadata": {},
   "source": [
    "Рассмотрим гистограммы распределений количественных признаков"
   ]
  },
  {
   "cell_type": "code",
   "execution_count": 44,
   "id": "c90fd382",
   "metadata": {},
   "outputs": [],
   "source": [
    "# Функция вывода пределов для сброса по методу IQR принимает на вход массив.describe() из числовых значений\n",
    "# Рекомендация  использовать значения типа float | int \n",
    "# индекс- колонка с названием исходного столбца \n",
    "def iqr(stat_df_describe):\n",
    "    stat_df_describe=pd.DataFrame(stat_df_describe.describe())\n",
    "    stat_df_describe=stat_df_describe.reset_index(drop=True)\n",
    "    #print(stat_df_describe)\n",
    "    top_limit=[]\n",
    "    bot_limit=[]\n",
    "    columns_lst=[]\n",
    "    for value in stat_df_describe.columns:\n",
    "        limit_up=stat_df_describe[value][6]+1.5*(stat_df_describe[value][6]-stat_df_describe[value][4])\n",
    "        limit_low=stat_df_describe[value][4]-1.5*(stat_df_describe[value][6]-stat_df_describe[value][4])\n",
    "        top_limit.append(limit_up)\n",
    "        bot_limit.append(limit_low)\n",
    "        columns_lst.append(value)\n",
    "        dictionary={'Columns':columns_lst, 'Top_limit':top_limit,'Bot_limit':bot_limit}\n",
    "        a=pd.DataFrame(dictionary)\n",
    "                \n",
    "        \n",
    "    return a"
   ]
  },
  {
   "cell_type": "code",
   "execution_count": 45,
   "id": "cddf82eb",
   "metadata": {},
   "outputs": [
    {
     "data": {
      "text/plain": [
       "count    5099.000000\n",
       "mean        0.561888\n",
       "std         0.170502\n",
       "min         0.059600\n",
       "25%         0.451000\n",
       "50%         0.568000\n",
       "75%         0.681000\n",
       "max         0.977000\n",
       "Name: danceability, dtype: float64"
      ]
     },
     "execution_count": 45,
     "metadata": {},
     "output_type": "execute_result"
    }
   ],
   "source": [
    "test_merg.danceability.describe()"
   ]
  },
  {
   "cell_type": "code",
   "execution_count": 46,
   "id": "288b2577",
   "metadata": {},
   "outputs": [
    {
     "data": {
      "text/html": [
       "<div>\n",
       "<style scoped>\n",
       "    .dataframe tbody tr th:only-of-type {\n",
       "        vertical-align: middle;\n",
       "    }\n",
       "\n",
       "    .dataframe tbody tr th {\n",
       "        vertical-align: top;\n",
       "    }\n",
       "\n",
       "    .dataframe thead th {\n",
       "        text-align: right;\n",
       "    }\n",
       "</style>\n",
       "<table border=\"1\" class=\"dataframe\">\n",
       "  <thead>\n",
       "    <tr style=\"text-align: right;\">\n",
       "      <th></th>\n",
       "      <th>Columns</th>\n",
       "      <th>Top_limit</th>\n",
       "      <th>Bot_limit</th>\n",
       "    </tr>\n",
       "  </thead>\n",
       "  <tbody>\n",
       "    <tr>\n",
       "      <th>0</th>\n",
       "      <td>instance_id</td>\n",
       "      <td>127898.500000</td>\n",
       "      <td>-16625.500000</td>\n",
       "    </tr>\n",
       "    <tr>\n",
       "      <th>1</th>\n",
       "      <td>danceability</td>\n",
       "      <td>1.026000</td>\n",
       "      <td>0.106000</td>\n",
       "    </tr>\n",
       "    <tr>\n",
       "      <th>2</th>\n",
       "      <td>duration_ms</td>\n",
       "      <td>400017.250000</td>\n",
       "      <td>37963.250000</td>\n",
       "    </tr>\n",
       "    <tr>\n",
       "      <th>3</th>\n",
       "      <td>liveness</td>\n",
       "      <td>0.474575</td>\n",
       "      <td>-0.129625</td>\n",
       "    </tr>\n",
       "    <tr>\n",
       "      <th>4</th>\n",
       "      <td>energy</td>\n",
       "      <td>1.367500</td>\n",
       "      <td>-0.076500</td>\n",
       "    </tr>\n",
       "    <tr>\n",
       "      <th>5</th>\n",
       "      <td>speechiness</td>\n",
       "      <td>0.187825</td>\n",
       "      <td>-0.055575</td>\n",
       "    </tr>\n",
       "    <tr>\n",
       "      <th>6</th>\n",
       "      <td>tempo</td>\n",
       "      <td>210.730250</td>\n",
       "      <td>27.274250</td>\n",
       "    </tr>\n",
       "    <tr>\n",
       "      <th>7</th>\n",
       "      <td>valence</td>\n",
       "      <td>1.217000</td>\n",
       "      <td>-0.295000</td>\n",
       "    </tr>\n",
       "  </tbody>\n",
       "</table>\n",
       "</div>"
      ],
      "text/plain": [
       "        Columns      Top_limit     Bot_limit\n",
       "0   instance_id  127898.500000 -16625.500000\n",
       "1  danceability       1.026000      0.106000\n",
       "2   duration_ms  400017.250000  37963.250000\n",
       "3      liveness       0.474575     -0.129625\n",
       "4        energy       1.367500     -0.076500\n",
       "5   speechiness       0.187825     -0.055575\n",
       "6         tempo     210.730250     27.274250\n",
       "7       valence       1.217000     -0.295000"
      ]
     },
     "execution_count": 46,
     "metadata": {},
     "output_type": "execute_result"
    }
   ],
   "source": [
    "iqr(test_merg)"
   ]
  },
  {
   "cell_type": "code",
   "execution_count": 47,
   "id": "06ebb3d8",
   "metadata": {},
   "outputs": [
    {
     "data": {
      "text/html": [
       "<div>\n",
       "<style scoped>\n",
       "    .dataframe tbody tr th:only-of-type {\n",
       "        vertical-align: middle;\n",
       "    }\n",
       "\n",
       "    .dataframe tbody tr th {\n",
       "        vertical-align: top;\n",
       "    }\n",
       "\n",
       "    .dataframe thead th {\n",
       "        text-align: right;\n",
       "    }\n",
       "</style>\n",
       "<table border=\"1\" class=\"dataframe\">\n",
       "  <thead>\n",
       "    <tr style=\"text-align: right;\">\n",
       "      <th></th>\n",
       "      <th>Columns</th>\n",
       "      <th>Top_limit</th>\n",
       "      <th>Bot_limit</th>\n",
       "    </tr>\n",
       "  </thead>\n",
       "  <tbody>\n",
       "    <tr>\n",
       "      <th>0</th>\n",
       "      <td>instance_id</td>\n",
       "      <td>127546.000000</td>\n",
       "      <td>-15476.000000</td>\n",
       "    </tr>\n",
       "    <tr>\n",
       "      <th>1</th>\n",
       "      <td>danceability</td>\n",
       "      <td>1.031000</td>\n",
       "      <td>0.103000</td>\n",
       "    </tr>\n",
       "    <tr>\n",
       "      <th>2</th>\n",
       "      <td>duration_ms</td>\n",
       "      <td>398724.500000</td>\n",
       "      <td>44792.500000</td>\n",
       "    </tr>\n",
       "    <tr>\n",
       "      <th>3</th>\n",
       "      <td>liveness</td>\n",
       "      <td>0.486550</td>\n",
       "      <td>-0.136250</td>\n",
       "    </tr>\n",
       "    <tr>\n",
       "      <th>4</th>\n",
       "      <td>energy</td>\n",
       "      <td>1.370000</td>\n",
       "      <td>-0.070000</td>\n",
       "    </tr>\n",
       "    <tr>\n",
       "      <th>5</th>\n",
       "      <td>speechiness</td>\n",
       "      <td>0.185538</td>\n",
       "      <td>-0.054363</td>\n",
       "    </tr>\n",
       "    <tr>\n",
       "      <th>6</th>\n",
       "      <td>tempo</td>\n",
       "      <td>211.033000</td>\n",
       "      <td>26.855000</td>\n",
       "    </tr>\n",
       "    <tr>\n",
       "      <th>7</th>\n",
       "      <td>valence</td>\n",
       "      <td>1.224500</td>\n",
       "      <td>-0.299500</td>\n",
       "    </tr>\n",
       "  </tbody>\n",
       "</table>\n",
       "</div>"
      ],
      "text/plain": [
       "        Columns      Top_limit     Bot_limit\n",
       "0   instance_id  127546.000000 -15476.000000\n",
       "1  danceability       1.031000      0.103000\n",
       "2   duration_ms  398724.500000  44792.500000\n",
       "3      liveness       0.486550     -0.136250\n",
       "4        energy       1.370000     -0.070000\n",
       "5   speechiness       0.185538     -0.054363\n",
       "6         tempo     211.033000     26.855000\n",
       "7       valence       1.224500     -0.299500"
      ]
     },
     "execution_count": 47,
     "metadata": {},
     "output_type": "execute_result"
    }
   ],
   "source": [
    "iqr(train_merg)"
   ]
  },
  {
   "cell_type": "code",
   "execution_count": 48,
   "id": "866d3043",
   "metadata": {},
   "outputs": [],
   "source": [
    "def visio(df,column):\n",
    "    plt.figure(figsize=[12,9])\n",
    "    plt.hist(df[column], bins=100,color =('blue'), \n",
    "             label = column, alpha=.5)\n",
    "    \n",
    "    plt.xlabel(\"Значение количественной переменной\")\n",
    "    plt.ylabel(\"Количество значений количественной переменной\")\n",
    "    plt.legend(loc='best', fontsize='x-large')\n",
    "    plt.title(\"Гистограмма распределения количества значений количественной переменной\")\n",
    "    plt.show()"
   ]
  },
  {
   "cell_type": "code",
   "execution_count": 49,
   "id": "66de3cd3",
   "metadata": {
    "scrolled": false
   },
   "outputs": [
    {
     "name": "stdout",
     "output_type": "stream",
     "text": [
      "Массив test\n"
     ]
    },
    {
     "data": {
      "image/png": "[encoded data removed]",
      "text/plain": [
       "<Figure size 864x648 with 1 Axes>"
      ]
     },
     "metadata": {
      "needs_background": "light"
     },
     "output_type": "display_data"
    },
    {
     "name": "stdout",
     "output_type": "stream",
     "text": [
      "Массив test\n"
     ]
    },
    {
     "data": {
      "image/png": "[encoded data removed]",
      "text/plain": [
       "<Figure size 864x648 with 1 Axes>"
      ]
     },
     "metadata": {
      "needs_background": "light"
     },
     "output_type": "display_data"
    },
    {
     "name": "stdout",
     "output_type": "stream",
     "text": [
      "Массив test\n"
     ]
    },
    {
     "data": {
      "image/png": "[encoded data removed]",
      "text/plain": [
       "<Figure size 864x648 with 1 Axes>"
      ]
     },
     "metadata": {
      "needs_background": "light"
     },
     "output_type": "display_data"
    },
    {
     "name": "stdout",
     "output_type": "stream",
     "text": [
      "Массив test\n"
     ]
    },
    {
     "data": {
      "image/png": "[encoded data removed]",
      "text/plain": [
       "<Figure size 864x648 with 1 Axes>"
      ]
     },
     "metadata": {
      "needs_background": "light"
     },
     "output_type": "display_data"
    },
    {
     "name": "stdout",
     "output_type": "stream",
     "text": [
      "Массив test\n"
     ]
    },
    {
     "data": {
      "image/png": "[encoded data removed]",
      "text/plain": [
       "<Figure size 864x648 with 1 Axes>"
      ]
     },
     "metadata": {
      "needs_background": "light"
     },
     "output_type": "display_data"
    },
    {
     "name": "stdout",
     "output_type": "stream",
     "text": [
      "Массив test\n"
     ]
    },
    {
     "data": {
      "image/png": "[encoded data removed]",
      "text/plain": [
       "<Figure size 864x648 with 1 Axes>"
      ]
     },
     "metadata": {
      "needs_background": "light"
     },
     "output_type": "display_data"
    },
    {
     "name": "stdout",
     "output_type": "stream",
     "text": [
      "Массив test\n"
     ]
    },
    {
     "data": {
      "image/png": "[encoded data removed]",
      "text/plain": [
       "<Figure size 864x648 with 1 Axes>"
      ]
     },
     "metadata": {
      "needs_background": "light"
     },
     "output_type": "display_data"
    },
    {
     "name": "stdout",
     "output_type": "stream",
     "text": [
      "Массив test\n"
     ]
    },
    {
     "data": {
      "image/png": "[encoded data removed]",
      "text/plain": [
       "<Figure size 864x648 with 1 Axes>"
      ]
     },
     "metadata": {
      "needs_background": "light"
     },
     "output_type": "display_data"
    }
   ],
   "source": [
    "\n",
    "for value in iqr(test_merg)['Columns']:\n",
    "    print(\"Массив test\")\n",
    "    visio(test_merg,value)"
   ]
  },
  {
   "cell_type": "code",
   "execution_count": 50,
   "id": "0032c8e1",
   "metadata": {
    "scrolled": false
   },
   "outputs": [
    {
     "name": "stdout",
     "output_type": "stream",
     "text": [
      "Массив train\n"
     ]
    },
    {
     "data": {
      "image/png": "[encoded data removed]",
      "text/plain": [
       "<Figure size 864x648 with 1 Axes>"
      ]
     },
     "metadata": {
      "needs_background": "light"
     },
     "output_type": "display_data"
    },
    {
     "name": "stdout",
     "output_type": "stream",
     "text": [
      "Массив train\n"
     ]
    },
    {
     "data": {
      "image/png": "[encoded data removed]",
      "text/plain": [
       "<Figure size 864x648 with 1 Axes>"
      ]
     },
     "metadata": {
      "needs_background": "light"
     },
     "output_type": "display_data"
    },
    {
     "name": "stdout",
     "output_type": "stream",
     "text": [
      "Массив train\n"
     ]
    },
    {
     "data": {
      "image/png": "[encoded data removed]",
      "text/plain": [
       "<Figure size 864x648 with 1 Axes>"
      ]
     },
     "metadata": {
      "needs_background": "light"
     },
     "output_type": "display_data"
    },
    {
     "name": "stdout",
     "output_type": "stream",
     "text": [
      "Массив train\n"
     ]
    },
    {
     "data": {
      "image/png": "[encoded data removed]",
      "text/plain": [
       "<Figure size 864x648 with 1 Axes>"
      ]
     },
     "metadata": {
      "needs_background": "light"
     },
     "output_type": "display_data"
    },
    {
     "name": "stdout",
     "output_type": "stream",
     "text": [
      "Массив train\n"
     ]
    },
    {
     "data": {
      "image/png": "[encoded data removed]",
      "text/plain": [
       "<Figure size 864x648 with 1 Axes>"
      ]
     },
     "metadata": {
      "needs_background": "light"
     },
     "output_type": "display_data"
    },
    {
     "name": "stdout",
     "output_type": "stream",
     "text": [
      "Массив train\n"
     ]
    },
    {
     "data": {
      "image/png": "[encoded data removed]",
      "text/plain": [
       "<Figure size 864x648 with 1 Axes>"
      ]
     },
     "metadata": {
      "needs_background": "light"
     },
     "output_type": "display_data"
    },
    {
     "name": "stdout",
     "output_type": "stream",
     "text": [
      "Массив train\n"
     ]
    },
    {
     "data": {
      "image/png": "[encoded data removed]",
      "text/plain": [
       "<Figure size 864x648 with 1 Axes>"
      ]
     },
     "metadata": {
      "needs_background": "light"
     },
     "output_type": "display_data"
    },
    {
     "name": "stdout",
     "output_type": "stream",
     "text": [
      "Массив train\n"
     ]
    },
    {
     "data": {
      "image/png": "[encoded data removed]",
      "text/plain": [
       "<Figure size 864x648 with 1 Axes>"
      ]
     },
     "metadata": {
      "needs_background": "light"
     },
     "output_type": "display_data"
    }
   ],
   "source": [
    "\n",
    "for value in iqr(train_merg)['Columns']:\n",
    "    print(\"Массив train\")\n",
    "    visio(train_merg,value)"
   ]
  },
  {
   "cell_type": "code",
   "execution_count": 51,
   "id": "997e4376",
   "metadata": {},
   "outputs": [
    {
     "data": {
      "text/html": [
       "<div>\n",
       "<style scoped>\n",
       "    .dataframe tbody tr th:only-of-type {\n",
       "        vertical-align: middle;\n",
       "    }\n",
       "\n",
       "    .dataframe tbody tr th {\n",
       "        vertical-align: top;\n",
       "    }\n",
       "\n",
       "    .dataframe thead th {\n",
       "        text-align: right;\n",
       "    }\n",
       "</style>\n",
       "<table border=\"1\" class=\"dataframe\">\n",
       "  <thead>\n",
       "    <tr style=\"text-align: right;\">\n",
       "      <th></th>\n",
       "      <th>Columns</th>\n",
       "      <th>Top_limit</th>\n",
       "      <th>Bot_limit</th>\n",
       "    </tr>\n",
       "  </thead>\n",
       "  <tbody>\n",
       "    <tr>\n",
       "      <th>0</th>\n",
       "      <td>instance_id</td>\n",
       "      <td>127898.500000</td>\n",
       "      <td>-16625.500000</td>\n",
       "    </tr>\n",
       "    <tr>\n",
       "      <th>1</th>\n",
       "      <td>danceability</td>\n",
       "      <td>1.026000</td>\n",
       "      <td>0.106000</td>\n",
       "    </tr>\n",
       "    <tr>\n",
       "      <th>2</th>\n",
       "      <td>duration_ms</td>\n",
       "      <td>400017.250000</td>\n",
       "      <td>37963.250000</td>\n",
       "    </tr>\n",
       "    <tr>\n",
       "      <th>3</th>\n",
       "      <td>liveness</td>\n",
       "      <td>0.474575</td>\n",
       "      <td>-0.129625</td>\n",
       "    </tr>\n",
       "    <tr>\n",
       "      <th>4</th>\n",
       "      <td>energy</td>\n",
       "      <td>1.367500</td>\n",
       "      <td>-0.076500</td>\n",
       "    </tr>\n",
       "    <tr>\n",
       "      <th>5</th>\n",
       "      <td>speechiness</td>\n",
       "      <td>0.187825</td>\n",
       "      <td>-0.055575</td>\n",
       "    </tr>\n",
       "    <tr>\n",
       "      <th>6</th>\n",
       "      <td>tempo</td>\n",
       "      <td>210.730250</td>\n",
       "      <td>27.274250</td>\n",
       "    </tr>\n",
       "    <tr>\n",
       "      <th>7</th>\n",
       "      <td>valence</td>\n",
       "      <td>1.217000</td>\n",
       "      <td>-0.295000</td>\n",
       "    </tr>\n",
       "  </tbody>\n",
       "</table>\n",
       "</div>"
      ],
      "text/plain": [
       "        Columns      Top_limit     Bot_limit\n",
       "0   instance_id  127898.500000 -16625.500000\n",
       "1  danceability       1.026000      0.106000\n",
       "2   duration_ms  400017.250000  37963.250000\n",
       "3      liveness       0.474575     -0.129625\n",
       "4        energy       1.367500     -0.076500\n",
       "5   speechiness       0.187825     -0.055575\n",
       "6         tempo     210.730250     27.274250\n",
       "7       valence       1.217000     -0.295000"
      ]
     },
     "execution_count": 51,
     "metadata": {},
     "output_type": "execute_result"
    }
   ],
   "source": [
    "iqr(test_merg)"
   ]
  },
  {
   "cell_type": "code",
   "execution_count": 52,
   "id": "1d649bb7",
   "metadata": {},
   "outputs": [],
   "source": [
    "def intrest_df(df_intrest,df_limit):\n",
    "    df_intrest=df_intrest.copy()\n",
    "    intrest_df_intrest=df_intrest[(df_intrest['danceability']<df_limit['Top_limit'][1])&\n",
    "                        (df_intrest['danceability']>=df_limit['Bot_limit'][1])&\n",
    "                        (df_intrest['duration_ms']<df_limit['Top_limit'][2])&\n",
    "                        (df_intrest['duration_ms']>=df_limit['Bot_limit'][2])&\n",
    "                        (df_intrest['liveness']<df_limit['Top_limit'][3])&\n",
    "                        (df_intrest['liveness']>=df_limit['Bot_limit'][3])&\n",
    "                        (df_intrest['energy']<df_limit['Top_limit'][4])&\n",
    "                        (df_intrest['energy']>=df_limit['Bot_limit'][4])&\n",
    "                        (df_intrest['speechiness']<df_limit['Top_limit'][5])&\n",
    "                        (df_intrest['speechiness']>=df_limit['Bot_limit'][5])&\n",
    "                        (df_intrest['tempo']<df_limit['Top_limit'][6])&\n",
    "                        (df_intrest['tempo']>=df_limit['Bot_limit'][6])&                                  \n",
    "                        (df_intrest['valence']<df_limit['Top_limit'][7])&\n",
    "                        (df_intrest['valence']>=df_limit['Bot_limit'][7])\n",
    "                                  \n",
    "                                  \n",
    "                                 ]\n",
    "    return intrest_df_intrest\n",
    "    "
   ]
  },
  {
   "cell_type": "code",
   "execution_count": 53,
   "id": "081ee578",
   "metadata": {},
   "outputs": [],
   "source": [
    "#df_limit_test_merg=iqr(test_merg)\n",
    "#df_limit_train_merg=iqr(train_merg)"
   ]
  },
  {
   "cell_type": "code",
   "execution_count": 54,
   "id": "52ccaf75",
   "metadata": {},
   "outputs": [],
   "source": [
    "#test_merg=intrest_df(test_merg,df_limit_test_merg)\n",
    "#train_merg=intrest_df(train_merg,df_limit_train_merg)"
   ]
  },
  {
   "cell_type": "markdown",
   "id": "3439df24",
   "metadata": {},
   "source": [
    "Рассмотрим значения, где поле  'key'==0 и удалим их "
   ]
  },
  {
   "cell_type": "code",
   "execution_count": 55,
   "id": "b189501b",
   "metadata": {},
   "outputs": [
    {
     "data": {
      "text/html": [
       "<div>\n",
       "<style scoped>\n",
       "    .dataframe tbody tr th:only-of-type {\n",
       "        vertical-align: middle;\n",
       "    }\n",
       "\n",
       "    .dataframe tbody tr th {\n",
       "        vertical-align: top;\n",
       "    }\n",
       "\n",
       "    .dataframe thead th {\n",
       "        text-align: right;\n",
       "    }\n",
       "</style>\n",
       "<table border=\"1\" class=\"dataframe\">\n",
       "  <thead>\n",
       "    <tr style=\"text-align: right;\">\n",
       "      <th></th>\n",
       "      <th>instance_id</th>\n",
       "      <th>danceability</th>\n",
       "      <th>duration_ms</th>\n",
       "      <th>liveness</th>\n",
       "      <th>energy</th>\n",
       "      <th>speechiness</th>\n",
       "      <th>tempo</th>\n",
       "      <th>valence</th>\n",
       "    </tr>\n",
       "  </thead>\n",
       "  <tbody>\n",
       "    <tr>\n",
       "      <th>count</th>\n",
       "      <td>735.000000</td>\n",
       "      <td>735.000000</td>\n",
       "      <td>735.000000</td>\n",
       "      <td>735.000000</td>\n",
       "      <td>735.000000</td>\n",
       "      <td>735.000000</td>\n",
       "      <td>724.000000</td>\n",
       "      <td>735.000000</td>\n",
       "    </tr>\n",
       "    <tr>\n",
       "      <th>mean</th>\n",
       "      <td>56399.304762</td>\n",
       "      <td>0.565640</td>\n",
       "      <td>215096.364626</td>\n",
       "      <td>0.194793</td>\n",
       "      <td>0.621834</td>\n",
       "      <td>0.095924</td>\n",
       "      <td>120.228874</td>\n",
       "      <td>0.448906</td>\n",
       "    </tr>\n",
       "    <tr>\n",
       "      <th>std</th>\n",
       "      <td>20727.178200</td>\n",
       "      <td>0.169698</td>\n",
       "      <td>104456.529995</td>\n",
       "      <td>0.165702</td>\n",
       "      <td>0.251318</td>\n",
       "      <td>0.100535</td>\n",
       "      <td>30.321780</td>\n",
       "      <td>0.234582</td>\n",
       "    </tr>\n",
       "    <tr>\n",
       "      <th>min</th>\n",
       "      <td>20017.000000</td>\n",
       "      <td>0.071600</td>\n",
       "      <td>-1.000000</td>\n",
       "      <td>0.023000</td>\n",
       "      <td>0.002420</td>\n",
       "      <td>0.023100</td>\n",
       "      <td>58.267000</td>\n",
       "      <td>0.028700</td>\n",
       "    </tr>\n",
       "    <tr>\n",
       "      <th>25%</th>\n",
       "      <td>38798.500000</td>\n",
       "      <td>0.462500</td>\n",
       "      <td>178680.000000</td>\n",
       "      <td>0.099450</td>\n",
       "      <td>0.468000</td>\n",
       "      <td>0.036150</td>\n",
       "      <td>94.976750</td>\n",
       "      <td>0.261500</td>\n",
       "    </tr>\n",
       "    <tr>\n",
       "      <th>50%</th>\n",
       "      <td>56720.000000</td>\n",
       "      <td>0.573000</td>\n",
       "      <td>216443.000000</td>\n",
       "      <td>0.127000</td>\n",
       "      <td>0.648000</td>\n",
       "      <td>0.052900</td>\n",
       "      <td>119.969000</td>\n",
       "      <td>0.443000</td>\n",
       "    </tr>\n",
       "    <tr>\n",
       "      <th>75%</th>\n",
       "      <td>74405.500000</td>\n",
       "      <td>0.689500</td>\n",
       "      <td>259527.000000</td>\n",
       "      <td>0.234000</td>\n",
       "      <td>0.838500</td>\n",
       "      <td>0.106500</td>\n",
       "      <td>140.889250</td>\n",
       "      <td>0.624000</td>\n",
       "    </tr>\n",
       "    <tr>\n",
       "      <th>max</th>\n",
       "      <td>91706.000000</td>\n",
       "      <td>0.926000</td>\n",
       "      <td>897613.000000</td>\n",
       "      <td>0.990000</td>\n",
       "      <td>0.997000</td>\n",
       "      <td>0.942000</td>\n",
       "      <td>208.007000</td>\n",
       "      <td>0.971000</td>\n",
       "    </tr>\n",
       "  </tbody>\n",
       "</table>\n",
       "</div>"
      ],
      "text/plain": [
       "        instance_id  danceability    duration_ms    liveness      energy  \\\n",
       "count    735.000000    735.000000     735.000000  735.000000  735.000000   \n",
       "mean   56399.304762      0.565640  215096.364626    0.194793    0.621834   \n",
       "std    20727.178200      0.169698  104456.529995    0.165702    0.251318   \n",
       "min    20017.000000      0.071600      -1.000000    0.023000    0.002420   \n",
       "25%    38798.500000      0.462500  178680.000000    0.099450    0.468000   \n",
       "50%    56720.000000      0.573000  216443.000000    0.127000    0.648000   \n",
       "75%    74405.500000      0.689500  259527.000000    0.234000    0.838500   \n",
       "max    91706.000000      0.926000  897613.000000    0.990000    0.997000   \n",
       "\n",
       "       speechiness       tempo     valence  \n",
       "count   735.000000  724.000000  735.000000  \n",
       "mean      0.095924  120.228874    0.448906  \n",
       "std       0.100535   30.321780    0.234582  \n",
       "min       0.023100   58.267000    0.028700  \n",
       "25%       0.036150   94.976750    0.261500  \n",
       "50%       0.052900  119.969000    0.443000  \n",
       "75%       0.106500  140.889250    0.624000  \n",
       "max       0.942000  208.007000    0.971000  "
      ]
     },
     "execution_count": 55,
     "metadata": {},
     "output_type": "execute_result"
    }
   ],
   "source": [
    "train_merg[train_merg['key'].isna()==True].describe()"
   ]
  },
  {
   "cell_type": "code",
   "execution_count": 56,
   "id": "6f3161f2",
   "metadata": {},
   "outputs": [],
   "source": [
    "train_merg=train_merg[train_merg['key'].isna()==False]"
   ]
  },
  {
   "cell_type": "code",
   "execution_count": 57,
   "id": "70f4732c",
   "metadata": {},
   "outputs": [],
   "source": [
    "#Для поля mode проделываем аналогичную операцию\n",
    "train_merg=train_merg[train_merg['mode'].isna()==False]"
   ]
  },
  {
   "cell_type": "code",
   "execution_count": 58,
   "id": "b7db150e",
   "metadata": {},
   "outputs": [],
   "source": [
    "#Для поля 'tempo' проделываем аналогичную операцию\n",
    "train_merg=train_merg[train_merg['tempo'].isna()==False]"
   ]
  },
  {
   "cell_type": "code",
   "execution_count": 59,
   "id": "71eedb47",
   "metadata": {},
   "outputs": [
    {
     "name": "stdout",
     "output_type": "stream",
     "text": [
      "<class 'pandas.core.frame.DataFrame'>\n",
      "Int64Index: 18754 entries, 0 to 20393\n",
      "Data columns (total 11 columns):\n",
      " #   Column        Non-Null Count  Dtype  \n",
      "---  ------        --------------  -----  \n",
      " 0   instance_id   18754 non-null  float64\n",
      " 1   danceability  18754 non-null  float64\n",
      " 2   duration_ms   18754 non-null  float64\n",
      " 3   key           18754 non-null  object \n",
      " 4   liveness      18754 non-null  float64\n",
      " 5   energy        18754 non-null  float64\n",
      " 6   mode          18754 non-null  object \n",
      " 7   speechiness   18754 non-null  float64\n",
      " 8   tempo         18754 non-null  float64\n",
      " 9   valence       18754 non-null  float64\n",
      " 10  music_genre   18754 non-null  object \n",
      "dtypes: float64(8), object(3)\n",
      "memory usage: 1.7+ MB\n"
     ]
    }
   ],
   "source": [
    "train_merg.info()"
   ]
  },
  {
   "cell_type": "code",
   "execution_count": 60,
   "id": "761a3ab5",
   "metadata": {},
   "outputs": [
    {
     "name": "stdout",
     "output_type": "stream",
     "text": [
      "<class 'pandas.core.frame.DataFrame'>\n",
      "Int64Index: 4681 entries, 0 to 5098\n",
      "Data columns (total 11 columns):\n",
      " #   Column        Non-Null Count  Dtype  \n",
      "---  ------        --------------  -----  \n",
      " 0   instance_id   4681 non-null   int64  \n",
      " 1   danceability  4681 non-null   float64\n",
      " 2   duration_ms   4681 non-null   float64\n",
      " 3   key           4681 non-null   object \n",
      " 4   liveness      4681 non-null   float64\n",
      " 5   energy        4681 non-null   float64\n",
      " 6   mode          4681 non-null   object \n",
      " 7   speechiness   4681 non-null   float64\n",
      " 8   tempo         4681 non-null   float64\n",
      " 9   valence       4681 non-null   float64\n",
      " 10  music_genre   4681 non-null   object \n",
      "dtypes: float64(7), int64(1), object(3)\n",
      "memory usage: 438.8+ KB\n"
     ]
    }
   ],
   "source": [
    "#проделываем аналогичные операции с test\n",
    "test_merg=test_merg[test_merg['key'].isna()==False]\n",
    "test_merg=test_merg[test_merg['mode'].isna()==False]\n",
    "test_merg=test_merg[test_merg['tempo'].isna()==False]\n",
    "test_merg.info()"
   ]
  },
  {
   "cell_type": "markdown",
   "id": "62d4530d",
   "metadata": {},
   "source": [
    "+- пофиксили train и test"
   ]
  },
  {
   "cell_type": "code",
   "execution_count": 61,
   "id": "c6fa3640",
   "metadata": {},
   "outputs": [
    {
     "data": {
      "text/html": [
       "<div>\n",
       "<style scoped>\n",
       "    .dataframe tbody tr th:only-of-type {\n",
       "        vertical-align: middle;\n",
       "    }\n",
       "\n",
       "    .dataframe tbody tr th {\n",
       "        vertical-align: top;\n",
       "    }\n",
       "\n",
       "    .dataframe thead th {\n",
       "        text-align: right;\n",
       "    }\n",
       "</style>\n",
       "<table border=\"1\" class=\"dataframe\">\n",
       "  <thead>\n",
       "    <tr style=\"text-align: right;\">\n",
       "      <th></th>\n",
       "      <th>Columns</th>\n",
       "      <th>Top_limit</th>\n",
       "      <th>Bot_limit</th>\n",
       "    </tr>\n",
       "  </thead>\n",
       "  <tbody>\n",
       "    <tr>\n",
       "      <th>0</th>\n",
       "      <td>instance_id</td>\n",
       "      <td>127655.250000</td>\n",
       "      <td>-15720.750000</td>\n",
       "    </tr>\n",
       "    <tr>\n",
       "      <th>1</th>\n",
       "      <td>danceability</td>\n",
       "      <td>1.028500</td>\n",
       "      <td>0.104500</td>\n",
       "    </tr>\n",
       "    <tr>\n",
       "      <th>2</th>\n",
       "      <td>duration_ms</td>\n",
       "      <td>399990.250000</td>\n",
       "      <td>44034.250000</td>\n",
       "    </tr>\n",
       "    <tr>\n",
       "      <th>3</th>\n",
       "      <td>liveness</td>\n",
       "      <td>0.488900</td>\n",
       "      <td>-0.137500</td>\n",
       "    </tr>\n",
       "    <tr>\n",
       "      <th>4</th>\n",
       "      <td>energy</td>\n",
       "      <td>1.372500</td>\n",
       "      <td>-0.071500</td>\n",
       "    </tr>\n",
       "    <tr>\n",
       "      <th>5</th>\n",
       "      <td>speechiness</td>\n",
       "      <td>0.183850</td>\n",
       "      <td>-0.053350</td>\n",
       "    </tr>\n",
       "    <tr>\n",
       "      <th>6</th>\n",
       "      <td>tempo</td>\n",
       "      <td>210.966625</td>\n",
       "      <td>26.919625</td>\n",
       "    </tr>\n",
       "    <tr>\n",
       "      <th>7</th>\n",
       "      <td>valence</td>\n",
       "      <td>1.227000</td>\n",
       "      <td>-0.301000</td>\n",
       "    </tr>\n",
       "  </tbody>\n",
       "</table>\n",
       "</div>"
      ],
      "text/plain": [
       "        Columns      Top_limit     Bot_limit\n",
       "0   instance_id  127655.250000 -15720.750000\n",
       "1  danceability       1.028500      0.104500\n",
       "2   duration_ms  399990.250000  44034.250000\n",
       "3      liveness       0.488900     -0.137500\n",
       "4        energy       1.372500     -0.071500\n",
       "5   speechiness       0.183850     -0.053350\n",
       "6         tempo     210.966625     26.919625\n",
       "7       valence       1.227000     -0.301000"
      ]
     },
     "execution_count": 61,
     "metadata": {},
     "output_type": "execute_result"
    }
   ],
   "source": [
    "iqr(train_merg)"
   ]
  },
  {
   "cell_type": "code",
   "execution_count": 62,
   "id": "85231b5e",
   "metadata": {},
   "outputs": [
    {
     "data": {
      "text/html": [
       "<div>\n",
       "<style scoped>\n",
       "    .dataframe tbody tr th:only-of-type {\n",
       "        vertical-align: middle;\n",
       "    }\n",
       "\n",
       "    .dataframe tbody tr th {\n",
       "        vertical-align: top;\n",
       "    }\n",
       "\n",
       "    .dataframe thead th {\n",
       "        text-align: right;\n",
       "    }\n",
       "</style>\n",
       "<table border=\"1\" class=\"dataframe\">\n",
       "  <thead>\n",
       "    <tr style=\"text-align: right;\">\n",
       "      <th></th>\n",
       "      <th>instance_id</th>\n",
       "      <th>danceability</th>\n",
       "      <th>duration_ms</th>\n",
       "      <th>key</th>\n",
       "      <th>liveness</th>\n",
       "      <th>energy</th>\n",
       "      <th>mode</th>\n",
       "      <th>speechiness</th>\n",
       "      <th>tempo</th>\n",
       "      <th>valence</th>\n",
       "      <th>music_genre</th>\n",
       "    </tr>\n",
       "  </thead>\n",
       "  <tbody>\n",
       "    <tr>\n",
       "      <th>count</th>\n",
       "      <td>4681.000000</td>\n",
       "      <td>4681.000000</td>\n",
       "      <td>4.681000e+03</td>\n",
       "      <td>4681</td>\n",
       "      <td>4681.000000</td>\n",
       "      <td>4681.000000</td>\n",
       "      <td>4681</td>\n",
       "      <td>4681.000000</td>\n",
       "      <td>4681.000000</td>\n",
       "      <td>4681.000000</td>\n",
       "      <td>4681</td>\n",
       "    </tr>\n",
       "    <tr>\n",
       "      <th>unique</th>\n",
       "      <td>NaN</td>\n",
       "      <td>NaN</td>\n",
       "      <td>NaN</td>\n",
       "      <td>12</td>\n",
       "      <td>NaN</td>\n",
       "      <td>NaN</td>\n",
       "      <td>2</td>\n",
       "      <td>NaN</td>\n",
       "      <td>NaN</td>\n",
       "      <td>NaN</td>\n",
       "      <td>10</td>\n",
       "    </tr>\n",
       "    <tr>\n",
       "      <th>top</th>\n",
       "      <td>NaN</td>\n",
       "      <td>NaN</td>\n",
       "      <td>NaN</td>\n",
       "      <td>D</td>\n",
       "      <td>NaN</td>\n",
       "      <td>NaN</td>\n",
       "      <td>Major</td>\n",
       "      <td>NaN</td>\n",
       "      <td>NaN</td>\n",
       "      <td>NaN</td>\n",
       "      <td>Country</td>\n",
       "    </tr>\n",
       "    <tr>\n",
       "      <th>freq</th>\n",
       "      <td>NaN</td>\n",
       "      <td>NaN</td>\n",
       "      <td>NaN</td>\n",
       "      <td>537</td>\n",
       "      <td>NaN</td>\n",
       "      <td>NaN</td>\n",
       "      <td>3018</td>\n",
       "      <td>NaN</td>\n",
       "      <td>NaN</td>\n",
       "      <td>NaN</td>\n",
       "      <td>490</td>\n",
       "    </tr>\n",
       "    <tr>\n",
       "      <th>mean</th>\n",
       "      <td>55783.753044</td>\n",
       "      <td>0.563061</td>\n",
       "      <td>2.168820e+05</td>\n",
       "      <td>NaN</td>\n",
       "      <td>0.197441</td>\n",
       "      <td>0.622097</td>\n",
       "      <td>NaN</td>\n",
       "      <td>0.092394</td>\n",
       "      <td>121.016410</td>\n",
       "      <td>0.466831</td>\n",
       "      <td>NaN</td>\n",
       "    </tr>\n",
       "    <tr>\n",
       "      <th>std</th>\n",
       "      <td>20807.384057</td>\n",
       "      <td>0.169818</td>\n",
       "      <td>1.156730e+05</td>\n",
       "      <td>NaN</td>\n",
       "      <td>0.165760</td>\n",
       "      <td>0.251958</td>\n",
       "      <td>NaN</td>\n",
       "      <td>0.099495</td>\n",
       "      <td>29.805196</td>\n",
       "      <td>0.243834</td>\n",
       "      <td>NaN</td>\n",
       "    </tr>\n",
       "    <tr>\n",
       "      <th>min</th>\n",
       "      <td>20012.000000</td>\n",
       "      <td>0.059600</td>\n",
       "      <td>-1.000000e+00</td>\n",
       "      <td>NaN</td>\n",
       "      <td>0.020400</td>\n",
       "      <td>0.001540</td>\n",
       "      <td>NaN</td>\n",
       "      <td>0.022800</td>\n",
       "      <td>37.114000</td>\n",
       "      <td>0.020500</td>\n",
       "      <td>NaN</td>\n",
       "    </tr>\n",
       "    <tr>\n",
       "      <th>25%</th>\n",
       "      <td>37695.000000</td>\n",
       "      <td>0.453000</td>\n",
       "      <td>1.736750e+05</td>\n",
       "      <td>NaN</td>\n",
       "      <td>0.096900</td>\n",
       "      <td>0.463000</td>\n",
       "      <td>NaN</td>\n",
       "      <td>0.035600</td>\n",
       "      <td>96.002000</td>\n",
       "      <td>0.273000</td>\n",
       "      <td>NaN</td>\n",
       "    </tr>\n",
       "    <tr>\n",
       "      <th>50%</th>\n",
       "      <td>55552.000000</td>\n",
       "      <td>0.569000</td>\n",
       "      <td>2.172530e+05</td>\n",
       "      <td>NaN</td>\n",
       "      <td>0.129000</td>\n",
       "      <td>0.662000</td>\n",
       "      <td>NaN</td>\n",
       "      <td>0.048500</td>\n",
       "      <td>120.025000</td>\n",
       "      <td>0.459000</td>\n",
       "      <td>NaN</td>\n",
       "    </tr>\n",
       "    <tr>\n",
       "      <th>75%</th>\n",
       "      <td>73861.000000</td>\n",
       "      <td>0.682000</td>\n",
       "      <td>2.637070e+05</td>\n",
       "      <td>NaN</td>\n",
       "      <td>0.246000</td>\n",
       "      <td>0.826000</td>\n",
       "      <td>NaN</td>\n",
       "      <td>0.095800</td>\n",
       "      <td>141.532000</td>\n",
       "      <td>0.651000</td>\n",
       "      <td>NaN</td>\n",
       "    </tr>\n",
       "    <tr>\n",
       "      <th>max</th>\n",
       "      <td>91709.000000</td>\n",
       "      <td>0.977000</td>\n",
       "      <td>1.360027e+06</td>\n",
       "      <td>NaN</td>\n",
       "      <td>0.984000</td>\n",
       "      <td>0.999000</td>\n",
       "      <td>NaN</td>\n",
       "      <td>0.918000</td>\n",
       "      <td>216.029000</td>\n",
       "      <td>0.982000</td>\n",
       "      <td>NaN</td>\n",
       "    </tr>\n",
       "  </tbody>\n",
       "</table>\n",
       "</div>"
      ],
      "text/plain": [
       "         instance_id  danceability   duration_ms   key     liveness  \\\n",
       "count    4681.000000   4681.000000  4.681000e+03  4681  4681.000000   \n",
       "unique           NaN           NaN           NaN    12          NaN   \n",
       "top              NaN           NaN           NaN     D          NaN   \n",
       "freq             NaN           NaN           NaN   537          NaN   \n",
       "mean    55783.753044      0.563061  2.168820e+05   NaN     0.197441   \n",
       "std     20807.384057      0.169818  1.156730e+05   NaN     0.165760   \n",
       "min     20012.000000      0.059600 -1.000000e+00   NaN     0.020400   \n",
       "25%     37695.000000      0.453000  1.736750e+05   NaN     0.096900   \n",
       "50%     55552.000000      0.569000  2.172530e+05   NaN     0.129000   \n",
       "75%     73861.000000      0.682000  2.637070e+05   NaN     0.246000   \n",
       "max     91709.000000      0.977000  1.360027e+06   NaN     0.984000   \n",
       "\n",
       "             energy   mode  speechiness        tempo      valence music_genre  \n",
       "count   4681.000000   4681  4681.000000  4681.000000  4681.000000        4681  \n",
       "unique          NaN      2          NaN          NaN          NaN          10  \n",
       "top             NaN  Major          NaN          NaN          NaN     Country  \n",
       "freq            NaN   3018          NaN          NaN          NaN         490  \n",
       "mean       0.622097    NaN     0.092394   121.016410     0.466831         NaN  \n",
       "std        0.251958    NaN     0.099495    29.805196     0.243834         NaN  \n",
       "min        0.001540    NaN     0.022800    37.114000     0.020500         NaN  \n",
       "25%        0.463000    NaN     0.035600    96.002000     0.273000         NaN  \n",
       "50%        0.662000    NaN     0.048500   120.025000     0.459000         NaN  \n",
       "75%        0.826000    NaN     0.095800   141.532000     0.651000         NaN  \n",
       "max        0.999000    NaN     0.918000   216.029000     0.982000         NaN  "
      ]
     },
     "execution_count": 62,
     "metadata": {},
     "output_type": "execute_result"
    }
   ],
   "source": [
    "test_merg.describe(include='all')"
   ]
  },
  {
   "cell_type": "code",
   "execution_count": 63,
   "id": "26145400",
   "metadata": {},
   "outputs": [],
   "source": [
    "df_limit_test_merg=iqr(test_merg)\n",
    "df_limit_train_merg=iqr(train_merg)"
   ]
  },
  {
   "cell_type": "code",
   "execution_count": 64,
   "id": "46325061",
   "metadata": {},
   "outputs": [],
   "source": [
    "test_merg=intrest_df(test_merg,df_limit_test_merg)\n",
    "train_merg=intrest_df(train_merg,df_limit_train_merg)"
   ]
  },
  {
   "cell_type": "code",
   "execution_count": 65,
   "id": "1bd8304d",
   "metadata": {},
   "outputs": [
    {
     "data": {
      "text/plain": [
       "(12899, 11)"
      ]
     },
     "execution_count": 65,
     "metadata": {},
     "output_type": "execute_result"
    }
   ],
   "source": [
    "train_merg.shape"
   ]
  },
  {
   "cell_type": "code",
   "execution_count": 66,
   "id": "57d93d41",
   "metadata": {},
   "outputs": [
    {
     "data": {
      "text/plain": [
       "(3186, 11)"
      ]
     },
     "execution_count": 66,
     "metadata": {},
     "output_type": "execute_result"
    }
   ],
   "source": [
    "test_merg.shape"
   ]
  },
  {
   "cell_type": "code",
   "execution_count": 67,
   "id": "58f2ba4a",
   "metadata": {},
   "outputs": [
    {
     "data": {
      "text/plain": [
       "array(['Major', 'Minor'], dtype=object)"
      ]
     },
     "execution_count": 67,
     "metadata": {},
     "output_type": "execute_result"
    }
   ],
   "source": [
    "train_merg['mode'].unique()"
   ]
  },
  {
   "cell_type": "code",
   "execution_count": 68,
   "id": "b07c84a5",
   "metadata": {},
   "outputs": [],
   "source": [
    "#Меняем тип данных в поле  'mode'\n",
    "train_merg.loc[train_merg['mode']=='Major', 'mode'] = 1\n",
    "train_merg.loc[train_merg['mode']=='Minor', 'mode'] = 0\n",
    "test_merg.loc[test_merg['mode']=='Major', 'mode'] = 1\n",
    "test_merg.loc[test_merg['mode']=='Minor', 'mode'] = 0\n",
    "train_merg['mode']=train_merg['mode'].astype('bool')\n",
    "test_merg['mode']=test_merg['mode'].astype('bool')"
   ]
  },
  {
   "cell_type": "markdown",
   "id": "4a7bcabf",
   "metadata": {},
   "source": [
    "# Шаг 3. Формулировка ML-задачи на основе бизнес-задачи"
   ]
  },
  {
   "cell_type": "markdown",
   "id": "c45e2ac3",
   "metadata": {},
   "source": [
    "Перед нами задача классификации с несбалансированными классами. Таргет music_genre"
   ]
  },
  {
   "cell_type": "markdown",
   "id": "5114aff9",
   "metadata": {},
   "source": [
    "# Корелляционная матрица"
   ]
  },
  {
   "cell_type": "code",
   "execution_count": 69,
   "id": "299af239",
   "metadata": {},
   "outputs": [
    {
     "data": {
      "text/plain": [
       "<AxesSubplot:>"
      ]
     },
     "execution_count": 69,
     "metadata": {},
     "output_type": "execute_result"
    },
    {
     "data": {
      "image/png": "[encoded data removed]",
      "text/plain": [
       "<Figure size 1080x576 with 2 Axes>"
      ]
     },
     "metadata": {
      "needs_background": "light"
     },
     "output_type": "display_data"
    }
   ],
   "source": [
    "f, ax = plt.subplots(figsize=(15, 8))\n",
    "\n",
    "corr = train_merg.corr()\n",
    "sb.heatmap(corr, cmap=\"Greens\", annot=True , ax=ax)"
   ]
  },
  {
   "cell_type": "code",
   "execution_count": 70,
   "id": "464403bb",
   "metadata": {},
   "outputs": [
    {
     "name": "stdout",
     "output_type": "stream",
     "text": [
      "interval columns not set, guessing: ['instance_id', 'danceability', 'duration_ms', 'liveness', 'energy', 'speechiness', 'tempo', 'valence']\n"
     ]
    },
    {
     "data": {
      "image/png": "[encoded data removed]",
      "text/plain": [
       "<Figure size 1152x576 with 2 Axes>"
      ]
     },
     "metadata": {
      "needs_background": "light"
     },
     "output_type": "display_data"
    }
   ],
   "source": [
    "phik_corrs = train_merg.phik_matrix()\n",
    "plot_correlation_matrix(phik_corrs.values, \n",
    "                        x_labels=phik_corrs.columns, \n",
    "                        y_labels=phik_corrs.index, \n",
    "                        vmin=0, vmax=1, color_map=\"Blues\", \n",
    "                        title=r\"correlation $\\phi_K$\", \n",
    "                        fontsize_factor=1.5, \n",
    "                        figsize=(16, 8))\n",
    "plt.tight_layout()"
   ]
  },
  {
   "cell_type": "markdown",
   "id": "9ac71caa",
   "metadata": {},
   "source": [
    "На таргет относительно сильно будут влиять energy и danceability"
   ]
  },
  {
   "cell_type": "code",
   "execution_count": 71,
   "id": "4f6c276c",
   "metadata": {},
   "outputs": [
    {
     "name": "stdout",
     "output_type": "stream",
     "text": [
      "interval columns not set, guessing: ['instance_id', 'danceability', 'duration_ms', 'liveness', 'energy', 'speechiness', 'tempo', 'valence']\n"
     ]
    },
    {
     "data": {
      "image/png": "[encoded data removed]",
      "text/plain": [
       "<Figure size 252x288 with 2 Axes>"
      ]
     },
     "metadata": {
      "needs_background": "light"
     },
     "output_type": "display_data"
    }
   ],
   "source": [
    "correlation, labels = train_merg.global_phik()\n",
    "plot_correlation_matrix(correlation, \n",
    "                        x_labels=[''], y_labels=labels, \n",
    "                        vmin=0, vmax=1, figsize=(3.5,4),\n",
    "                        color_map=\"Blues\", title=r\"$g_k$\",\n",
    "                        fontsize_factor=1.5)\n",
    "plt.tight_layout()"
   ]
  },
  {
   "cell_type": "markdown",
   "id": "1d090025",
   "metadata": {},
   "source": [
    "# Формирование X_train,X_valid,y_train,y_valid"
   ]
  },
  {
   "cell_type": "code",
   "execution_count": 72,
   "id": "c29fec7b",
   "metadata": {},
   "outputs": [],
   "source": [
    "from sklearn.model_selection import train_test_split"
   ]
  },
  {
   "cell_type": "code",
   "execution_count": 73,
   "id": "47268266",
   "metadata": {},
   "outputs": [],
   "source": [
    "X=train_merg.drop('music_genre',axis=1)"
   ]
  },
  {
   "cell_type": "code",
   "execution_count": 74,
   "id": "3d520d1c",
   "metadata": {},
   "outputs": [],
   "source": [
    "X=X.drop('instance_id',axis=1)"
   ]
  },
  {
   "cell_type": "code",
   "execution_count": 75,
   "id": "bcc9c5ae",
   "metadata": {},
   "outputs": [],
   "source": [
    "y=train_merg['music_genre']"
   ]
  },
  {
   "cell_type": "code",
   "execution_count": 76,
   "id": "fe45f801",
   "metadata": {},
   "outputs": [
    {
     "data": {
      "text/plain": [
       "((10319, 9), (2580, 9))"
      ]
     },
     "execution_count": 76,
     "metadata": {},
     "output_type": "execute_result"
    }
   ],
   "source": [
    "X_train, X_valid, y_train, y_valid = train_test_split(X, y, test_size=0.2, random_state=RANDOM_STATE)\n",
    "X_train.shape, X_valid.shape"
   ]
  },
  {
   "cell_type": "code",
   "execution_count": 77,
   "id": "68c7fcf3",
   "metadata": {},
   "outputs": [
    {
     "data": {
      "text/html": [
       "        <script type=\"text/javascript\">\n",
       "        window.PlotlyConfig = {MathJaxConfig: 'local'};\n",
       "        if (window.MathJax) {MathJax.Hub.Config({SVG: {font: \"STIX-Web\"}});}\n",
       "        if (typeof require !== 'undefined') {\n",
       "        require.undef(\"plotly\");\n",
       "        requirejs.config({\n",
       "            paths: {\n",
       "                'plotly': ['https://cdn.plot.ly/plotly-2.9.0.min']\n",
       "            }\n",
       "        });\n",
       "        require(['plotly'], function(Plotly) {\n",
       "            window._Plotly = Plotly;\n",
       "        });\n",
       "        }\n",
       "        </script>\n",
       "        "
      ]
     },
     "metadata": {},
     "output_type": "display_data"
    }
   ],
   "source": [
    "import sys\n",
    "import os\n",
    "import pandas as pd\n",
    "import numpy as np\n",
    "\n",
    "import matplotlib.pyplot as plt\n",
    "import seaborn as sns\n",
    "from IPython.display import display\n",
    "%matplotlib inline\n",
    "\n",
    "import plotly.offline as py\n",
    "import plotly.graph_objs as go\n",
    "import plotly.tools as tls\n",
    "py.init_notebook_mode(connected=True)\n",
    "\n",
    "import warnings\n",
    "warnings.filterwarnings('ignore')"
   ]
  },
  {
   "cell_type": "code",
   "execution_count": 78,
   "id": "ca4d4939",
   "metadata": {},
   "outputs": [],
   "source": [
    "def plotHist(df,nameOfFeature):\n",
    "    cls_train = df[nameOfFeature]\n",
    "    data_array = cls_train\n",
    "    hist_data = np.histogram(data_array)\n",
    "    binsize = .5\n",
    "\n",
    "    trace1 = go.Histogram(\n",
    "        x=data_array,\n",
    "        histnorm='count',\n",
    "        name='Histogram of Wind Speed',\n",
    "        autobinx=False,\n",
    "        xbins=dict(\n",
    "            start=df[nameOfFeature].min()-1,\n",
    "            end=df[nameOfFeature].max()+1,\n",
    "            size=binsize\n",
    "        )\n",
    "    )\n",
    "\n",
    "    trace_data = [trace1]\n",
    "    layout = go.Layout(\n",
    "        bargroupgap=0.3,\n",
    "         title='The distribution of ' + nameOfFeature,\n",
    "        xaxis=dict(\n",
    "            title=nameOfFeature,\n",
    "            titlefont=dict(\n",
    "                family='Courier New, monospace',\n",
    "                size=18,\n",
    "                color='#7f7f7f'\n",
    "            )\n",
    "        ),\n",
    "        yaxis=dict(\n",
    "            title='Number of labels',\n",
    "            titlefont=dict(\n",
    "                family='Courier New, monospace',\n",
    "                size=18,\n",
    "                color='#7f7f7f'\n",
    "            )\n",
    "        )\n",
    "    )\n",
    "    fig = go.Figure(data=trace_data, layout=layout)\n",
    "    py.iplot(fig)"
   ]
  },
  {
   "cell_type": "code",
   "execution_count": 79,
   "id": "cb2ae44a",
   "metadata": {},
   "outputs": [
    {
     "data": {
      "text/html": [
       "<div>\n",
       "<style scoped>\n",
       "    .dataframe tbody tr th:only-of-type {\n",
       "        vertical-align: middle;\n",
       "    }\n",
       "\n",
       "    .dataframe tbody tr th {\n",
       "        vertical-align: top;\n",
       "    }\n",
       "\n",
       "    .dataframe thead th {\n",
       "        text-align: right;\n",
       "    }\n",
       "</style>\n",
       "<table border=\"1\" class=\"dataframe\">\n",
       "  <thead>\n",
       "    <tr style=\"text-align: right;\">\n",
       "      <th></th>\n",
       "      <th>instance_id</th>\n",
       "      <th>danceability</th>\n",
       "      <th>duration_ms</th>\n",
       "      <th>key</th>\n",
       "      <th>liveness</th>\n",
       "      <th>energy</th>\n",
       "      <th>mode</th>\n",
       "      <th>speechiness</th>\n",
       "      <th>tempo</th>\n",
       "      <th>valence</th>\n",
       "      <th>music_genre</th>\n",
       "    </tr>\n",
       "  </thead>\n",
       "  <tbody>\n",
       "    <tr>\n",
       "      <th>0</th>\n",
       "      <td>25143.0</td>\n",
       "      <td>0.670</td>\n",
       "      <td>182653.0</td>\n",
       "      <td>D</td>\n",
       "      <td>0.1150</td>\n",
       "      <td>0.351</td>\n",
       "      <td>True</td>\n",
       "      <td>0.0463</td>\n",
       "      <td>101.384</td>\n",
       "      <td>0.450</td>\n",
       "      <td>Country</td>\n",
       "    </tr>\n",
       "    <tr>\n",
       "      <th>1</th>\n",
       "      <td>26091.0</td>\n",
       "      <td>0.452</td>\n",
       "      <td>187133.0</td>\n",
       "      <td>A</td>\n",
       "      <td>0.1080</td>\n",
       "      <td>0.670</td>\n",
       "      <td>False</td>\n",
       "      <td>0.0352</td>\n",
       "      <td>113.071</td>\n",
       "      <td>0.539</td>\n",
       "      <td>Rock</td>\n",
       "    </tr>\n",
       "    <tr>\n",
       "      <th>3</th>\n",
       "      <td>77021.0</td>\n",
       "      <td>0.847</td>\n",
       "      <td>255987.0</td>\n",
       "      <td>G#</td>\n",
       "      <td>0.3250</td>\n",
       "      <td>0.873</td>\n",
       "      <td>False</td>\n",
       "      <td>0.0804</td>\n",
       "      <td>116.007</td>\n",
       "      <td>0.966</td>\n",
       "      <td>Hip-Hop</td>\n",
       "    </tr>\n",
       "    <tr>\n",
       "      <th>4</th>\n",
       "      <td>20852.0</td>\n",
       "      <td>0.742</td>\n",
       "      <td>195333.0</td>\n",
       "      <td>C</td>\n",
       "      <td>0.1760</td>\n",
       "      <td>0.575</td>\n",
       "      <td>True</td>\n",
       "      <td>0.0487</td>\n",
       "      <td>76.494</td>\n",
       "      <td>0.583</td>\n",
       "      <td>Alternative</td>\n",
       "    </tr>\n",
       "    <tr>\n",
       "      <th>5</th>\n",
       "      <td>43934.0</td>\n",
       "      <td>0.308</td>\n",
       "      <td>392893.0</td>\n",
       "      <td>D</td>\n",
       "      <td>0.1120</td>\n",
       "      <td>0.590</td>\n",
       "      <td>True</td>\n",
       "      <td>0.0345</td>\n",
       "      <td>145.758</td>\n",
       "      <td>0.496</td>\n",
       "      <td>Blues</td>\n",
       "    </tr>\n",
       "    <tr>\n",
       "      <th>...</th>\n",
       "      <td>...</td>\n",
       "      <td>...</td>\n",
       "      <td>...</td>\n",
       "      <td>...</td>\n",
       "      <td>...</td>\n",
       "      <td>...</td>\n",
       "      <td>...</td>\n",
       "      <td>...</td>\n",
       "      <td>...</td>\n",
       "      <td>...</td>\n",
       "      <td>...</td>\n",
       "    </tr>\n",
       "    <tr>\n",
       "      <th>20386</th>\n",
       "      <td>79489.0</td>\n",
       "      <td>0.778</td>\n",
       "      <td>200584.0</td>\n",
       "      <td>G#</td>\n",
       "      <td>0.1370</td>\n",
       "      <td>0.556</td>\n",
       "      <td>True</td>\n",
       "      <td>0.1610</td>\n",
       "      <td>137.079</td>\n",
       "      <td>0.294</td>\n",
       "      <td>Rap</td>\n",
       "    </tr>\n",
       "    <tr>\n",
       "      <th>20387</th>\n",
       "      <td>74390.0</td>\n",
       "      <td>0.663</td>\n",
       "      <td>283733.0</td>\n",
       "      <td>G#</td>\n",
       "      <td>0.2570</td>\n",
       "      <td>0.758</td>\n",
       "      <td>True</td>\n",
       "      <td>0.0386</td>\n",
       "      <td>174.794</td>\n",
       "      <td>0.961</td>\n",
       "      <td>Jazz</td>\n",
       "    </tr>\n",
       "    <tr>\n",
       "      <th>20390</th>\n",
       "      <td>44799.0</td>\n",
       "      <td>0.482</td>\n",
       "      <td>198933.0</td>\n",
       "      <td>F#</td>\n",
       "      <td>0.0913</td>\n",
       "      <td>0.362</td>\n",
       "      <td>False</td>\n",
       "      <td>0.0299</td>\n",
       "      <td>76.879</td>\n",
       "      <td>0.174</td>\n",
       "      <td>Rock</td>\n",
       "    </tr>\n",
       "    <tr>\n",
       "      <th>20391</th>\n",
       "      <td>33350.0</td>\n",
       "      <td>0.663</td>\n",
       "      <td>220947.0</td>\n",
       "      <td>D</td>\n",
       "      <td>0.2840</td>\n",
       "      <td>0.886</td>\n",
       "      <td>True</td>\n",
       "      <td>0.0358</td>\n",
       "      <td>146.803</td>\n",
       "      <td>0.942</td>\n",
       "      <td>Alternative</td>\n",
       "    </tr>\n",
       "    <tr>\n",
       "      <th>20393</th>\n",
       "      <td>86375.0</td>\n",
       "      <td>0.717</td>\n",
       "      <td>271885.0</td>\n",
       "      <td>D#</td>\n",
       "      <td>0.1080</td>\n",
       "      <td>0.983</td>\n",
       "      <td>False</td>\n",
       "      <td>0.0942</td>\n",
       "      <td>128.004</td>\n",
       "      <td>0.077</td>\n",
       "      <td>Electronic</td>\n",
       "    </tr>\n",
       "  </tbody>\n",
       "</table>\n",
       "<p>12899 rows × 11 columns</p>\n",
       "</div>"
      ],
      "text/plain": [
       "       instance_id  danceability  duration_ms key  liveness  energy   mode  \\\n",
       "0          25143.0         0.670     182653.0   D    0.1150   0.351   True   \n",
       "1          26091.0         0.452     187133.0   A    0.1080   0.670  False   \n",
       "3          77021.0         0.847     255987.0  G#    0.3250   0.873  False   \n",
       "4          20852.0         0.742     195333.0   C    0.1760   0.575   True   \n",
       "5          43934.0         0.308     392893.0   D    0.1120   0.590   True   \n",
       "...            ...           ...          ...  ..       ...     ...    ...   \n",
       "20386      79489.0         0.778     200584.0  G#    0.1370   0.556   True   \n",
       "20387      74390.0         0.663     283733.0  G#    0.2570   0.758   True   \n",
       "20390      44799.0         0.482     198933.0  F#    0.0913   0.362  False   \n",
       "20391      33350.0         0.663     220947.0   D    0.2840   0.886   True   \n",
       "20393      86375.0         0.717     271885.0  D#    0.1080   0.983  False   \n",
       "\n",
       "       speechiness    tempo  valence  music_genre  \n",
       "0           0.0463  101.384    0.450      Country  \n",
       "1           0.0352  113.071    0.539         Rock  \n",
       "3           0.0804  116.007    0.966      Hip-Hop  \n",
       "4           0.0487   76.494    0.583  Alternative  \n",
       "5           0.0345  145.758    0.496        Blues  \n",
       "...            ...      ...      ...          ...  \n",
       "20386       0.1610  137.079    0.294          Rap  \n",
       "20387       0.0386  174.794    0.961         Jazz  \n",
       "20390       0.0299   76.879    0.174         Rock  \n",
       "20391       0.0358  146.803    0.942  Alternative  \n",
       "20393       0.0942  128.004    0.077   Electronic  \n",
       "\n",
       "[12899 rows x 11 columns]"
      ]
     },
     "execution_count": 79,
     "metadata": {},
     "output_type": "execute_result"
    }
   ],
   "source": [
    "train_merg"
   ]
  },
  {
   "cell_type": "code",
   "execution_count": 80,
   "id": "942d4a92",
   "metadata": {},
   "outputs": [],
   "source": [
    "from sklearn.preprocessing import StandardScaler\n",
    "from sklearn.model_selection import train_test_split\n",
    "from sklearn.model_selection import KFold\n",
    "from sklearn.model_selection import StratifiedKFold\n",
    "from sklearn.model_selection import cross_val_score\n",
    "from sklearn.model_selection import GridSearchCV\n",
    "from sklearn.metrics import classification_report\n",
    "from sklearn.metrics import confusion_matrix\n",
    "from sklearn.metrics import accuracy_score\n",
    "from sklearn.pipeline import Pipeline\n",
    "from sklearn.linear_model import LogisticRegression\n",
    "from sklearn.tree import DecisionTreeClassifier\n",
    "from sklearn.neighbors import KNeighborsClassifier\n",
    "from sklearn.discriminant_analysis import LinearDiscriminantAnalysis\n",
    "from sklearn.naive_bayes import GaussianNB\n",
    "from sklearn.svm import SVC\n",
    "from sklearn.ensemble import AdaBoostClassifier\n",
    "from sklearn.ensemble import GradientBoostingClassifier\n",
    "from sklearn.ensemble import RandomForestClassifier\n",
    "from sklearn.ensemble import ExtraTreesClassifier"
   ]
  },
  {
   "cell_type": "code",
   "execution_count": 81,
   "id": "2c163b25",
   "metadata": {},
   "outputs": [],
   "source": [
    "def GetBasedModel():\n",
    "    basedModels = []\n",
    "    basedModels.append(('LR'   , LogisticRegression()))\n",
    "    basedModels.append(('LDA'  , LinearDiscriminantAnalysis()))\n",
    "    basedModels.append(('KNN'  , KNeighborsClassifier()))\n",
    "    basedModels.append(('CART' , DecisionTreeClassifier()))\n",
    "    basedModels.append(('AB'   , AdaBoostClassifier()))\n",
    "    basedModels.append(('RF'   , RandomForestClassifier()))\n",
    "    basedModels.append(('ET'   , ExtraTreesClassifier()))\n",
    "\n",
    "    \n",
    "    return basedModels"
   ]
  },
  {
   "cell_type": "code",
   "execution_count": 82,
   "id": "a6a1d036",
   "metadata": {},
   "outputs": [],
   "source": [
    "def BasedLine2(X_train, y_train,models):\n",
    "    num_folds = 10\n",
    "    #Для оценки модели будем использовать точность \n",
    "    scoring = 'accuracy'\n",
    "\n",
    "    results = []\n",
    "    names = []\n",
    "    for name, model in models:\n",
    "        kfold = StratifiedKFold(n_splits=num_folds, random_state=RANDOM_STATE,shuffle=True)\n",
    "        cv_results = cross_val_score(model, X_train, y_train, cv=kfold, scoring=scoring)\n",
    "        results.append(cv_results)\n",
    "        names.append(name)\n",
    "        msg = \"%s: %f (%f)\" % (name, cv_results.mean(), cv_results.std())\n",
    "        print(msg)\n",
    "        \n",
    "    return names, results"
   ]
  },
  {
   "cell_type": "code",
   "execution_count": 83,
   "id": "92af3409",
   "metadata": {},
   "outputs": [
    {
     "name": "stdout",
     "output_type": "stream",
     "text": [
      "Категориальные переменные:\n",
      "['key']\n"
     ]
    }
   ],
   "source": [
    "# Выводим список категориальных переменных\n",
    "s = (X_train.dtypes == 'object')\n",
    "object_cols = list(s[s].index)\n",
    "\n",
    "print(\"Категориальные переменные:\")\n",
    "print(object_cols)"
   ]
  },
  {
   "cell_type": "code",
   "execution_count": 84,
   "id": "99d7db92",
   "metadata": {},
   "outputs": [
    {
     "data": {
      "text/plain": [
       "[('key', 12)]"
      ]
     },
     "execution_count": 84,
     "metadata": {},
     "output_type": "execute_result"
    }
   ],
   "source": [
    "#формируем число уникальных категорий в каждой колонке категориальной переменной\n",
    "object_nunique = list(map(lambda col: X_train[col].nunique(), object_cols))\n",
    "d = dict(zip(object_cols, object_nunique))\n",
    "\n",
    "# Выводим количество уникальных категорий в каждой колонке в порядке возрастания\n",
    "sorted(d.items(), key=lambda x: x[1])"
   ]
  },
  {
   "cell_type": "code",
   "execution_count": 85,
   "id": "5d82383d",
   "metadata": {},
   "outputs": [],
   "source": [
    "def ScoreDataFrame(names,results):\n",
    "    def floatingDecimals(f_val, dec=3):\n",
    "        prc = \"{:.\"+str(dec)+\"f}\" \n",
    "    \n",
    "        return float(prc.format(f_val))\n",
    "\n",
    "    scores = []\n",
    "    for r in results:\n",
    "        scores.append(floatingDecimals(r.mean(),4))\n",
    "\n",
    "    scoreDataFrame = pd.DataFrame({'Model':names, 'Score': scores})\n",
    "    return scoreDataFrame"
   ]
  },
  {
   "cell_type": "code",
   "execution_count": 86,
   "id": "5c220b33",
   "metadata": {},
   "outputs": [],
   "source": [
    "# На случай выбора порядкового кодирования\n",
    "label_X_train = X_train.copy()\n",
    "label_X_valid = X_valid.copy()\n",
    "\n",
    "# Порядковое кодирование\n",
    "ordinal_encoder = OrdinalEncoder()\n",
    "label_X_train[object_cols] = ordinal_encoder.fit_transform(X_train[object_cols])\n",
    "label_X_valid[object_cols] = ordinal_encoder.transform(X_valid[object_cols])"
   ]
  },
  {
   "cell_type": "code",
   "execution_count": 87,
   "id": "b04a1dfc",
   "metadata": {},
   "outputs": [],
   "source": [
    "# кодим категории\n",
    "OH_encoder = OneHotEncoder(handle_unknown='ignore', sparse=False)\n",
    "OH_cols_train = pd.DataFrame(OH_encoder.fit_transform(X_train[object_cols]))\n",
    "OH_cols_valid = pd.DataFrame(OH_encoder.transform(X_valid[object_cols]))\n",
    "\n",
    "# возвращаем индексы\n",
    "OH_cols_train.index = X_train.index\n",
    "OH_cols_valid.index = X_valid.index\n",
    "\n",
    "# заменяем на кодированные\n",
    "num_X_train = X_train.drop(object_cols, axis=1)\n",
    "num_X_valid = X_valid.drop(object_cols, axis=1)\n",
    "\n",
    "# добавляем кодированные колонки к нумерик\n",
    "OH_X_train = pd.concat([num_X_train, OH_cols_train], axis=1)\n",
    "OH_X_valid = pd.concat([num_X_valid, OH_cols_valid], axis=1)\n",
    "\n",
    "# чекаем, что у всех кат калонок формат string\n",
    "OH_X_train.columns = OH_X_train.columns.astype(str)\n",
    "OH_X_valid.columns = OH_X_valid.columns.astype(str)"
   ]
  },
  {
   "cell_type": "code",
   "execution_count": 88,
   "id": "e8293195",
   "metadata": {},
   "outputs": [],
   "source": [
    "numerical_cols = X_train.select_dtypes(include=['int64', 'float64']).columns.to_list()\n",
    "categorical_cols = X_train.select_dtypes(include=['object']).columns.to_list()"
   ]
  },
  {
   "cell_type": "code",
   "execution_count": 89,
   "id": "a40e57f7",
   "metadata": {},
   "outputs": [
    {
     "name": "stdout",
     "output_type": "stream",
     "text": [
      "LR: 0.150887 (0.000456)\n",
      "LDA: 0.327165 (0.012464)\n",
      "KNN: 0.145170 (0.006744)\n",
      "CART: 0.255354 (0.009935)\n",
      "AB: 0.307007 (0.011365)\n",
      "RF: 0.355849 (0.010003)\n",
      "ET: 0.352458 (0.017702)\n"
     ]
    }
   ],
   "source": [
    "models = GetBasedModel()\n",
    "names,results = BasedLine2(label_X_train, y_train,models)"
   ]
  },
  {
   "cell_type": "code",
   "execution_count": 90,
   "id": "3daa640e",
   "metadata": {},
   "outputs": [
    {
     "data": {
      "text/html": [
       "<div>\n",
       "<style scoped>\n",
       "    .dataframe tbody tr th:only-of-type {\n",
       "        vertical-align: middle;\n",
       "    }\n",
       "\n",
       "    .dataframe tbody tr th {\n",
       "        vertical-align: top;\n",
       "    }\n",
       "\n",
       "    .dataframe thead th {\n",
       "        text-align: right;\n",
       "    }\n",
       "</style>\n",
       "<table border=\"1\" class=\"dataframe\">\n",
       "  <thead>\n",
       "    <tr style=\"text-align: right;\">\n",
       "      <th></th>\n",
       "      <th>Model</th>\n",
       "      <th>Score</th>\n",
       "    </tr>\n",
       "  </thead>\n",
       "  <tbody>\n",
       "    <tr>\n",
       "      <th>0</th>\n",
       "      <td>LR</td>\n",
       "      <td>0.1509</td>\n",
       "    </tr>\n",
       "    <tr>\n",
       "      <th>1</th>\n",
       "      <td>LDA</td>\n",
       "      <td>0.3272</td>\n",
       "    </tr>\n",
       "    <tr>\n",
       "      <th>2</th>\n",
       "      <td>KNN</td>\n",
       "      <td>0.1452</td>\n",
       "    </tr>\n",
       "    <tr>\n",
       "      <th>3</th>\n",
       "      <td>CART</td>\n",
       "      <td>0.2554</td>\n",
       "    </tr>\n",
       "    <tr>\n",
       "      <th>4</th>\n",
       "      <td>AB</td>\n",
       "      <td>0.3070</td>\n",
       "    </tr>\n",
       "    <tr>\n",
       "      <th>5</th>\n",
       "      <td>RF</td>\n",
       "      <td>0.3558</td>\n",
       "    </tr>\n",
       "    <tr>\n",
       "      <th>6</th>\n",
       "      <td>ET</td>\n",
       "      <td>0.3525</td>\n",
       "    </tr>\n",
       "  </tbody>\n",
       "</table>\n",
       "</div>"
      ],
      "text/plain": [
       "  Model   Score\n",
       "0    LR  0.1509\n",
       "1   LDA  0.3272\n",
       "2   KNN  0.1452\n",
       "3  CART  0.2554\n",
       "4    AB  0.3070\n",
       "5    RF  0.3558\n",
       "6    ET  0.3525"
      ]
     },
     "execution_count": 90,
     "metadata": {},
     "output_type": "execute_result"
    }
   ],
   "source": [
    "basedLineScore = ScoreDataFrame(names,results)\n",
    "basedLineScore"
   ]
  },
  {
   "cell_type": "markdown",
   "id": "91dd75e0",
   "metadata": {},
   "source": [
    "В топе у нас модели типа RandomForestClassifier c accuracy 0.3560 и ET ExtraTreesClassifier() 0.3507 с порядковым энкодером"
   ]
  },
  {
   "cell_type": "code",
   "execution_count": 91,
   "id": "384724f1",
   "metadata": {},
   "outputs": [],
   "source": [
    "from sklearn.preprocessing import StandardScaler\n",
    "from sklearn.preprocessing import MinMaxScaler\n",
    "\n",
    "\n",
    "def GetScaledModel(nameOfScaler):\n",
    "    \n",
    "    if nameOfScaler == 'standard':\n",
    "        scaler = StandardScaler()\n",
    "    elif nameOfScaler =='minmax':\n",
    "        scaler = MinMaxScaler()\n",
    "\n",
    "    pipelines = []\n",
    "    pipelines.append((nameOfScaler+'LR'  , Pipeline([('Scaler', scaler),('LR'  , LogisticRegression())])))\n",
    "    pipelines.append((nameOfScaler+'LDA' , Pipeline([('Scaler', scaler),('LDA' , LinearDiscriminantAnalysis())])))\n",
    "    pipelines.append((nameOfScaler+'KNN' , Pipeline([('Scaler', scaler),('KNN' , KNeighborsClassifier())])))\n",
    "    pipelines.append((nameOfScaler+'CART', Pipeline([('Scaler', scaler),('CART', DecisionTreeClassifier())])))\n",
    "    pipelines.append((nameOfScaler+'AB'  , Pipeline([('Scaler', scaler),('AB'  , AdaBoostClassifier())])  ))\n",
    "    pipelines.append((nameOfScaler+'RF'  , Pipeline([('Scaler', scaler),('RF'  , RandomForestClassifier())])  ))\n",
    "    pipelines.append((nameOfScaler+'ET'  , Pipeline([('Scaler', scaler),('ET'  , ExtraTreesClassifier())])  ))\n",
    "\n",
    "\n",
    "    return pipelines "
   ]
  },
  {
   "cell_type": "code",
   "execution_count": 92,
   "id": "6665b4f2",
   "metadata": {},
   "outputs": [
    {
     "name": "stdout",
     "output_type": "stream",
     "text": [
      "standardLR: 0.338213 (0.012982)\n",
      "standardLDA: 0.327165 (0.012464)\n",
      "standardKNN: 0.291306 (0.009602)\n",
      "standardCART: 0.250896 (0.009287)\n",
      "standardAB: 0.307007 (0.011365)\n",
      "standardRF: 0.360112 (0.008927)\n",
      "standardET: 0.346546 (0.016274)\n"
     ]
    },
    {
     "data": {
      "text/html": [
       "<div>\n",
       "<style scoped>\n",
       "    .dataframe tbody tr th:only-of-type {\n",
       "        vertical-align: middle;\n",
       "    }\n",
       "\n",
       "    .dataframe tbody tr th {\n",
       "        vertical-align: top;\n",
       "    }\n",
       "\n",
       "    .dataframe thead th {\n",
       "        text-align: right;\n",
       "    }\n",
       "</style>\n",
       "<table border=\"1\" class=\"dataframe\">\n",
       "  <thead>\n",
       "    <tr style=\"text-align: right;\">\n",
       "      <th></th>\n",
       "      <th>Model</th>\n",
       "      <th>Score</th>\n",
       "      <th>Model</th>\n",
       "      <th>Score</th>\n",
       "    </tr>\n",
       "  </thead>\n",
       "  <tbody>\n",
       "    <tr>\n",
       "      <th>0</th>\n",
       "      <td>LR</td>\n",
       "      <td>0.1509</td>\n",
       "      <td>standardLR</td>\n",
       "      <td>0.3382</td>\n",
       "    </tr>\n",
       "    <tr>\n",
       "      <th>1</th>\n",
       "      <td>LDA</td>\n",
       "      <td>0.3272</td>\n",
       "      <td>standardLDA</td>\n",
       "      <td>0.3272</td>\n",
       "    </tr>\n",
       "    <tr>\n",
       "      <th>2</th>\n",
       "      <td>KNN</td>\n",
       "      <td>0.1452</td>\n",
       "      <td>standardKNN</td>\n",
       "      <td>0.2913</td>\n",
       "    </tr>\n",
       "    <tr>\n",
       "      <th>3</th>\n",
       "      <td>CART</td>\n",
       "      <td>0.2554</td>\n",
       "      <td>standardCART</td>\n",
       "      <td>0.2509</td>\n",
       "    </tr>\n",
       "    <tr>\n",
       "      <th>4</th>\n",
       "      <td>AB</td>\n",
       "      <td>0.3070</td>\n",
       "      <td>standardAB</td>\n",
       "      <td>0.3070</td>\n",
       "    </tr>\n",
       "    <tr>\n",
       "      <th>5</th>\n",
       "      <td>RF</td>\n",
       "      <td>0.3558</td>\n",
       "      <td>standardRF</td>\n",
       "      <td>0.3601</td>\n",
       "    </tr>\n",
       "    <tr>\n",
       "      <th>6</th>\n",
       "      <td>ET</td>\n",
       "      <td>0.3525</td>\n",
       "      <td>standardET</td>\n",
       "      <td>0.3465</td>\n",
       "    </tr>\n",
       "  </tbody>\n",
       "</table>\n",
       "</div>"
      ],
      "text/plain": [
       "  Model   Score         Model   Score\n",
       "0    LR  0.1509    standardLR  0.3382\n",
       "1   LDA  0.3272   standardLDA  0.3272\n",
       "2   KNN  0.1452   standardKNN  0.2913\n",
       "3  CART  0.2554  standardCART  0.2509\n",
       "4    AB  0.3070    standardAB  0.3070\n",
       "5    RF  0.3558    standardRF  0.3601\n",
       "6    ET  0.3525    standardET  0.3465"
      ]
     },
     "execution_count": 92,
     "metadata": {},
     "output_type": "execute_result"
    }
   ],
   "source": [
    "models = GetScaledModel('standard')\n",
    "names,results = BasedLine2(label_X_train, y_train,models)\n",
    "scaledScoreStandard = ScoreDataFrame(names,results)\n",
    "compareModels = pd.concat([basedLineScore,\n",
    "                           scaledScoreStandard], axis=1)\n",
    "compareModels"
   ]
  },
  {
   "cell_type": "markdown",
   "id": "57b16f00",
   "metadata": {},
   "source": [
    "# Важность признаков "
   ]
  },
  {
   "cell_type": "code",
   "execution_count": 93,
   "id": "c7fe430c",
   "metadata": {},
   "outputs": [
    {
     "data": {
      "image/png": "[encoded data removed]",
      "text/plain": [
       "<Figure size 432x288 with 1 Axes>"
      ]
     },
     "metadata": {
      "needs_background": "light"
     },
     "output_type": "display_data"
    }
   ],
   "source": [
    "clf = ExtraTreesClassifier(n_estimators=250,\n",
    "                              random_state=RANDOM_STATE)\n",
    "\n",
    "clf.fit(label_X_train, y_train)\n",
    "\n",
    "\n",
    "#Выводим гистограмму с распределением важности признаков для модели\n",
    "feature_importance = clf.feature_importances_\n",
    "feature_importance = 100.0 * (feature_importance / feature_importance.max())\n",
    "sorted_idx = np.argsort(feature_importance)\n",
    "pos = np.arange(sorted_idx.shape[0]) + .5\n",
    "plt.subplot(1, 2, 2)\n",
    "plt.barh(pos, feature_importance[sorted_idx], align='center')\n",
    "plt.yticks(pos, label_X_train.columns[sorted_idx]) \n",
    "plt.xlabel('Relative Importance')\n",
    "plt.title('Variable Importance')\n",
    "plt.show()"
   ]
  },
  {
   "cell_type": "markdown",
   "id": "8f47d8ef",
   "metadata": {},
   "source": [
    "Мы определилили Encoder, Scaler, и модели для предсказаний"
   ]
  },
  {
   "cell_type": "code",
   "execution_count": 94,
   "id": "83ed4f4d",
   "metadata": {},
   "outputs": [
    {
     "data": {
      "text/html": [
       "<style>#sk-container-id-1 {color: black;}#sk-container-id-1 pre{padding: 0;}#sk-container-id-1 div.sk-toggleable {background-color: white;}#sk-container-id-1 label.sk-toggleable__label {cursor: pointer;display: block;width: 100%;margin-bottom: 0;padding: 0.3em;box-sizing: border-box;text-align: center;}#sk-container-id-1 label.sk-toggleable__label-arrow:before {content: \"▸\";float: left;margin-right: 0.25em;color: #696969;}#sk-container-id-1 label.sk-toggleable__label-arrow:hover:before {color: black;}#sk-container-id-1 div.sk-estimator:hover label.sk-toggleable__label-arrow:before {color: black;}#sk-container-id-1 div.sk-toggleable__content {max-height: 0;max-width: 0;overflow: hidden;text-align: left;background-color: #f0f8ff;}#sk-container-id-1 div.sk-toggleable__content pre {margin: 0.2em;color: black;border-radius: 0.25em;background-color: #f0f8ff;}#sk-container-id-1 input.sk-toggleable__control:checked~div.sk-toggleable__content {max-height: 200px;max-width: 100%;overflow: auto;}#sk-container-id-1 input.sk-toggleable__control:checked~label.sk-toggleable__label-arrow:before {content: \"▾\";}#sk-container-id-1 div.sk-estimator input.sk-toggleable__control:checked~label.sk-toggleable__label {background-color: #d4ebff;}#sk-container-id-1 div.sk-label input.sk-toggleable__control:checked~label.sk-toggleable__label {background-color: #d4ebff;}#sk-container-id-1 input.sk-hidden--visually {border: 0;clip: rect(1px 1px 1px 1px);clip: rect(1px, 1px, 1px, 1px);height: 1px;margin: -1px;overflow: hidden;padding: 0;position: absolute;width: 1px;}#sk-container-id-1 div.sk-estimator {font-family: monospace;background-color: #f0f8ff;border: 1px dotted black;border-radius: 0.25em;box-sizing: border-box;margin-bottom: 0.5em;}#sk-container-id-1 div.sk-estimator:hover {background-color: #d4ebff;}#sk-container-id-1 div.sk-parallel-item::after {content: \"\";width: 100%;border-bottom: 1px solid gray;flex-grow: 1;}#sk-container-id-1 div.sk-label:hover label.sk-toggleable__label {background-color: #d4ebff;}#sk-container-id-1 div.sk-serial::before {content: \"\";position: absolute;border-left: 1px solid gray;box-sizing: border-box;top: 0;bottom: 0;left: 50%;z-index: 0;}#sk-container-id-1 div.sk-serial {display: flex;flex-direction: column;align-items: center;background-color: white;padding-right: 0.2em;padding-left: 0.2em;position: relative;}#sk-container-id-1 div.sk-item {position: relative;z-index: 1;}#sk-container-id-1 div.sk-parallel {display: flex;align-items: stretch;justify-content: center;background-color: white;position: relative;}#sk-container-id-1 div.sk-item::before, #sk-container-id-1 div.sk-parallel-item::before {content: \"\";position: absolute;border-left: 1px solid gray;box-sizing: border-box;top: 0;bottom: 0;left: 50%;z-index: -1;}#sk-container-id-1 div.sk-parallel-item {display: flex;flex-direction: column;z-index: 1;position: relative;background-color: white;}#sk-container-id-1 div.sk-parallel-item:first-child::after {align-self: flex-end;width: 50%;}#sk-container-id-1 div.sk-parallel-item:last-child::after {align-self: flex-start;width: 50%;}#sk-container-id-1 div.sk-parallel-item:only-child::after {width: 0;}#sk-container-id-1 div.sk-dashed-wrapped {border: 1px dashed gray;margin: 0 0.4em 0.5em 0.4em;box-sizing: border-box;padding-bottom: 0.4em;background-color: white;}#sk-container-id-1 div.sk-label label {font-family: monospace;font-weight: bold;display: inline-block;line-height: 1.2em;}#sk-container-id-1 div.sk-label-container {text-align: center;}#sk-container-id-1 div.sk-container {/* jupyter's `normalize.less` sets `[hidden] { display: none; }` but bootstrap.min.css set `[hidden] { display: none !important; }` so we also need the `!important` here to be able to override the default hidden behavior on the sphinx rendered scikit-learn.org. See: https://github.com/scikit-learn/scikit-learn/issues/21755 */display: inline-block !important;position: relative;}#sk-container-id-1 div.sk-text-repr-fallback {display: none;}</style><div id=\"sk-container-id-1\" class=\"sk-top-container\"><div class=\"sk-text-repr-fallback\"><pre>ColumnTransformer(remainder=&#x27;passthrough&#x27;,\n",
       "                  transformers=[(&#x27;pipeline&#x27;,\n",
       "                                 Pipeline(steps=[(&#x27;standardscaler&#x27;,\n",
       "                                                  StandardScaler()),\n",
       "                                                 (&#x27;dropcorrelatedfeatures&#x27;,\n",
       "                                                  DropCorrelatedFeatures(threshold=0.9)),\n",
       "                                                 (&#x27;dropconstantfeatures&#x27;,\n",
       "                                                  DropConstantFeatures())]),\n",
       "                                 [&#x27;danceability&#x27;, &#x27;duration_ms&#x27;, &#x27;liveness&#x27;,\n",
       "                                  &#x27;energy&#x27;, &#x27;speechiness&#x27;, &#x27;tempo&#x27;,\n",
       "                                  &#x27;valence&#x27;]),\n",
       "                                (&#x27;ordinalencoder&#x27;, OrdinalEncoder(), [&#x27;key&#x27;])])</pre><b>In a Jupyter environment, please rerun this cell to show the HTML representation or trust the notebook. <br />On GitHub, the HTML representation is unable to render, please try loading this page with nbviewer.org.</b></div><div class=\"sk-container\" hidden><div class=\"sk-item sk-dashed-wrapped\"><div class=\"sk-label-container\"><div class=\"sk-label sk-toggleable\"><input class=\"sk-toggleable__control sk-hidden--visually\" id=\"sk-estimator-id-1\" type=\"checkbox\" ><label for=\"sk-estimator-id-1\" class=\"sk-toggleable__label sk-toggleable__label-arrow\">ColumnTransformer</label><div class=\"sk-toggleable__content\"><pre>ColumnTransformer(remainder=&#x27;passthrough&#x27;,\n",
       "                  transformers=[(&#x27;pipeline&#x27;,\n",
       "                                 Pipeline(steps=[(&#x27;standardscaler&#x27;,\n",
       "                                                  StandardScaler()),\n",
       "                                                 (&#x27;dropcorrelatedfeatures&#x27;,\n",
       "                                                  DropCorrelatedFeatures(threshold=0.9)),\n",
       "                                                 (&#x27;dropconstantfeatures&#x27;,\n",
       "                                                  DropConstantFeatures())]),\n",
       "                                 [&#x27;danceability&#x27;, &#x27;duration_ms&#x27;, &#x27;liveness&#x27;,\n",
       "                                  &#x27;energy&#x27;, &#x27;speechiness&#x27;, &#x27;tempo&#x27;,\n",
       "                                  &#x27;valence&#x27;]),\n",
       "                                (&#x27;ordinalencoder&#x27;, OrdinalEncoder(), [&#x27;key&#x27;])])</pre></div></div></div><div class=\"sk-parallel\"><div class=\"sk-parallel-item\"><div class=\"sk-item\"><div class=\"sk-label-container\"><div class=\"sk-label sk-toggleable\"><input class=\"sk-toggleable__control sk-hidden--visually\" id=\"sk-estimator-id-2\" type=\"checkbox\" ><label for=\"sk-estimator-id-2\" class=\"sk-toggleable__label sk-toggleable__label-arrow\">pipeline</label><div class=\"sk-toggleable__content\"><pre>[&#x27;danceability&#x27;, &#x27;duration_ms&#x27;, &#x27;liveness&#x27;, &#x27;energy&#x27;, &#x27;speechiness&#x27;, &#x27;tempo&#x27;, &#x27;valence&#x27;]</pre></div></div></div><div class=\"sk-serial\"><div class=\"sk-item\"><div class=\"sk-serial\"><div class=\"sk-item\"><div class=\"sk-estimator sk-toggleable\"><input class=\"sk-toggleable__control sk-hidden--visually\" id=\"sk-estimator-id-3\" type=\"checkbox\" ><label for=\"sk-estimator-id-3\" class=\"sk-toggleable__label sk-toggleable__label-arrow\">StandardScaler</label><div class=\"sk-toggleable__content\"><pre>StandardScaler()</pre></div></div></div><div class=\"sk-item\"><div class=\"sk-estimator sk-toggleable\"><input class=\"sk-toggleable__control sk-hidden--visually\" id=\"sk-estimator-id-4\" type=\"checkbox\" ><label for=\"sk-estimator-id-4\" class=\"sk-toggleable__label sk-toggleable__label-arrow\">DropCorrelatedFeatures</label><div class=\"sk-toggleable__content\"><pre>DropCorrelatedFeatures(threshold=0.9)</pre></div></div></div><div class=\"sk-item\"><div class=\"sk-estimator sk-toggleable\"><input class=\"sk-toggleable__control sk-hidden--visually\" id=\"sk-estimator-id-5\" type=\"checkbox\" ><label for=\"sk-estimator-id-5\" class=\"sk-toggleable__label sk-toggleable__label-arrow\">DropConstantFeatures</label><div class=\"sk-toggleable__content\"><pre>DropConstantFeatures()</pre></div></div></div></div></div></div></div></div><div class=\"sk-parallel-item\"><div class=\"sk-item\"><div class=\"sk-label-container\"><div class=\"sk-label sk-toggleable\"><input class=\"sk-toggleable__control sk-hidden--visually\" id=\"sk-estimator-id-6\" type=\"checkbox\" ><label for=\"sk-estimator-id-6\" class=\"sk-toggleable__label sk-toggleable__label-arrow\">ordinalencoder</label><div class=\"sk-toggleable__content\"><pre>[&#x27;key&#x27;]</pre></div></div></div><div class=\"sk-serial\"><div class=\"sk-item\"><div class=\"sk-estimator sk-toggleable\"><input class=\"sk-toggleable__control sk-hidden--visually\" id=\"sk-estimator-id-7\" type=\"checkbox\" ><label for=\"sk-estimator-id-7\" class=\"sk-toggleable__label sk-toggleable__label-arrow\">OrdinalEncoder</label><div class=\"sk-toggleable__content\"><pre>OrdinalEncoder()</pre></div></div></div></div></div></div><div class=\"sk-parallel-item\"><div class=\"sk-item\"><div class=\"sk-label-container\"><div class=\"sk-label sk-toggleable\"><input class=\"sk-toggleable__control sk-hidden--visually\" id=\"sk-estimator-id-8\" type=\"checkbox\" ><label for=\"sk-estimator-id-8\" class=\"sk-toggleable__label sk-toggleable__label-arrow\">remainder</label><div class=\"sk-toggleable__content\"><pre></pre></div></div></div><div class=\"sk-serial\"><div class=\"sk-item\"><div class=\"sk-estimator sk-toggleable\"><input class=\"sk-toggleable__control sk-hidden--visually\" id=\"sk-estimator-id-9\" type=\"checkbox\" ><label for=\"sk-estimator-id-9\" class=\"sk-toggleable__label sk-toggleable__label-arrow\">passthrough</label><div class=\"sk-toggleable__content\"><pre>passthrough</pre></div></div></div></div></div></div></div></div></div></div>"
      ],
      "text/plain": [
       "ColumnTransformer(remainder='passthrough',\n",
       "                  transformers=[('pipeline',\n",
       "                                 Pipeline(steps=[('standardscaler',\n",
       "                                                  StandardScaler()),\n",
       "                                                 ('dropcorrelatedfeatures',\n",
       "                                                  DropCorrelatedFeatures(threshold=0.9)),\n",
       "                                                 ('dropconstantfeatures',\n",
       "                                                  DropConstantFeatures())]),\n",
       "                                 ['danceability', 'duration_ms', 'liveness',\n",
       "                                  'energy', 'speechiness', 'tempo',\n",
       "                                  'valence']),\n",
       "                                ('ordinalencoder', OrdinalEncoder(), ['key'])])"
      ]
     },
     "execution_count": 94,
     "metadata": {},
     "output_type": "execute_result"
    }
   ],
   "source": [
    "\n",
    "num_pipeline = make_imblearn_pipeline(StandardScaler(), DropCorrelatedFeatures(threshold=0.9), DropConstantFeatures())\n",
    "column_transformer = make_column_transformer((num_pipeline, numerical_cols),\n",
    "                                             (OrdinalEncoder(), categorical_cols),remainder='passthrough')\n",
    "column_transformer"
   ]
  },
  {
   "cell_type": "code",
   "execution_count": null,
   "id": "690aed95",
   "metadata": {},
   "outputs": [],
   "source": []
  },
  {
   "cell_type": "code",
   "execution_count": 95,
   "id": "7168a6c3",
   "metadata": {},
   "outputs": [
    {
     "data": {
      "text/html": [
       "<style>#sk-container-id-2 {color: black;}#sk-container-id-2 pre{padding: 0;}#sk-container-id-2 div.sk-toggleable {background-color: white;}#sk-container-id-2 label.sk-toggleable__label {cursor: pointer;display: block;width: 100%;margin-bottom: 0;padding: 0.3em;box-sizing: border-box;text-align: center;}#sk-container-id-2 label.sk-toggleable__label-arrow:before {content: \"▸\";float: left;margin-right: 0.25em;color: #696969;}#sk-container-id-2 label.sk-toggleable__label-arrow:hover:before {color: black;}#sk-container-id-2 div.sk-estimator:hover label.sk-toggleable__label-arrow:before {color: black;}#sk-container-id-2 div.sk-toggleable__content {max-height: 0;max-width: 0;overflow: hidden;text-align: left;background-color: #f0f8ff;}#sk-container-id-2 div.sk-toggleable__content pre {margin: 0.2em;color: black;border-radius: 0.25em;background-color: #f0f8ff;}#sk-container-id-2 input.sk-toggleable__control:checked~div.sk-toggleable__content {max-height: 200px;max-width: 100%;overflow: auto;}#sk-container-id-2 input.sk-toggleable__control:checked~label.sk-toggleable__label-arrow:before {content: \"▾\";}#sk-container-id-2 div.sk-estimator input.sk-toggleable__control:checked~label.sk-toggleable__label {background-color: #d4ebff;}#sk-container-id-2 div.sk-label input.sk-toggleable__control:checked~label.sk-toggleable__label {background-color: #d4ebff;}#sk-container-id-2 input.sk-hidden--visually {border: 0;clip: rect(1px 1px 1px 1px);clip: rect(1px, 1px, 1px, 1px);height: 1px;margin: -1px;overflow: hidden;padding: 0;position: absolute;width: 1px;}#sk-container-id-2 div.sk-estimator {font-family: monospace;background-color: #f0f8ff;border: 1px dotted black;border-radius: 0.25em;box-sizing: border-box;margin-bottom: 0.5em;}#sk-container-id-2 div.sk-estimator:hover {background-color: #d4ebff;}#sk-container-id-2 div.sk-parallel-item::after {content: \"\";width: 100%;border-bottom: 1px solid gray;flex-grow: 1;}#sk-container-id-2 div.sk-label:hover label.sk-toggleable__label {background-color: #d4ebff;}#sk-container-id-2 div.sk-serial::before {content: \"\";position: absolute;border-left: 1px solid gray;box-sizing: border-box;top: 0;bottom: 0;left: 50%;z-index: 0;}#sk-container-id-2 div.sk-serial {display: flex;flex-direction: column;align-items: center;background-color: white;padding-right: 0.2em;padding-left: 0.2em;position: relative;}#sk-container-id-2 div.sk-item {position: relative;z-index: 1;}#sk-container-id-2 div.sk-parallel {display: flex;align-items: stretch;justify-content: center;background-color: white;position: relative;}#sk-container-id-2 div.sk-item::before, #sk-container-id-2 div.sk-parallel-item::before {content: \"\";position: absolute;border-left: 1px solid gray;box-sizing: border-box;top: 0;bottom: 0;left: 50%;z-index: -1;}#sk-container-id-2 div.sk-parallel-item {display: flex;flex-direction: column;z-index: 1;position: relative;background-color: white;}#sk-container-id-2 div.sk-parallel-item:first-child::after {align-self: flex-end;width: 50%;}#sk-container-id-2 div.sk-parallel-item:last-child::after {align-self: flex-start;width: 50%;}#sk-container-id-2 div.sk-parallel-item:only-child::after {width: 0;}#sk-container-id-2 div.sk-dashed-wrapped {border: 1px dashed gray;margin: 0 0.4em 0.5em 0.4em;box-sizing: border-box;padding-bottom: 0.4em;background-color: white;}#sk-container-id-2 div.sk-label label {font-family: monospace;font-weight: bold;display: inline-block;line-height: 1.2em;}#sk-container-id-2 div.sk-label-container {text-align: center;}#sk-container-id-2 div.sk-container {/* jupyter's `normalize.less` sets `[hidden] { display: none; }` but bootstrap.min.css set `[hidden] { display: none !important; }` so we also need the `!important` here to be able to override the default hidden behavior on the sphinx rendered scikit-learn.org. See: https://github.com/scikit-learn/scikit-learn/issues/21755 */display: inline-block !important;position: relative;}#sk-container-id-2 div.sk-text-repr-fallback {display: none;}</style><div id=\"sk-container-id-2\" class=\"sk-top-container\"><div class=\"sk-text-repr-fallback\"><pre>Pipeline(steps=[(&#x27;columntransformer&#x27;,\n",
       "                 ColumnTransformer(remainder=&#x27;passthrough&#x27;,\n",
       "                                   transformers=[(&#x27;pipeline&#x27;,\n",
       "                                                  Pipeline(steps=[(&#x27;standardscaler&#x27;,\n",
       "                                                                   StandardScaler()),\n",
       "                                                                  (&#x27;dropcorrelatedfeatures&#x27;,\n",
       "                                                                   DropCorrelatedFeatures(threshold=0.9)),\n",
       "                                                                  (&#x27;dropconstantfeatures&#x27;,\n",
       "                                                                   DropConstantFeatures())]),\n",
       "                                                  [&#x27;danceability&#x27;,\n",
       "                                                   &#x27;duration_ms&#x27;, &#x27;liveness&#x27;,\n",
       "                                                   &#x27;energy&#x27;, &#x27;speechiness&#x27;,\n",
       "                                                   &#x27;tempo&#x27;, &#x27;valence&#x27;]),\n",
       "                                                 (&#x27;ordinalencoder&#x27;,\n",
       "                                                  OrdinalEncoder(),\n",
       "                                                  [&#x27;key&#x27;])])),\n",
       "                (&#x27;iterativeimputer&#x27;, IterativeImputer()),\n",
       "                (&#x27;smotetomek&#x27;, SMOTETomek(random_state=12345)),\n",
       "                (&#x27;randomforestclassifier&#x27;,\n",
       "                 RandomForestClassifier(random_state=12345))])</pre><b>In a Jupyter environment, please rerun this cell to show the HTML representation or trust the notebook. <br />On GitHub, the HTML representation is unable to render, please try loading this page with nbviewer.org.</b></div><div class=\"sk-container\" hidden><div class=\"sk-item sk-dashed-wrapped\"><div class=\"sk-label-container\"><div class=\"sk-label sk-toggleable\"><input class=\"sk-toggleable__control sk-hidden--visually\" id=\"sk-estimator-id-10\" type=\"checkbox\" ><label for=\"sk-estimator-id-10\" class=\"sk-toggleable__label sk-toggleable__label-arrow\">Pipeline</label><div class=\"sk-toggleable__content\"><pre>Pipeline(steps=[(&#x27;columntransformer&#x27;,\n",
       "                 ColumnTransformer(remainder=&#x27;passthrough&#x27;,\n",
       "                                   transformers=[(&#x27;pipeline&#x27;,\n",
       "                                                  Pipeline(steps=[(&#x27;standardscaler&#x27;,\n",
       "                                                                   StandardScaler()),\n",
       "                                                                  (&#x27;dropcorrelatedfeatures&#x27;,\n",
       "                                                                   DropCorrelatedFeatures(threshold=0.9)),\n",
       "                                                                  (&#x27;dropconstantfeatures&#x27;,\n",
       "                                                                   DropConstantFeatures())]),\n",
       "                                                  [&#x27;danceability&#x27;,\n",
       "                                                   &#x27;duration_ms&#x27;, &#x27;liveness&#x27;,\n",
       "                                                   &#x27;energy&#x27;, &#x27;speechiness&#x27;,\n",
       "                                                   &#x27;tempo&#x27;, &#x27;valence&#x27;]),\n",
       "                                                 (&#x27;ordinalencoder&#x27;,\n",
       "                                                  OrdinalEncoder(),\n",
       "                                                  [&#x27;key&#x27;])])),\n",
       "                (&#x27;iterativeimputer&#x27;, IterativeImputer()),\n",
       "                (&#x27;smotetomek&#x27;, SMOTETomek(random_state=12345)),\n",
       "                (&#x27;randomforestclassifier&#x27;,\n",
       "                 RandomForestClassifier(random_state=12345))])</pre></div></div></div><div class=\"sk-serial\"><div class=\"sk-item sk-dashed-wrapped\"><div class=\"sk-label-container\"><div class=\"sk-label sk-toggleable\"><input class=\"sk-toggleable__control sk-hidden--visually\" id=\"sk-estimator-id-11\" type=\"checkbox\" ><label for=\"sk-estimator-id-11\" class=\"sk-toggleable__label sk-toggleable__label-arrow\">columntransformer: ColumnTransformer</label><div class=\"sk-toggleable__content\"><pre>ColumnTransformer(remainder=&#x27;passthrough&#x27;,\n",
       "                  transformers=[(&#x27;pipeline&#x27;,\n",
       "                                 Pipeline(steps=[(&#x27;standardscaler&#x27;,\n",
       "                                                  StandardScaler()),\n",
       "                                                 (&#x27;dropcorrelatedfeatures&#x27;,\n",
       "                                                  DropCorrelatedFeatures(threshold=0.9)),\n",
       "                                                 (&#x27;dropconstantfeatures&#x27;,\n",
       "                                                  DropConstantFeatures())]),\n",
       "                                 [&#x27;danceability&#x27;, &#x27;duration_ms&#x27;, &#x27;liveness&#x27;,\n",
       "                                  &#x27;energy&#x27;, &#x27;speechiness&#x27;, &#x27;tempo&#x27;,\n",
       "                                  &#x27;valence&#x27;]),\n",
       "                                (&#x27;ordinalencoder&#x27;, OrdinalEncoder(), [&#x27;key&#x27;])])</pre></div></div></div><div class=\"sk-parallel\"><div class=\"sk-parallel-item\"><div class=\"sk-item\"><div class=\"sk-label-container\"><div class=\"sk-label sk-toggleable\"><input class=\"sk-toggleable__control sk-hidden--visually\" id=\"sk-estimator-id-12\" type=\"checkbox\" ><label for=\"sk-estimator-id-12\" class=\"sk-toggleable__label sk-toggleable__label-arrow\">pipeline</label><div class=\"sk-toggleable__content\"><pre>[&#x27;danceability&#x27;, &#x27;duration_ms&#x27;, &#x27;liveness&#x27;, &#x27;energy&#x27;, &#x27;speechiness&#x27;, &#x27;tempo&#x27;, &#x27;valence&#x27;]</pre></div></div></div><div class=\"sk-serial\"><div class=\"sk-item\"><div class=\"sk-serial\"><div class=\"sk-item\"><div class=\"sk-estimator sk-toggleable\"><input class=\"sk-toggleable__control sk-hidden--visually\" id=\"sk-estimator-id-13\" type=\"checkbox\" ><label for=\"sk-estimator-id-13\" class=\"sk-toggleable__label sk-toggleable__label-arrow\">StandardScaler</label><div class=\"sk-toggleable__content\"><pre>StandardScaler()</pre></div></div></div><div class=\"sk-item\"><div class=\"sk-estimator sk-toggleable\"><input class=\"sk-toggleable__control sk-hidden--visually\" id=\"sk-estimator-id-14\" type=\"checkbox\" ><label for=\"sk-estimator-id-14\" class=\"sk-toggleable__label sk-toggleable__label-arrow\">DropCorrelatedFeatures</label><div class=\"sk-toggleable__content\"><pre>DropCorrelatedFeatures(threshold=0.9)</pre></div></div></div><div class=\"sk-item\"><div class=\"sk-estimator sk-toggleable\"><input class=\"sk-toggleable__control sk-hidden--visually\" id=\"sk-estimator-id-15\" type=\"checkbox\" ><label for=\"sk-estimator-id-15\" class=\"sk-toggleable__label sk-toggleable__label-arrow\">DropConstantFeatures</label><div class=\"sk-toggleable__content\"><pre>DropConstantFeatures()</pre></div></div></div></div></div></div></div></div><div class=\"sk-parallel-item\"><div class=\"sk-item\"><div class=\"sk-label-container\"><div class=\"sk-label sk-toggleable\"><input class=\"sk-toggleable__control sk-hidden--visually\" id=\"sk-estimator-id-16\" type=\"checkbox\" ><label for=\"sk-estimator-id-16\" class=\"sk-toggleable__label sk-toggleable__label-arrow\">ordinalencoder</label><div class=\"sk-toggleable__content\"><pre>[&#x27;key&#x27;]</pre></div></div></div><div class=\"sk-serial\"><div class=\"sk-item\"><div class=\"sk-estimator sk-toggleable\"><input class=\"sk-toggleable__control sk-hidden--visually\" id=\"sk-estimator-id-17\" type=\"checkbox\" ><label for=\"sk-estimator-id-17\" class=\"sk-toggleable__label sk-toggleable__label-arrow\">OrdinalEncoder</label><div class=\"sk-toggleable__content\"><pre>OrdinalEncoder()</pre></div></div></div></div></div></div><div class=\"sk-parallel-item\"><div class=\"sk-item\"><div class=\"sk-label-container\"><div class=\"sk-label sk-toggleable\"><input class=\"sk-toggleable__control sk-hidden--visually\" id=\"sk-estimator-id-18\" type=\"checkbox\" ><label for=\"sk-estimator-id-18\" class=\"sk-toggleable__label sk-toggleable__label-arrow\">remainder</label><div class=\"sk-toggleable__content\"><pre></pre></div></div></div><div class=\"sk-serial\"><div class=\"sk-item\"><div class=\"sk-estimator sk-toggleable\"><input class=\"sk-toggleable__control sk-hidden--visually\" id=\"sk-estimator-id-19\" type=\"checkbox\" ><label for=\"sk-estimator-id-19\" class=\"sk-toggleable__label sk-toggleable__label-arrow\">passthrough</label><div class=\"sk-toggleable__content\"><pre>passthrough</pre></div></div></div></div></div></div></div></div><div class=\"sk-item\"><div class=\"sk-estimator sk-toggleable\"><input class=\"sk-toggleable__control sk-hidden--visually\" id=\"sk-estimator-id-20\" type=\"checkbox\" ><label for=\"sk-estimator-id-20\" class=\"sk-toggleable__label sk-toggleable__label-arrow\">IterativeImputer</label><div class=\"sk-toggleable__content\"><pre>IterativeImputer()</pre></div></div></div><div class=\"sk-item\"><div class=\"sk-estimator sk-toggleable\"><input class=\"sk-toggleable__control sk-hidden--visually\" id=\"sk-estimator-id-21\" type=\"checkbox\" ><label for=\"sk-estimator-id-21\" class=\"sk-toggleable__label sk-toggleable__label-arrow\">SMOTETomek</label><div class=\"sk-toggleable__content\"><pre>SMOTETomek(random_state=12345)</pre></div></div></div><div class=\"sk-item\"><div class=\"sk-estimator sk-toggleable\"><input class=\"sk-toggleable__control sk-hidden--visually\" id=\"sk-estimator-id-22\" type=\"checkbox\" ><label for=\"sk-estimator-id-22\" class=\"sk-toggleable__label sk-toggleable__label-arrow\">RandomForestClassifier</label><div class=\"sk-toggleable__content\"><pre>RandomForestClassifier(random_state=12345)</pre></div></div></div></div></div></div></div>"
      ],
      "text/plain": [
       "Pipeline(steps=[('columntransformer',\n",
       "                 ColumnTransformer(remainder='passthrough',\n",
       "                                   transformers=[('pipeline',\n",
       "                                                  Pipeline(steps=[('standardscaler',\n",
       "                                                                   StandardScaler()),\n",
       "                                                                  ('dropcorrelatedfeatures',\n",
       "                                                                   DropCorrelatedFeatures(threshold=0.9)),\n",
       "                                                                  ('dropconstantfeatures',\n",
       "                                                                   DropConstantFeatures())]),\n",
       "                                                  ['danceability',\n",
       "                                                   'duration_ms', 'liveness',\n",
       "                                                   'energy', 'speechiness',\n",
       "                                                   'tempo', 'valence']),\n",
       "                                                 ('ordinalencoder',\n",
       "                                                  OrdinalEncoder(),\n",
       "                                                  ['key'])])),\n",
       "                ('iterativeimputer', IterativeImputer()),\n",
       "                ('smotetomek', SMOTETomek(random_state=12345)),\n",
       "                ('randomforestclassifier',\n",
       "                 RandomForestClassifier(random_state=12345))])"
      ]
     },
     "execution_count": 95,
     "metadata": {},
     "output_type": "execute_result"
    }
   ],
   "source": [
    "pipeline = make_imblearn_pipeline(column_transformer,                     \n",
    "                         IterativeImputer(),SMOTETomek(random_state=RANDOM_STATE),\n",
    "                         RandomForestClassifier(random_state=RANDOM_STATE)) \n",
    "\n",
    "pipeline"
   ]
  },
  {
   "cell_type": "code",
   "execution_count": 96,
   "id": "43812c2a",
   "metadata": {},
   "outputs": [
    {
     "data": {
      "text/html": [
       "<style>#sk-container-id-3 {color: black;}#sk-container-id-3 pre{padding: 0;}#sk-container-id-3 div.sk-toggleable {background-color: white;}#sk-container-id-3 label.sk-toggleable__label {cursor: pointer;display: block;width: 100%;margin-bottom: 0;padding: 0.3em;box-sizing: border-box;text-align: center;}#sk-container-id-3 label.sk-toggleable__label-arrow:before {content: \"▸\";float: left;margin-right: 0.25em;color: #696969;}#sk-container-id-3 label.sk-toggleable__label-arrow:hover:before {color: black;}#sk-container-id-3 div.sk-estimator:hover label.sk-toggleable__label-arrow:before {color: black;}#sk-container-id-3 div.sk-toggleable__content {max-height: 0;max-width: 0;overflow: hidden;text-align: left;background-color: #f0f8ff;}#sk-container-id-3 div.sk-toggleable__content pre {margin: 0.2em;color: black;border-radius: 0.25em;background-color: #f0f8ff;}#sk-container-id-3 input.sk-toggleable__control:checked~div.sk-toggleable__content {max-height: 200px;max-width: 100%;overflow: auto;}#sk-container-id-3 input.sk-toggleable__control:checked~label.sk-toggleable__label-arrow:before {content: \"▾\";}#sk-container-id-3 div.sk-estimator input.sk-toggleable__control:checked~label.sk-toggleable__label {background-color: #d4ebff;}#sk-container-id-3 div.sk-label input.sk-toggleable__control:checked~label.sk-toggleable__label {background-color: #d4ebff;}#sk-container-id-3 input.sk-hidden--visually {border: 0;clip: rect(1px 1px 1px 1px);clip: rect(1px, 1px, 1px, 1px);height: 1px;margin: -1px;overflow: hidden;padding: 0;position: absolute;width: 1px;}#sk-container-id-3 div.sk-estimator {font-family: monospace;background-color: #f0f8ff;border: 1px dotted black;border-radius: 0.25em;box-sizing: border-box;margin-bottom: 0.5em;}#sk-container-id-3 div.sk-estimator:hover {background-color: #d4ebff;}#sk-container-id-3 div.sk-parallel-item::after {content: \"\";width: 100%;border-bottom: 1px solid gray;flex-grow: 1;}#sk-container-id-3 div.sk-label:hover label.sk-toggleable__label {background-color: #d4ebff;}#sk-container-id-3 div.sk-serial::before {content: \"\";position: absolute;border-left: 1px solid gray;box-sizing: border-box;top: 0;bottom: 0;left: 50%;z-index: 0;}#sk-container-id-3 div.sk-serial {display: flex;flex-direction: column;align-items: center;background-color: white;padding-right: 0.2em;padding-left: 0.2em;position: relative;}#sk-container-id-3 div.sk-item {position: relative;z-index: 1;}#sk-container-id-3 div.sk-parallel {display: flex;align-items: stretch;justify-content: center;background-color: white;position: relative;}#sk-container-id-3 div.sk-item::before, #sk-container-id-3 div.sk-parallel-item::before {content: \"\";position: absolute;border-left: 1px solid gray;box-sizing: border-box;top: 0;bottom: 0;left: 50%;z-index: -1;}#sk-container-id-3 div.sk-parallel-item {display: flex;flex-direction: column;z-index: 1;position: relative;background-color: white;}#sk-container-id-3 div.sk-parallel-item:first-child::after {align-self: flex-end;width: 50%;}#sk-container-id-3 div.sk-parallel-item:last-child::after {align-self: flex-start;width: 50%;}#sk-container-id-3 div.sk-parallel-item:only-child::after {width: 0;}#sk-container-id-3 div.sk-dashed-wrapped {border: 1px dashed gray;margin: 0 0.4em 0.5em 0.4em;box-sizing: border-box;padding-bottom: 0.4em;background-color: white;}#sk-container-id-3 div.sk-label label {font-family: monospace;font-weight: bold;display: inline-block;line-height: 1.2em;}#sk-container-id-3 div.sk-label-container {text-align: center;}#sk-container-id-3 div.sk-container {/* jupyter's `normalize.less` sets `[hidden] { display: none; }` but bootstrap.min.css set `[hidden] { display: none !important; }` so we also need the `!important` here to be able to override the default hidden behavior on the sphinx rendered scikit-learn.org. See: https://github.com/scikit-learn/scikit-learn/issues/21755 */display: inline-block !important;position: relative;}#sk-container-id-3 div.sk-text-repr-fallback {display: none;}</style><div id=\"sk-container-id-3\" class=\"sk-top-container\"><div class=\"sk-text-repr-fallback\"><pre>Pipeline(steps=[(&#x27;columntransformer&#x27;,\n",
       "                 ColumnTransformer(remainder=&#x27;passthrough&#x27;,\n",
       "                                   transformers=[(&#x27;pipeline&#x27;,\n",
       "                                                  Pipeline(steps=[(&#x27;standardscaler&#x27;,\n",
       "                                                                   StandardScaler()),\n",
       "                                                                  (&#x27;dropcorrelatedfeatures&#x27;,\n",
       "                                                                   DropCorrelatedFeatures(threshold=0.9)),\n",
       "                                                                  (&#x27;dropconstantfeatures&#x27;,\n",
       "                                                                   DropConstantFeatures())]),\n",
       "                                                  [&#x27;danceability&#x27;,\n",
       "                                                   &#x27;duration_ms&#x27;, &#x27;liveness&#x27;,\n",
       "                                                   &#x27;energy&#x27;, &#x27;speechiness&#x27;,\n",
       "                                                   &#x27;tempo&#x27;, &#x27;valence&#x27;]),\n",
       "                                                 (&#x27;ordinalencoder&#x27;,\n",
       "                                                  OrdinalEncoder(),\n",
       "                                                  [&#x27;key&#x27;])])),\n",
       "                (&#x27;iterativeimputer&#x27;, IterativeImputer()),\n",
       "                (&#x27;smotetomek&#x27;, SMOTETomek(random_state=12345)),\n",
       "                (&#x27;randomforestclassifier&#x27;,\n",
       "                 RandomForestClassifier(random_state=12345))])</pre><b>In a Jupyter environment, please rerun this cell to show the HTML representation or trust the notebook. <br />On GitHub, the HTML representation is unable to render, please try loading this page with nbviewer.org.</b></div><div class=\"sk-container\" hidden><div class=\"sk-item sk-dashed-wrapped\"><div class=\"sk-label-container\"><div class=\"sk-label sk-toggleable\"><input class=\"sk-toggleable__control sk-hidden--visually\" id=\"sk-estimator-id-23\" type=\"checkbox\" ><label for=\"sk-estimator-id-23\" class=\"sk-toggleable__label sk-toggleable__label-arrow\">Pipeline</label><div class=\"sk-toggleable__content\"><pre>Pipeline(steps=[(&#x27;columntransformer&#x27;,\n",
       "                 ColumnTransformer(remainder=&#x27;passthrough&#x27;,\n",
       "                                   transformers=[(&#x27;pipeline&#x27;,\n",
       "                                                  Pipeline(steps=[(&#x27;standardscaler&#x27;,\n",
       "                                                                   StandardScaler()),\n",
       "                                                                  (&#x27;dropcorrelatedfeatures&#x27;,\n",
       "                                                                   DropCorrelatedFeatures(threshold=0.9)),\n",
       "                                                                  (&#x27;dropconstantfeatures&#x27;,\n",
       "                                                                   DropConstantFeatures())]),\n",
       "                                                  [&#x27;danceability&#x27;,\n",
       "                                                   &#x27;duration_ms&#x27;, &#x27;liveness&#x27;,\n",
       "                                                   &#x27;energy&#x27;, &#x27;speechiness&#x27;,\n",
       "                                                   &#x27;tempo&#x27;, &#x27;valence&#x27;]),\n",
       "                                                 (&#x27;ordinalencoder&#x27;,\n",
       "                                                  OrdinalEncoder(),\n",
       "                                                  [&#x27;key&#x27;])])),\n",
       "                (&#x27;iterativeimputer&#x27;, IterativeImputer()),\n",
       "                (&#x27;smotetomek&#x27;, SMOTETomek(random_state=12345)),\n",
       "                (&#x27;randomforestclassifier&#x27;,\n",
       "                 RandomForestClassifier(random_state=12345))])</pre></div></div></div><div class=\"sk-serial\"><div class=\"sk-item sk-dashed-wrapped\"><div class=\"sk-label-container\"><div class=\"sk-label sk-toggleable\"><input class=\"sk-toggleable__control sk-hidden--visually\" id=\"sk-estimator-id-24\" type=\"checkbox\" ><label for=\"sk-estimator-id-24\" class=\"sk-toggleable__label sk-toggleable__label-arrow\">columntransformer: ColumnTransformer</label><div class=\"sk-toggleable__content\"><pre>ColumnTransformer(remainder=&#x27;passthrough&#x27;,\n",
       "                  transformers=[(&#x27;pipeline&#x27;,\n",
       "                                 Pipeline(steps=[(&#x27;standardscaler&#x27;,\n",
       "                                                  StandardScaler()),\n",
       "                                                 (&#x27;dropcorrelatedfeatures&#x27;,\n",
       "                                                  DropCorrelatedFeatures(threshold=0.9)),\n",
       "                                                 (&#x27;dropconstantfeatures&#x27;,\n",
       "                                                  DropConstantFeatures())]),\n",
       "                                 [&#x27;danceability&#x27;, &#x27;duration_ms&#x27;, &#x27;liveness&#x27;,\n",
       "                                  &#x27;energy&#x27;, &#x27;speechiness&#x27;, &#x27;tempo&#x27;,\n",
       "                                  &#x27;valence&#x27;]),\n",
       "                                (&#x27;ordinalencoder&#x27;, OrdinalEncoder(), [&#x27;key&#x27;])])</pre></div></div></div><div class=\"sk-parallel\"><div class=\"sk-parallel-item\"><div class=\"sk-item\"><div class=\"sk-label-container\"><div class=\"sk-label sk-toggleable\"><input class=\"sk-toggleable__control sk-hidden--visually\" id=\"sk-estimator-id-25\" type=\"checkbox\" ><label for=\"sk-estimator-id-25\" class=\"sk-toggleable__label sk-toggleable__label-arrow\">pipeline</label><div class=\"sk-toggleable__content\"><pre>[&#x27;danceability&#x27;, &#x27;duration_ms&#x27;, &#x27;liveness&#x27;, &#x27;energy&#x27;, &#x27;speechiness&#x27;, &#x27;tempo&#x27;, &#x27;valence&#x27;]</pre></div></div></div><div class=\"sk-serial\"><div class=\"sk-item\"><div class=\"sk-serial\"><div class=\"sk-item\"><div class=\"sk-estimator sk-toggleable\"><input class=\"sk-toggleable__control sk-hidden--visually\" id=\"sk-estimator-id-26\" type=\"checkbox\" ><label for=\"sk-estimator-id-26\" class=\"sk-toggleable__label sk-toggleable__label-arrow\">StandardScaler</label><div class=\"sk-toggleable__content\"><pre>StandardScaler()</pre></div></div></div><div class=\"sk-item\"><div class=\"sk-estimator sk-toggleable\"><input class=\"sk-toggleable__control sk-hidden--visually\" id=\"sk-estimator-id-27\" type=\"checkbox\" ><label for=\"sk-estimator-id-27\" class=\"sk-toggleable__label sk-toggleable__label-arrow\">DropCorrelatedFeatures</label><div class=\"sk-toggleable__content\"><pre>DropCorrelatedFeatures(threshold=0.9)</pre></div></div></div><div class=\"sk-item\"><div class=\"sk-estimator sk-toggleable\"><input class=\"sk-toggleable__control sk-hidden--visually\" id=\"sk-estimator-id-28\" type=\"checkbox\" ><label for=\"sk-estimator-id-28\" class=\"sk-toggleable__label sk-toggleable__label-arrow\">DropConstantFeatures</label><div class=\"sk-toggleable__content\"><pre>DropConstantFeatures()</pre></div></div></div></div></div></div></div></div><div class=\"sk-parallel-item\"><div class=\"sk-item\"><div class=\"sk-label-container\"><div class=\"sk-label sk-toggleable\"><input class=\"sk-toggleable__control sk-hidden--visually\" id=\"sk-estimator-id-29\" type=\"checkbox\" ><label for=\"sk-estimator-id-29\" class=\"sk-toggleable__label sk-toggleable__label-arrow\">ordinalencoder</label><div class=\"sk-toggleable__content\"><pre>[&#x27;key&#x27;]</pre></div></div></div><div class=\"sk-serial\"><div class=\"sk-item\"><div class=\"sk-estimator sk-toggleable\"><input class=\"sk-toggleable__control sk-hidden--visually\" id=\"sk-estimator-id-30\" type=\"checkbox\" ><label for=\"sk-estimator-id-30\" class=\"sk-toggleable__label sk-toggleable__label-arrow\">OrdinalEncoder</label><div class=\"sk-toggleable__content\"><pre>OrdinalEncoder()</pre></div></div></div></div></div></div><div class=\"sk-parallel-item\"><div class=\"sk-item\"><div class=\"sk-label-container\"><div class=\"sk-label sk-toggleable\"><input class=\"sk-toggleable__control sk-hidden--visually\" id=\"sk-estimator-id-31\" type=\"checkbox\" ><label for=\"sk-estimator-id-31\" class=\"sk-toggleable__label sk-toggleable__label-arrow\">remainder</label><div class=\"sk-toggleable__content\"><pre>[&#x27;mode&#x27;]</pre></div></div></div><div class=\"sk-serial\"><div class=\"sk-item\"><div class=\"sk-estimator sk-toggleable\"><input class=\"sk-toggleable__control sk-hidden--visually\" id=\"sk-estimator-id-32\" type=\"checkbox\" ><label for=\"sk-estimator-id-32\" class=\"sk-toggleable__label sk-toggleable__label-arrow\">passthrough</label><div class=\"sk-toggleable__content\"><pre>passthrough</pre></div></div></div></div></div></div></div></div><div class=\"sk-item\"><div class=\"sk-estimator sk-toggleable\"><input class=\"sk-toggleable__control sk-hidden--visually\" id=\"sk-estimator-id-33\" type=\"checkbox\" ><label for=\"sk-estimator-id-33\" class=\"sk-toggleable__label sk-toggleable__label-arrow\">IterativeImputer</label><div class=\"sk-toggleable__content\"><pre>IterativeImputer()</pre></div></div></div><div class=\"sk-item\"><div class=\"sk-estimator sk-toggleable\"><input class=\"sk-toggleable__control sk-hidden--visually\" id=\"sk-estimator-id-34\" type=\"checkbox\" ><label for=\"sk-estimator-id-34\" class=\"sk-toggleable__label sk-toggleable__label-arrow\">SMOTETomek</label><div class=\"sk-toggleable__content\"><pre>SMOTETomek(random_state=12345)</pre></div></div></div><div class=\"sk-item\"><div class=\"sk-estimator sk-toggleable\"><input class=\"sk-toggleable__control sk-hidden--visually\" id=\"sk-estimator-id-35\" type=\"checkbox\" ><label for=\"sk-estimator-id-35\" class=\"sk-toggleable__label sk-toggleable__label-arrow\">RandomForestClassifier</label><div class=\"sk-toggleable__content\"><pre>RandomForestClassifier(random_state=12345)</pre></div></div></div></div></div></div></div>"
      ],
      "text/plain": [
       "Pipeline(steps=[('columntransformer',\n",
       "                 ColumnTransformer(remainder='passthrough',\n",
       "                                   transformers=[('pipeline',\n",
       "                                                  Pipeline(steps=[('standardscaler',\n",
       "                                                                   StandardScaler()),\n",
       "                                                                  ('dropcorrelatedfeatures',\n",
       "                                                                   DropCorrelatedFeatures(threshold=0.9)),\n",
       "                                                                  ('dropconstantfeatures',\n",
       "                                                                   DropConstantFeatures())]),\n",
       "                                                  ['danceability',\n",
       "                                                   'duration_ms', 'liveness',\n",
       "                                                   'energy', 'speechiness',\n",
       "                                                   'tempo', 'valence']),\n",
       "                                                 ('ordinalencoder',\n",
       "                                                  OrdinalEncoder(),\n",
       "                                                  ['key'])])),\n",
       "                ('iterativeimputer', IterativeImputer()),\n",
       "                ('smotetomek', SMOTETomek(random_state=12345)),\n",
       "                ('randomforestclassifier',\n",
       "                 RandomForestClassifier(random_state=12345))])"
      ]
     },
     "execution_count": 96,
     "metadata": {},
     "output_type": "execute_result"
    }
   ],
   "source": [
    "pipeline.fit(X_train,y_train)"
   ]
  },
  {
   "cell_type": "code",
   "execution_count": 97,
   "id": "ebb3fc05",
   "metadata": {},
   "outputs": [
    {
     "data": {
      "text/plain": [
       "0.3550387596899225"
      ]
     },
     "execution_count": 97,
     "metadata": {},
     "output_type": "execute_result"
    }
   ],
   "source": [
    "pipeline.predict(X_valid)\n",
    "\n",
    "pipeline.score(X_valid, y_valid)"
   ]
  },
  {
   "cell_type": "markdown",
   "id": "bfb6ba38",
   "metadata": {},
   "source": [
    "# Подбор параметров моделей"
   ]
  },
  {
   "cell_type": "code",
   "execution_count": 98,
   "id": "878ac013",
   "metadata": {},
   "outputs": [
    {
     "name": "stderr",
     "output_type": "stream",
     "text": [
      "[I 2023-11-19 12:38:49,549] A new study created in memory with name: no-name-5952368b-4996-4b96-ba08-37c20357d30d\n",
      "[I 2023-11-19 12:38:53,588] Trial 0 finished with value: 0.3302639186621314 and parameters: {'n_estimators': 90}. Best is trial 0 with value: 0.3302639186621314.\n",
      "[I 2023-11-19 12:38:57,488] Trial 1 finished with value: 0.3302639186621314 and parameters: {'n_estimators': 90}. Best is trial 0 with value: 0.3302639186621314.\n",
      "[I 2023-11-19 12:39:00,711] Trial 2 finished with value: 0.32997333369399345 and parameters: {'n_estimators': 70}. Best is trial 0 with value: 0.3302639186621314.\n",
      "[I 2023-11-19 12:39:03,584] Trial 3 finished with value: 0.3291007898456149 and parameters: {'n_estimators': 60}. Best is trial 0 with value: 0.3302639186621314.\n",
      "[I 2023-11-19 12:39:06,127] Trial 4 finished with value: 0.32580559631766043 and parameters: {'n_estimators': 50}. Best is trial 0 with value: 0.3302639186621314.\n",
      "[I 2023-11-19 12:39:09,243] Trial 5 finished with value: 0.32997333369399345 and parameters: {'n_estimators': 70}. Best is trial 0 with value: 0.3302639186621314.\n",
      "[I 2023-11-19 12:39:12,557] Trial 6 finished with value: 0.329294531942087 and parameters: {'n_estimators': 80}. Best is trial 0 with value: 0.3302639186621314.\n",
      "[I 2023-11-19 12:39:15,166] Trial 7 finished with value: 0.3291007898456149 and parameters: {'n_estimators': 60}. Best is trial 0 with value: 0.3302639186621314.\n",
      "[I 2023-11-19 12:39:18,905] Trial 8 finished with value: 0.3302639186621314 and parameters: {'n_estimators': 90}. Best is trial 0 with value: 0.3302639186621314.\n",
      "[I 2023-11-19 12:39:21,545] Trial 9 finished with value: 0.3291007898456149 and parameters: {'n_estimators': 60}. Best is trial 0 with value: 0.3302639186621314.\n",
      "[I 2023-11-19 12:39:25,704] Trial 10 finished with value: 0.33258975364661175 and parameters: {'n_estimators': 100}. Best is trial 10 with value: 0.33258975364661175.\n",
      "[I 2023-11-19 12:39:29,865] Trial 11 finished with value: 0.33258975364661175 and parameters: {'n_estimators': 100}. Best is trial 10 with value: 0.33258975364661175.\n",
      "[I 2023-11-19 12:39:34,521] Trial 12 finished with value: 0.33258975364661175 and parameters: {'n_estimators': 100}. Best is trial 10 with value: 0.33258975364661175.\n",
      "[I 2023-11-19 12:39:39,227] Trial 13 finished with value: 0.33258975364661175 and parameters: {'n_estimators': 100}. Best is trial 10 with value: 0.33258975364661175.\n",
      "[I 2023-11-19 12:39:43,608] Trial 14 finished with value: 0.33258975364661175 and parameters: {'n_estimators': 100}. Best is trial 10 with value: 0.33258975364661175.\n"
     ]
    }
   ],
   "source": [
    "def objective_random_forest(trial):\n",
    "    n_estimators = trial.suggest_int(\"n_estimators\", 50, 100, 10)\n",
    "     \n",
    "        # Определяю модель машинного обучения, которой передаются гиперпараметры\n",
    "    model = RandomForestClassifier(n_estimators=n_estimators,\n",
    "                                                 random_state=RANDOM_STATE)\n",
    "    # пайплайн предобработка количественных переменных\n",
    "    numerical_transformer =  StandardScaler()\n",
    "    # пайплайн  предобработка категориальных переменных\n",
    "    categorical_transformer = Pipeline(steps=[\n",
    "        ('ordinal', OrdinalEncoder())])\n",
    "    # собираем общий пайплайн с помощью ColumnTransformer для качественных и количественных данных\n",
    "    preprocessor = ColumnTransformer(\n",
    "        transformers=[\n",
    "            ('num', numerical_transformer, numerical_cols),\n",
    "            ('cat', categorical_transformer, categorical_cols)\n",
    "        ])\n",
    "      \n",
    "    sampler=SMOTETomek(random_state=RANDOM_STATE)\n",
    "    clf = make_pipeline(preprocessor, sampler,model)\n",
    "    \n",
    "\n",
    "    \n",
    "    score = cross_val_score(clf,\n",
    "                          X_train, y_train, cv=3, scoring=\"accuracy\", n_jobs=-1).mean()\n",
    "    return score\n",
    "\n",
    "study = optuna.create_study(direction=\"maximize\")\n",
    "study.optimize(objective_random_forest, n_trials=15)"
   ]
  },
  {
   "cell_type": "code",
   "execution_count": 99,
   "id": "681540cc",
   "metadata": {},
   "outputs": [],
   "source": [
    "best_results = {}"
   ]
  },
  {
   "cell_type": "code",
   "execution_count": 100,
   "id": "4d3bd454",
   "metadata": {},
   "outputs": [],
   "source": [
    "best_results = {}\n",
    "best_results[\"random_forest\"] = {\n",
    "    \"params\": study.best_trial.params,\n",
    "    \"score\": study.best_trial.value\n",
    "}"
   ]
  },
  {
   "cell_type": "code",
   "execution_count": 101,
   "id": "ded7fa1a",
   "metadata": {},
   "outputs": [
    {
     "name": "stderr",
     "output_type": "stream",
     "text": [
      "[I 2023-11-19 12:39:43,659] A new study created in memory with name: no-name-42987b97-72fa-47f4-80b1-f3547b9530aa\n",
      "[I 2023-11-19 12:39:44,940] Trial 0 finished with value: 0.3238674145855452 and parameters: {'n_estimators': 70}. Best is trial 0 with value: 0.3238674145855452.\n",
      "[I 2023-11-19 12:39:46,508] Trial 1 finished with value: 0.32619341862944656 and parameters: {'n_estimators': 90}. Best is trial 1 with value: 0.32619341862944656.\n",
      "[I 2023-11-19 12:39:47,929] Trial 2 finished with value: 0.3262902896776826 and parameters: {'n_estimators': 80}. Best is trial 2 with value: 0.3262902896776826.\n",
      "[I 2023-11-19 12:39:49,049] Trial 3 finished with value: 0.32221973329185744 and parameters: {'n_estimators': 60}. Best is trial 2 with value: 0.3262902896776826.\n",
      "[I 2023-11-19 12:39:50,757] Trial 4 finished with value: 0.3277439189326265 and parameters: {'n_estimators': 100}. Best is trial 4 with value: 0.3277439189326265.\n",
      "[I 2023-11-19 12:39:52,512] Trial 5 finished with value: 0.3277439189326265 and parameters: {'n_estimators': 100}. Best is trial 4 with value: 0.3277439189326265.\n",
      "[I 2023-11-19 12:39:53,473] Trial 6 finished with value: 0.3181498813202865 and parameters: {'n_estimators': 50}. Best is trial 4 with value: 0.3277439189326265.\n",
      "[I 2023-11-19 12:39:54,473] Trial 7 finished with value: 0.3181498813202865 and parameters: {'n_estimators': 50}. Best is trial 4 with value: 0.3277439189326265.\n",
      "[I 2023-11-19 12:39:55,926] Trial 8 finished with value: 0.3262902896776826 and parameters: {'n_estimators': 80}. Best is trial 4 with value: 0.3277439189326265.\n",
      "[I 2023-11-19 12:39:56,984] Trial 9 finished with value: 0.3181498813202865 and parameters: {'n_estimators': 50}. Best is trial 4 with value: 0.3277439189326265.\n",
      "[I 2023-11-19 12:39:58,753] Trial 10 finished with value: 0.3277439189326265 and parameters: {'n_estimators': 100}. Best is trial 4 with value: 0.3277439189326265.\n",
      "[I 2023-11-19 12:40:00,447] Trial 11 finished with value: 0.3277439189326265 and parameters: {'n_estimators': 100}. Best is trial 4 with value: 0.3277439189326265.\n",
      "[I 2023-11-19 12:40:01,990] Trial 12 finished with value: 0.32619341862944656 and parameters: {'n_estimators': 90}. Best is trial 4 with value: 0.3277439189326265.\n",
      "[I 2023-11-19 12:40:03,696] Trial 13 finished with value: 0.3277439189326265 and parameters: {'n_estimators': 100}. Best is trial 4 with value: 0.3277439189326265.\n",
      "[I 2023-11-19 12:40:05,245] Trial 14 finished with value: 0.32619341862944656 and parameters: {'n_estimators': 90}. Best is trial 4 with value: 0.3277439189326265.\n"
     ]
    }
   ],
   "source": [
    "def objective_extra_trees(trial):\n",
    "    n_estimators = trial.suggest_int(\"n_estimators\", 50, 100, 10)\n",
    "     \n",
    "        # Определяю модель машинного обучения, которой передаются гиперпараметры\n",
    "    model = ExtraTreesClassifier(n_estimators=n_estimators,\n",
    "                                                 random_state=RANDOM_STATE)\n",
    "    # пайплайн предобработка количественных переменных\n",
    "    numerical_transformer =  StandardScaler()\n",
    "    # пайплайн  предобработка категориальных переменных\n",
    "    categorical_transformer = Pipeline(steps=[\n",
    "        ('ordinal', OrdinalEncoder())])\n",
    "    # собираем общий пайплайн с помощью ColumnTransformer для качественных и количественных данных\n",
    "    preprocessor = ColumnTransformer(\n",
    "        transformers=[\n",
    "            ('num', numerical_transformer, numerical_cols),\n",
    "            ('cat', categorical_transformer, categorical_cols)\n",
    "        ])\n",
    "      \n",
    "    sampler=SMOTETomek(random_state=RANDOM_STATE)\n",
    "    clf = make_pipeline(preprocessor, sampler,model)\n",
    "    \n",
    "\n",
    "    \n",
    "    score = cross_val_score(clf,\n",
    "                          X_train, y_train, cv=3, scoring=\"accuracy\", n_jobs=-1).mean()\n",
    "    return score\n",
    "\n",
    "study = optuna.create_study(direction=\"maximize\")\n",
    "study.optimize(objective_extra_trees, n_trials=15)"
   ]
  },
  {
   "cell_type": "code",
   "execution_count": 102,
   "id": "42c53a43",
   "metadata": {},
   "outputs": [],
   "source": [
    "\n",
    "best_results[\"extra_trees\"] = {\n",
    "    \"params\": study.best_trial.params,\n",
    "    \"score\": study.best_trial.value\n",
    "}"
   ]
  },
  {
   "cell_type": "markdown",
   "id": "9f044283",
   "metadata": {},
   "source": [
    "# Лучшие параметры для моделей ET и RF "
   ]
  },
  {
   "cell_type": "code",
   "execution_count": 103,
   "id": "e4233700",
   "metadata": {},
   "outputs": [
    {
     "data": {
      "text/plain": [
       "{'random_forest': {'params': {'n_estimators': 100},\n",
       "  'score': 0.33258975364661175},\n",
       " 'extra_trees': {'params': {'n_estimators': 100}, 'score': 0.3277439189326265}}"
      ]
     },
     "execution_count": 103,
     "metadata": {},
     "output_type": "execute_result"
    }
   ],
   "source": [
    "best_results"
   ]
  },
  {
   "cell_type": "code",
   "execution_count": 104,
   "id": "a8ec1375",
   "metadata": {},
   "outputs": [
    {
     "name": "stdout",
     "output_type": "stream",
     "text": [
      "Результат f1 на тесте для BestModel_rfc \n"
     ]
    },
    {
     "data": {
      "text/plain": [
       "0.3325486813743363"
      ]
     },
     "execution_count": 104,
     "metadata": {},
     "output_type": "execute_result"
    }
   ],
   "source": [
    "BestModel_rfc = RandomForestClassifier(n_estimators=100, random_state=RANDOM_STATE)\n",
    "# пайплайн предобработка количественных переменных\n",
    "numerical_transformer =  StandardScaler()\n",
    "# пайплайн  предобработка категориальных переменных\n",
    "categorical_transformer = Pipeline(steps=[('ordinal', OrdinalEncoder())\n",
    "                                         ])\n",
    "# собираем общий пайплайн с помощью ColumnTransformer для качественных и количественных данных\n",
    "preprocessor = ColumnTransformer(transformers=[('num', numerical_transformer, numerical_cols),\n",
    "            ('cat', categorical_transformer, categorical_cols)\n",
    "        ])\n",
    "sampler=SMOTETomek(random_state=RANDOM_STATE)\n",
    "clf = make_pipeline(preprocessor, sampler,BestModel_rfc)\n",
    "\n",
    "\n",
    "clf.fit(X_train, y_train)\n",
    "\n",
    "predicted_rfc = clf.predict(X_valid)\n",
    "print('Результат f1 на тесте для BestModel_rfc ')\n",
    "f1_score(y_valid, predicted_rfc,average='weighted')"
   ]
  },
  {
   "cell_type": "code",
   "execution_count": 105,
   "id": "eee83e3e",
   "metadata": {},
   "outputs": [
    {
     "name": "stdout",
     "output_type": "stream",
     "text": [
      "Результат f1 на тесте для BestModel_et \n"
     ]
    },
    {
     "data": {
      "text/plain": [
       "0.32718968509618745"
      ]
     },
     "execution_count": 105,
     "metadata": {},
     "output_type": "execute_result"
    }
   ],
   "source": [
    "BestModel_et = ExtraTreesClassifier(n_estimators=100, random_state=RANDOM_STATE)\n",
    "# пайплайн предобработка количественных переменных\n",
    "numerical_transformer =  StandardScaler()\n",
    "# пайплайн  предобработка категориальных переменных\n",
    "categorical_transformer = Pipeline(steps=[('ordinal', OrdinalEncoder())\n",
    "                                         ])\n",
    "# собираем общий пайплайн с помощью ColumnTransformer для качественных и количественных данных\n",
    "preprocessor = ColumnTransformer(transformers=[('num', numerical_transformer, numerical_cols),\n",
    "            ('cat', categorical_transformer, categorical_cols)\n",
    "        ])\n",
    "sampler=SMOTETomek(random_state=RANDOM_STATE)\n",
    "clf = make_pipeline(preprocessor, sampler,BestModel_et)\n",
    "\n",
    "\n",
    "clf.fit(X_train, y_train)\n",
    "\n",
    "predicted_et = clf.predict(X_valid)\n",
    "print('Результат f1 на тесте для BestModel_et ')\n",
    "f1_score(y_valid, predicted_et,average='weighted')"
   ]
  },
  {
   "cell_type": "markdown",
   "id": "e595c846",
   "metadata": {},
   "source": [
    "Оставляем модель random_forest"
   ]
  },
  {
   "cell_type": "markdown",
   "id": "7171b900",
   "metadata": {},
   "source": [
    "# Проверка лучшей модели на Тестовом датасете"
   ]
  },
  {
   "cell_type": "markdown",
   "id": "ec718e43",
   "metadata": {},
   "source": [
    "Теперь возьмем полный трейн- сет (X) и y"
   ]
  },
  {
   "cell_type": "code",
   "execution_count": 106,
   "id": "833b04d3",
   "metadata": {},
   "outputs": [],
   "source": [
    "test=test_merg.copy()\n",
    "test=test_merg.drop('music_genre',axis=1)"
   ]
  },
  {
   "cell_type": "code",
   "execution_count": 107,
   "id": "d187ad48",
   "metadata": {},
   "outputs": [
    {
     "data": {
      "text/plain": [
       "(3186, 11)"
      ]
     },
     "execution_count": 107,
     "metadata": {},
     "output_type": "execute_result"
    }
   ],
   "source": [
    "test_merg.shape"
   ]
  },
  {
   "cell_type": "code",
   "execution_count": 108,
   "id": "81f07daf",
   "metadata": {},
   "outputs": [],
   "source": [
    "X_test=test.drop('instance_id',axis=1)"
   ]
  },
  {
   "cell_type": "code",
   "execution_count": 109,
   "id": "3b549bf1",
   "metadata": {},
   "outputs": [],
   "source": [
    "BestModel_rfc = RandomForestClassifier(n_estimators=100, random_state=RANDOM_STATE)\n",
    "# пайплайн предобработка количественных переменных\n",
    "numerical_transformer =  StandardScaler()\n",
    "# пайплайн  предобработка категориальных переменных\n",
    "categorical_transformer = Pipeline(steps=[('ordinal', OrdinalEncoder())\n",
    "                                         ])\n",
    "# собираем общий пайплайн с помощью ColumnTransformer для качественных и количественных данных\n",
    "preprocessor = ColumnTransformer(transformers=[('num', numerical_transformer, numerical_cols),\n",
    "            ('cat', categorical_transformer, categorical_cols)\n",
    "        ])\n",
    "sampler=SMOTETomek(random_state=RANDOM_STATE)\n",
    "clf = make_pipeline(preprocessor, sampler,BestModel_rfc)\n",
    "\n",
    "\n",
    "clf.fit(X, y)\n",
    "\n",
    "\n",
    "predicted_rfc = clf.predict(X_test)\n"
   ]
  },
  {
   "cell_type": "code",
   "execution_count": 110,
   "id": "502a3a0f",
   "metadata": {},
   "outputs": [],
   "source": [
    "test[\"music_genre\"] = pd.DataFrame(predicted_rfc, columns=[\"music_genre\"])"
   ]
  },
  {
   "cell_type": "code",
   "execution_count": 111,
   "id": "cdaf6a7a",
   "metadata": {},
   "outputs": [],
   "source": [
    "test=test[['instance_id','music_genre']]"
   ]
  },
  {
   "cell_type": "code",
   "execution_count": 112,
   "id": "0fe5cd57",
   "metadata": {},
   "outputs": [
    {
     "data": {
      "image/png": "[encoded data removed]",
      "text/plain": [
       "<Figure size 432x288 with 1 Axes>"
      ]
     },
     "metadata": {
      "needs_background": "light"
     },
     "output_type": "display_data"
    }
   ],
   "source": [
    "clf = RandomForestClassifier(n_estimators=100, random_state=RANDOM_STATE)\n",
    "\n",
    "clf.fit(label_X_train, y_train)\n",
    "\n",
    "\n",
    "#Выводим гистограмму с распределением важности признаков для модели\n",
    "feature_importance = clf.feature_importances_\n",
    "feature_importance = 100.0 * (feature_importance / feature_importance.max())\n",
    "sorted_idx = np.argsort(feature_importance)\n",
    "pos = np.arange(sorted_idx.shape[0]) + .5\n",
    "plt.subplot(1, 2, 2)\n",
    "plt.barh(pos, feature_importance[sorted_idx], align='center')\n",
    "plt.yticks(pos, label_X_train.columns[sorted_idx]) \n",
    "plt.xlabel('Relative Importance')\n",
    "plt.title('Variable Importance')\n",
    "plt.show()"
   ]
  },
  {
   "cell_type": "code",
   "execution_count": 120,
   "id": "81e4aeda",
   "metadata": {},
   "outputs": [],
   "source": [
    "test_orig=pd.read_csv(r\"C:\\Users\\Admin\\Desktop\\music-genre-prediction\\kaggle_music_genre_test.csv\")"
   ]
  },
  {
   "cell_type": "code",
   "execution_count": 121,
   "id": "2ac9aa73",
   "metadata": {},
   "outputs": [],
   "source": [
    "\n",
    "test_orig=test_orig.merge(test,how='left', on='instance_id')"
   ]
  },
  {
   "cell_type": "code",
   "execution_count": 122,
   "id": "9b7301db",
   "metadata": {},
   "outputs": [],
   "source": [
    "test_orig=test_orig[['instance_id','music_genre']]"
   ]
  },
  {
   "cell_type": "code",
   "execution_count": 127,
   "id": "85301502",
   "metadata": {},
   "outputs": [],
   "source": [
    "test_orig=test_orig.fillna('Other')"
   ]
  },
  {
   "cell_type": "code",
   "execution_count": null,
   "id": "c92f9cc6",
   "metadata": {},
   "outputs": [],
   "source": []
  },
  {
   "cell_type": "markdown",
   "id": "cc4419ea",
   "metadata": {},
   "source": [
    "# Сохранение предсказания в формате csv"
   ]
  },
  {
   "cell_type": "code",
   "execution_count": 128,
   "id": "6be759fe",
   "metadata": {},
   "outputs": [],
   "source": [
    "test_orig.to_csv(r\"C:\\Users\\Admin\\Documents\\GitHub\\masterskaya\\music_genre_prediction.csv\",index=False)"
   ]
  },
  {
   "cell_type": "markdown",
   "id": "21af71a7",
   "metadata": {},
   "source": [
    "# Итоговый вывод \n"
   ]
  },
  {
   "attachments": {
    "image-2.png": {
     "image/png": "[encoded data removed]"
    }
   },
   "cell_type": "markdown",
   "id": "81f68027",
   "metadata": {},
   "source": [
    "Произвели предобработку данных, сформировали задачу. Также описали важность признаков модели\n",
    "![image-2.png](attachment:image-2.png)\n",
    "\n",
    "По итогам работы, была обнаружена наилучшая модель:\n",
    "\n",
    "{'random_forest': {'params': {'n_estimators': 100},\n",
    "  'score': 0.33258975364661175},\n",
    " \n",
    "Результат моделирования неудовлетворителен, требуется расширить датасет и добавить новые данные для улучшения качества обучения модели.\n"
   ]
  },
  {
   "cell_type": "code",
   "execution_count": 115,
   "id": "519f5af6",
   "metadata": {},
   "outputs": [
    {
     "data": {
      "text/html": [
       "<div>\n",
       "<style scoped>\n",
       "    .dataframe tbody tr th:only-of-type {\n",
       "        vertical-align: middle;\n",
       "    }\n",
       "\n",
       "    .dataframe tbody tr th {\n",
       "        vertical-align: top;\n",
       "    }\n",
       "\n",
       "    .dataframe thead th {\n",
       "        text-align: right;\n",
       "    }\n",
       "</style>\n",
       "<table border=\"1\" class=\"dataframe\">\n",
       "  <thead>\n",
       "    <tr style=\"text-align: right;\">\n",
       "      <th></th>\n",
       "      <th>instance_id</th>\n",
       "      <th>music_genre</th>\n",
       "    </tr>\n",
       "  </thead>\n",
       "  <tbody>\n",
       "    <tr>\n",
       "      <th>1</th>\n",
       "      <td>72394</td>\n",
       "      <td>Rap</td>\n",
       "    </tr>\n",
       "    <tr>\n",
       "      <th>3</th>\n",
       "      <td>78331</td>\n",
       "      <td>Rock</td>\n",
       "    </tr>\n",
       "    <tr>\n",
       "      <th>5</th>\n",
       "      <td>74228</td>\n",
       "      <td>Blues</td>\n",
       "    </tr>\n",
       "    <tr>\n",
       "      <th>7</th>\n",
       "      <td>78829</td>\n",
       "      <td>Classical</td>\n",
       "    </tr>\n",
       "    <tr>\n",
       "      <th>8</th>\n",
       "      <td>91469</td>\n",
       "      <td>Electronic</td>\n",
       "    </tr>\n",
       "    <tr>\n",
       "      <th>...</th>\n",
       "      <td>...</td>\n",
       "      <td>...</td>\n",
       "    </tr>\n",
       "    <tr>\n",
       "      <th>5093</th>\n",
       "      <td>34697</td>\n",
       "      <td>NaN</td>\n",
       "    </tr>\n",
       "    <tr>\n",
       "      <th>5094</th>\n",
       "      <td>50532</td>\n",
       "      <td>NaN</td>\n",
       "    </tr>\n",
       "    <tr>\n",
       "      <th>5095</th>\n",
       "      <td>26255</td>\n",
       "      <td>NaN</td>\n",
       "    </tr>\n",
       "    <tr>\n",
       "      <th>5097</th>\n",
       "      <td>79778</td>\n",
       "      <td>NaN</td>\n",
       "    </tr>\n",
       "    <tr>\n",
       "      <th>5098</th>\n",
       "      <td>47986</td>\n",
       "      <td>NaN</td>\n",
       "    </tr>\n",
       "  </tbody>\n",
       "</table>\n",
       "<p>3186 rows × 2 columns</p>\n",
       "</div>"
      ],
      "text/plain": [
       "      instance_id music_genre\n",
       "1           72394         Rap\n",
       "3           78331        Rock\n",
       "5           74228       Blues\n",
       "7           78829   Classical\n",
       "8           91469  Electronic\n",
       "...           ...         ...\n",
       "5093        34697         NaN\n",
       "5094        50532         NaN\n",
       "5095        26255         NaN\n",
       "5097        79778         NaN\n",
       "5098        47986         NaN\n",
       "\n",
       "[3186 rows x 2 columns]"
      ]
     },
     "execution_count": 115,
     "metadata": {},
     "output_type": "execute_result"
    }
   ],
   "source": [
    "test"
   ]
  },
  {
   "cell_type": "markdown",
   "id": "208a6329",
   "metadata": {
    "toc": true
   },
   "source": [
    "<h1>Table of Contents<span class=\"tocSkip\"></span></h1>\n",
    "<div class=\"toc\"><ul class=\"toc-item\"><li><span><a href=\"#Ссылка-на-Git\" data-toc-modified-id=\"Ссылка-на-Git-1\"><span class=\"toc-item-num\">1&nbsp;&nbsp;</span>Ссылка на Git</a></span></li><li><span><a href=\"#Описание-проекта\" data-toc-modified-id=\"Описание-проекта-2\"><span class=\"toc-item-num\">2&nbsp;&nbsp;</span>Описание проекта</a></span></li><li><span><a href=\"#Описание-полей-данных\" data-toc-modified-id=\"Описание-полей-данных-3\"><span class=\"toc-item-num\">3&nbsp;&nbsp;</span>Описание полей данных</a></span></li><li><span><a href=\"#Импорт-библиотек\" data-toc-modified-id=\"Импорт-библиотек-4\"><span class=\"toc-item-num\">4&nbsp;&nbsp;</span>Импорт библиотек</a></span></li><li><span><a href=\"#Шаг-1.-Откройте-файлы-с-данными\" data-toc-modified-id=\"Шаг-1.-Откройте-файлы-с-данными-5\"><span class=\"toc-item-num\">5&nbsp;&nbsp;</span>Шаг 1. Откройте файлы с данными</a></span></li><li><span><a href=\"#Шаг-2.-Предобработка-и-исследовательский-анализ-данных\" data-toc-modified-id=\"Шаг-2.-Предобработка-и-исследовательский-анализ-данных-6\"><span class=\"toc-item-num\">6&nbsp;&nbsp;</span>Шаг 2. Предобработка и исследовательский анализ данных</a></span></li><li><span><a href=\"#Шаг-3.-Формулировка-ML-задачи-на-основе-бизнес-задачи\" data-toc-modified-id=\"Шаг-3.-Формулировка-ML-задачи-на-основе-бизнес-задачи-7\"><span class=\"toc-item-num\">7&nbsp;&nbsp;</span>Шаг 3. Формулировка ML-задачи на основе бизнес-задачи</a></span></li><li><span><a href=\"#Корелляционная-матрица\" data-toc-modified-id=\"Корелляционная-матрица-8\"><span class=\"toc-item-num\">8&nbsp;&nbsp;</span>Корелляционная матрица</a></span></li><li><span><a href=\"#Формирование-X_train,X_valid,y_train,y_valid\" data-toc-modified-id=\"Формирование-X_train,X_valid,y_train,y_valid-9\"><span class=\"toc-item-num\">9&nbsp;&nbsp;</span>Формирование X_train,X_valid,y_train,y_valid</a></span></li><li><span><a href=\"#Важность-признаков\" data-toc-modified-id=\"Важность-признаков-10\"><span class=\"toc-item-num\">10&nbsp;&nbsp;</span>Важность признаков</a></span></li><li><span><a href=\"#Подбор-параметров-моделей\" data-toc-modified-id=\"Подбор-параметров-моделей-11\"><span class=\"toc-item-num\">11&nbsp;&nbsp;</span>Подбор параметров моделей</a></span></li><li><span><a href=\"#Лучшие-параметры-для-моделей-ET-и-RF\" data-toc-modified-id=\"Лучшие-параметры-для-моделей-ET-и-RF-12\"><span class=\"toc-item-num\">12&nbsp;&nbsp;</span>Лучшие параметры для моделей ET и RF</a></span></li><li><span><a href=\"#Проверка-лучшей-модели-на-Тестовом-датасете\" data-toc-modified-id=\"Проверка-лучшей-модели-на-Тестовом-датасете-13\"><span class=\"toc-item-num\">13&nbsp;&nbsp;</span>Проверка лучшей модели на Тестовом датасете</a></span></li><li><span><a href=\"#Сохранение-предсказания-в-формате-csv\" data-toc-modified-id=\"Сохранение-предсказания-в-формате-csv-14\"><span class=\"toc-item-num\">14&nbsp;&nbsp;</span>Сохранение предсказания в формате csv</a></span></li><li><span><a href=\"#Итоговый-вывод\" data-toc-modified-id=\"Итоговый-вывод-15\"><span class=\"toc-item-num\">15&nbsp;&nbsp;</span>Итоговый вывод</a></span></li></ul></div>"
   ]
  }
 ],
 "metadata": {
  "hide_input": false,
  "kernelspec": {
   "display_name": "Python 3 (ipykernel)",
   "language": "python",
   "name": "python3"
  },
  "language_info": {
   "codemirror_mode": {
    "name": "ipython",
    "version": 3
   },
   "file_extension": ".py",
   "mimetype": "text/x-python",
   "name": "python",
   "nbconvert_exporter": "python",
   "pygments_lexer": "ipython3",
   "version": "3.9.7"
  },
  "toc": {
   "base_numbering": 1,
   "nav_menu": {},
   "number_sections": true,
   "sideBar": true,
   "skip_h1_title": false,
   "title_cell": "Table of Contents",
   "title_sidebar": "Contents",
   "toc_cell": true,
   "toc_position": {
    "height": "calc(100% - 180px)",
    "left": "10px",
    "top": "150px",
    "width": "355.556px"
   },
   "toc_section_display": true,
   "toc_window_display": true
  }
 },
 "nbformat": 4,
 "nbformat_minor": 5
}
